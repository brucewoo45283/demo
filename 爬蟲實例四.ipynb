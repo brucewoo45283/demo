{
 "cells": [
  {
   "cell_type": "markdown",
   "metadata": {},
   "source": [
    "### 為了能定期追蹤國際疫情爆發新聞，請\n",
    "1. 撰寫一個網路爬蟲抓取世界衛生組織2017年的疫情爆發新聞清單(http://www.who.int/csr/don/archive/year/2017/en/)\n",
    "2. 並將連結、日期、標題與國家整理成一Pandas 的 表格如以下範例：\n",
    "\n",
    "| 連結                                                                             | 標題                                                       | 日期           | 國家         |\n",
    "|----------------------------------------------------------------------------------|------------------------------------------------------------|----------------|--------------|\n",
    "| http://www.who.int/entity/csr/don/17-august-2017-mers-saudi-arabia/en/index.html | Middle East respiratory syndrome coronavirus (MERS-CoV) –  | 17 August 2017 | Saudi Arabia |\n"
   ]
  },
  {
   "cell_type": "markdown",
   "metadata": {},
   "source": [
    "## 抓取頁面資訊"
   ]
  },
  {
   "cell_type": "code",
   "execution_count": 55,
   "metadata": {},
   "outputs": [
    {
     "data": {
      "text/plain": [
       "'utf-8'"
      ]
     },
     "execution_count": 55,
     "metadata": {},
     "output_type": "execute_result"
    }
   ],
   "source": [
    "import requests\n",
    "res = requests.get('http://www.who.int/csr/don/archive/year/2017/en/')\n",
    "res.encoding = 'utf-8'\n",
    "res.encoding"
   ]
  },
  {
   "cell_type": "code",
   "execution_count": 56,
   "metadata": {},
   "outputs": [],
   "source": [
    "#res.text"
   ]
  },
  {
   "cell_type": "markdown",
   "metadata": {},
   "source": [
    "## 將頁面資料丟往剖析器 (BeautifulSoup)"
   ]
  },
  {
   "cell_type": "code",
   "execution_count": 57,
   "metadata": {
    "collapsed": true
   },
   "outputs": [],
   "source": [
    "from bs4 import BeautifulSoup\n",
    "soup = BeautifulSoup(res.text, 'html.parser')"
   ]
  },
  {
   "cell_type": "markdown",
   "metadata": {},
   "source": [
    "## 列印出頁面結果"
   ]
  },
  {
   "cell_type": "code",
   "execution_count": 59,
   "metadata": {},
   "outputs": [
    {
     "name": "stdout",
     "output_type": "stream",
     "text": [
      "Italy Chikungunya http://www.who.int/entity/csr/don/15-september-2017-chikungunya-italy/en/index.html 15 September 2017\n",
      "=========================\n",
      "China Human infection with avian influenza A(H7N9) virus http://www.who.int/entity/csr/don/13-september-2017-ah7n9-china/en/index.html 13 September 2017\n",
      "=========================\n",
      "Oman Middle East respiratory syndrome coronavirus (MERS-CoV) http://www.who.int/entity/csr/don/12-september-2017-mers-oman/en/index.html 12 September 2017\n",
      "=========================\n",
      "Saudi Arabia Middle East respiratory syndrome coronavirus (MERS-CoV) http://www.who.int/entity/csr/don/6-september-2017-mers-saudi-arabia/en/index.html 6 September 2017\n",
      "=========================\n",
      "China Human infection with avian influenza A(H7N9) virus http://www.who.int/entity/csr/don/5-september-2017-ah7n9-china/en/index.html 5 September 2017\n",
      "=========================\n",
      "France – French Guiana Yellow fever http://www.who.int/entity/csr/don/30-august-2017-yellow-fever-french-guiana/en/index.html 30 August 2017\n",
      "=========================\n",
      "United Arab Emirates Middle East respiratory syndrome coronavirus (MERS-CoV) http://www.who.int/entity/csr/don/28-august-2017-mers-uae/en/index.html 28 August 2017\n",
      "=========================\n",
      "France Chikungunya http://www.who.int/entity/csr/don/25-august-2017-chikungunya-france/en/index.html 25 August 2017\n",
      "=========================\n",
      "Saudi Arabia Middle East respiratory syndrome coronavirus (MERS-CoV) http://www.who.int/entity/csr/don/17-august-2017-mers-saudi-arabia/en/index.html 17 August 2017\n",
      "=========================\n",
      "China Human infection with avian influenza A(H7N9) virus http://www.who.int/entity/csr/don/07-august-2017-ah7n9-china/en/index.html 7 August 2017\n",
      "=========================\n",
      "Côte d’Ivoire Dengue fever http://www.who.int/entity/csr/don/04-august-2017-dengue-cote-d-ivoire/en/index.html 4 August 2017\n",
      "=========================\n",
      "Kenya Cholera http://www.who.int/entity/csr/don/21-july-2017-cholera-kenya/en/index.html 21 July 2017\n",
      "=========================\n",
      "Sri Lanka Dengue fever http://www.who.int/entity/csr/don/19-july-2017-dengue-sri-lanka/en/index.html 19 July 2017\n",
      "=========================\n",
      "China Human infection with avian influenza A(H7N9) virus http://www.who.int/entity/csr/don/19-july-2017-ah7n9-china/en/index.html 19 July 2017\n",
      "=========================\n",
      "Nigeria Cholera http://www.who.int/entity/csr/don/12-july-2017-cholera-nigeria/en/index.html 12 July 2017\n",
      "=========================\n",
      "Nigeria Acute hepatitis E http://www.who.int/entity/csr/don/12-july-2017-hepatitis-e-nigeria/en/index.html 12 July 2017\n",
      "=========================\n",
      "Liberia Meningococcal septicaemia associated with attending a funeral http://www.who.int/entity/csr/don/06-july-2017-meningococcal-septicaemia-liberia/en/index.html 6 July 2017\n",
      "=========================\n",
      "Saudi Arabia Middle East respiratory syndrome coronavirus (MERS-CoV) http://www.who.int/entity/csr/don/06-july-2017-mers-saudi-arabia/en/index.html 6 July 2017\n",
      "=========================\n",
      "Lebanon Middle East respiratory syndrome coronavirus (MERS-CoV) http://www.who.int/entity/csr/don/04-july-2017-mers-lebanon/en/index.html 4 July 2017\n",
      "=========================\n",
      "Saudi Arabia Middle East respiratory syndrome coronavirus (MERS-CoV) http://www.who.int/entity/csr/don/28-june-2017-mers-saudi-arabia/en/index.html 28 June 2017\n",
      "=========================\n",
      "China Human infection with avian influenza A(H7N9) virus http://www.who.int/entity/csr/don/28-june-2017-ah7n9-china/en/index.html 28 June 2017\n",
      "=========================\n",
      "Nigeria Lassa Fever http://www.who.int/entity/csr/don/28-june-2017-lassa-fever-nigeria/en/index.html 28 June 2017\n",
      "=========================\n",
      "Saudi Arabia Middle East respiratory syndrome coronavirus (MERS-CoV) http://www.who.int/entity/csr/don/19-june-2017-mers-saudi-arabia/en/index.html 19 June 2017\n",
      "=========================\n",
      "Democratic Republic of the Congo Circulating vaccine-derived poliovirus type 2 http://www.who.int/entity/csr/don/13-June-2017-polio-drc/en/index.html 13 June 2017\n",
      "=========================\n",
      "Saudi Arabia Middle East respiratory syndrome coronavirus (MERS-CoV) http://www.who.int/entity/csr/don/13-june-2017-mers-saudi-arabia/en/index.html 13 June 2017\n",
      "=========================\n",
      "Syrian Arab Republic Circulating vaccine-derived poliovirus type 2 http://www.who.int/entity/csr/don/13-June-2017-polio-syrian-arab-republic/en/index.html 13 June 2017\n",
      "=========================\n",
      "China Human infection with avian influenza A(H7N9) virus http://www.who.int/entity/csr/don/08-june-2017-ah7n9-china/en/index.html 8 June 2017\n",
      "=========================\n",
      "European Region and the Americas Hepatitis A outbreaks mostly affecting men who have sex with men http://www.who.int/entity/csr/don/07-june-2017-hepatitis-a/en/index.html 7 June 2017\n",
      "=========================\n",
      "Saudi Arabia, United Arab Emirates, and Qatar Middle East respiratory syndrome coronavirus (MERS-CoV) http://www.who.int/entity/csr/don/06-june-2017-mers/en/index.html 6 June 2017\n",
      "=========================\n",
      "India Zika virus infection http://www.who.int/entity/csr/don/26-may-2017-zika-ind/en/index.html 26 May 2017\n",
      "=========================\n",
      "China Human infection with avian influenza A(H7N9) virus http://www.who.int/entity/csr/don/23-may-2017-ah7n9-china/en/index.html 23 May 2017\n",
      "=========================\n",
      "China Human infection with avian influenza A(H7N9) virus http://www.who.int/entity/csr/don/18-may-2017-ah7n9-china/en/index.html 18 May 2017\n",
      "=========================\n",
      "Democratic Republic of the Congo  Ebola virus disease http://www.who.int/entity/csr/don/13-may-2017-ebola-drc/en/index.html 13 May 2017\n",
      "=========================\n",
      "China Human infection with avian influenza A(H7N9) virus http://www.who.int/entity/csr/don/09-may-2017-ah7n9-china/en/index.html 9 May 2017\n",
      "=========================\n",
      "Liberia Unexplained cluster of deaths http://www.who.int/entity/csr/don/05-may-2017-unexplained-cluster-of-deaths-liberia/en/index.html 5 May 2017\n",
      "=========================\n",
      "Niger Hepatitis E http://www.who.int/entity/csr/don/05-may-2017-hepatitis-e-niger/en/index.html 5 May 2017\n",
      "=========================\n",
      "China Human infection with avian influenza A(H7N9) virus http://www.who.int/entity/csr/don/01-may-2017-ah7n9-china/en/index.html 1 May 2017\n",
      "=========================\n",
      "Saudi Arabia and Qatar Middle East respiratory syndrome coronavirus (MERS-CoV) http://www.who.int/entity/csr/don/27-april-2017-mers-saudi-arabia-and-qatar/en/index.html 27 April 2017\n",
      "=========================\n",
      "United Arab Emirates Middle East respiratory syndrome coronavirus (MERS-CoV) http://www.who.int/entity/csr/don/24-april-2017-mers-uae/en/index.html 24 April 2017\n",
      "=========================\n",
      "China Human infection with avian influenza A(H7N9) virus http://www.who.int/entity/csr/don/20-april-2017-ah7n9-china/en/index.html 20 April 2017\n",
      "=========================\n",
      "China Human infection with avian influenza A(H7N9) virus http://www.who.int/entity/csr/don/18-april-2017-ah7n9-china/en/index.html 18 April 2017\n",
      "=========================\n",
      "China Human infection with avian influenza A(H7N9) virus http://www.who.int/entity/csr/don/05-april-2017-ah7n9-china/en/index.html 5 April 2017\n",
      "=========================\n",
      "Brazil Yellow fever http://www.who.int/entity/csr/don/04-april-2017-yellow-fever-brazil/en/index.html 4 April 2017\n",
      "=========================\n",
      "Qatar Middle East respiratory syndrome coronavirus (MERS-CoV) http://www.who.int/entity/csr/don/04-april-2017-mers-qatar/en/index.html 4 April 2017\n",
      "=========================\n",
      "Saudi Arabia Middle East respiratory syndrome coronavirus (MERS-CoV) http://www.who.int/entity/csr/don/03-april-2017-mers-saudi-arabia/en/index.html 3 April 2017\n",
      "=========================\n",
      "China Human infection with avian influenza A(H7N9) virus http://www.who.int/entity/csr/don/03-april-2017-ah7n9-china/en/index.html 3 April 2017\n",
      "=========================\n",
      "Suriname Yellow fever http://www.who.int/entity/csr/don/28-march-2017-yellow-fever-suriname/en/index.html 28 March 2017\n",
      "=========================\n",
      "Nigeria Meningococcal disease http://www.who.int/entity/csr/don/24-march-2017-meningococcal-disease-nigeria/en/index.html 24 March 2017\n",
      "=========================\n",
      "China Human infection with avian influenza A(H7N9) virus http://www.who.int/entity/csr/don/23-march-2017-ah7n9-china/en/index.html 23 March 2017\n",
      "=========================\n",
      "Brazil Yellow fever http://www.who.int/entity/csr/don/20-march-2017-yellow-fever-brazil/en/index.html 20 March 2017\n",
      "=========================\n",
      "China Human infection with avian influenza A(H7N9) virus http://www.who.int/entity/csr/don/16-march-2017-ah7n9-china/en/index.html 16 March 2017\n",
      "=========================\n",
      "China Human infection with avian influenza A(H7N9) virus http://www.who.int/entity/csr/don/15-march-2017-ah7n9-china/en/index.html 15 March 2017\n",
      "=========================\n",
      "Saudi Arabia Middle East respiratory syndrome coronavirus (MERS-CoV) http://www.who.int/entity/csr/don/10-march-2017-mers-saudi-arabia/en/index.html 10 March 2017\n",
      "=========================\n",
      "Benin, Togo and Burkina Faso Lassa Fever http://www.who.int/entity/csr/don/10-march-2017-lassa-fever-benin-togo-burkina-faso/en/index.html 10 March 2017\n",
      "=========================\n",
      "Brazil Yellow fever http://www.who.int/entity/csr/don/06-march-2017-yellow-fever-brazil/en/index.html 6 March 2017\n",
      "=========================\n",
      "China Human infection with avian influenza A(H7N9) virus http://www.who.int/entity/csr/don/27-february-2017-ah7n9-china/en/index.html 27 February 2017\n",
      "=========================\n",
      "Brazil Yellow fever http://www.who.int/entity/csr/don/24-february-2017-yellow-fever-brazil/en/index.html 24 February 2017\n",
      "=========================\n",
      "Togo Meningococcal disease http://www.who.int/entity/csr/don/23-february-2017-meningococcal-disease-togo/en/index.html 23 February 2017\n",
      "=========================\n",
      "China Human infection with avian influenza A(H7N9) virus http://www.who.int/entity/csr/don/22-february-2017-ah7n9-china/en/index.html 22 February 2017\n",
      "=========================\n",
      "United States of America and Canada  Seoul virus http://www.who.int/entity/csr/don/20-february-2017-seoulvirus-usa-and-canada/en/index.html 20 February 2017\n",
      "=========================\n",
      "China Human infection with avian influenza A(H7N9) virus http://www.who.int/entity/csr/don/20-february-2017-ah7n9-china/en/index.html 20 February 2017\n",
      "=========================\n",
      "Saudi Arabia Middle East respiratory syndrome coronavirus (MERS-CoV) http://www.who.int/entity/csr/don/10-february-2017-mers-saudi-arabia/en/index.html 10 February 2017\n",
      "=========================\n",
      "Brazil Yellow fever http://www.who.int/entity/csr/don/27-january-2017-yellow-fever-brazil/en/index.html 27 January 2017\n",
      "=========================\n",
      "Saudi Arabia Middle East respiratory syndrome coronavirus (MERS-CoV) http://www.who.int/entity/csr/don/26-january-2017-mers-saudi-arabia/en/index.html 26 January 2017\n",
      "=========================\n",
      "Chad Hepatitis E http://www.who.int/entity/csr/don/24-january-2017-hepatitis-e-chad/en/index.html 24 January 2017\n"
     ]
    },
    {
     "name": "stdout",
     "output_type": "stream",
     "text": [
      "=========================\n",
      "China Human infection with avian influenza A(H7N9) virus http://www.who.int/entity/csr/don/18-january-2017-ah7n9-china/en/index.html 18 January 2017\n",
      "=========================\n",
      "Saudi Arabia Middle East respiratory syndrome coronavirus (MERS-CoV) http://www.who.int/entity/csr/don/17-january-2017-mers-saudi-arabia/en/index.html 17 January 2017\n",
      "=========================\n",
      "China Human infection with avian influenza A(H7N9) virus http://www.who.int/entity/csr/don/17-january-2017-ah7n9-china/en/index.html 17 January 2017\n",
      "=========================\n",
      "Brazil Yellow fever http://www.who.int/entity/csr/don/13-january-2017-yellow-fever-brazil/en/index.html 13 January 2017\n",
      "=========================\n",
      "Madagascar Plague http://www.who.int/entity/csr/don/09-january-2017-plague-mdg/en/index.html 9 January 2017\n",
      "=========================\n",
      "China Human infection with avian influenza A(H7N9) virus http://www.who.int/entity/csr/don/03-january-2017-ah7n9-china/en/index.html 3 January 2017\n",
      "=========================\n"
     ]
    }
   ],
   "source": [
    "domain = 'http://www.who.int'\n",
    "for content in soup.select('.auto_archive li'):\n",
    "    #print(content)\n",
    "    dt        = content.select('a')[0].text\n",
    "    link      = domain + content.select('a')[0]['href']\n",
    "    link_info = content.select('.link_info')[0].text\n",
    "    #print(link_info)\n",
    "    title , country  = link_info.split(' – ', 1)\n",
    "    print(country, title, link, dt)\n",
    "\n",
    "    print('=========================')"
   ]
  },
  {
   "cell_type": "markdown",
   "metadata": {},
   "source": [
    "## 將資料變成字典後存進List 之中"
   ]
  },
  {
   "cell_type": "code",
   "execution_count": 61,
   "metadata": {},
   "outputs": [],
   "source": [
    "domain = 'http://www.who.int'\n",
    "who_list = []\n",
    "for content in soup.select('.auto_archive li'):\n",
    "    dic       = {}\n",
    "    dic['dt']        = content.select('a')[0].text\n",
    "    dic['link']      = domain + content.select('a')[0]['href']\n",
    "    link_info = content.select('.link_info')[0].text\n",
    "    dic['title'] , dic['country']  = link_info.split(' – ', 1)\n",
    "    who_list.append(dic)"
   ]
  },
  {
   "cell_type": "markdown",
   "metadata": {},
   "source": [
    "## 將資料從List 轉變為 DataFrame"
   ]
  },
  {
   "cell_type": "code",
   "execution_count": 64,
   "metadata": {},
   "outputs": [
    {
     "data": {
      "text/html": [
       "<div>\n",
       "<style>\n",
       "    .dataframe thead tr:only-child th {\n",
       "        text-align: right;\n",
       "    }\n",
       "\n",
       "    .dataframe thead th {\n",
       "        text-align: left;\n",
       "    }\n",
       "\n",
       "    .dataframe tbody tr th {\n",
       "        vertical-align: top;\n",
       "    }\n",
       "</style>\n",
       "<table border=\"1\" class=\"dataframe\">\n",
       "  <thead>\n",
       "    <tr style=\"text-align: right;\">\n",
       "      <th></th>\n",
       "      <th>country</th>\n",
       "      <th>dt</th>\n",
       "      <th>link</th>\n",
       "      <th>title</th>\n",
       "    </tr>\n",
       "  </thead>\n",
       "  <tbody>\n",
       "    <tr>\n",
       "      <th>0</th>\n",
       "      <td>Italy</td>\n",
       "      <td>15 September 2017</td>\n",
       "      <td>http://www.who.int/entity/csr/don/15-september...</td>\n",
       "      <td>Chikungunya</td>\n",
       "    </tr>\n",
       "    <tr>\n",
       "      <th>1</th>\n",
       "      <td>China</td>\n",
       "      <td>13 September 2017</td>\n",
       "      <td>http://www.who.int/entity/csr/don/13-september...</td>\n",
       "      <td>Human infection with avian influenza A(H7N9) v...</td>\n",
       "    </tr>\n",
       "    <tr>\n",
       "      <th>2</th>\n",
       "      <td>Oman</td>\n",
       "      <td>12 September 2017</td>\n",
       "      <td>http://www.who.int/entity/csr/don/12-september...</td>\n",
       "      <td>Middle East respiratory syndrome coronavirus (...</td>\n",
       "    </tr>\n",
       "    <tr>\n",
       "      <th>3</th>\n",
       "      <td>Saudi Arabia</td>\n",
       "      <td>6 September 2017</td>\n",
       "      <td>http://www.who.int/entity/csr/don/6-september-...</td>\n",
       "      <td>Middle East respiratory syndrome coronavirus (...</td>\n",
       "    </tr>\n",
       "    <tr>\n",
       "      <th>4</th>\n",
       "      <td>China</td>\n",
       "      <td>5 September 2017</td>\n",
       "      <td>http://www.who.int/entity/csr/don/5-september-...</td>\n",
       "      <td>Human infection with avian influenza A(H7N9) v...</td>\n",
       "    </tr>\n",
       "  </tbody>\n",
       "</table>\n",
       "</div>"
      ],
      "text/plain": [
       "        country                 dt  \\\n",
       "0         Italy  15 September 2017   \n",
       "1         China  13 September 2017   \n",
       "2          Oman  12 September 2017   \n",
       "3  Saudi Arabia   6 September 2017   \n",
       "4         China   5 September 2017   \n",
       "\n",
       "                                                link  \\\n",
       "0  http://www.who.int/entity/csr/don/15-september...   \n",
       "1  http://www.who.int/entity/csr/don/13-september...   \n",
       "2  http://www.who.int/entity/csr/don/12-september...   \n",
       "3  http://www.who.int/entity/csr/don/6-september-...   \n",
       "4  http://www.who.int/entity/csr/don/5-september-...   \n",
       "\n",
       "                                               title  \n",
       "0                                        Chikungunya  \n",
       "1  Human infection with avian influenza A(H7N9) v...  \n",
       "2  Middle East respiratory syndrome coronavirus (...  \n",
       "3  Middle East respiratory syndrome coronavirus (...  \n",
       "4  Human infection with avian influenza A(H7N9) v...  "
      ]
     },
     "execution_count": 64,
     "metadata": {},
     "output_type": "execute_result"
    }
   ],
   "source": [
    "import pandas\n",
    "whodf = pandas.DataFrame(who_list)\n",
    "whodf.head()"
   ]
  },
  {
   "cell_type": "markdown",
   "metadata": {},
   "source": [
    "## 修改欄位順序與名稱"
   ]
  },
  {
   "cell_type": "code",
   "execution_count": 67,
   "metadata": {},
   "outputs": [
    {
     "data": {
      "text/html": [
       "<div>\n",
       "<style>\n",
       "    .dataframe thead tr:only-child th {\n",
       "        text-align: right;\n",
       "    }\n",
       "\n",
       "    .dataframe thead th {\n",
       "        text-align: left;\n",
       "    }\n",
       "\n",
       "    .dataframe tbody tr th {\n",
       "        vertical-align: top;\n",
       "    }\n",
       "</style>\n",
       "<table border=\"1\" class=\"dataframe\">\n",
       "  <thead>\n",
       "    <tr style=\"text-align: right;\">\n",
       "      <th></th>\n",
       "      <th>連結</th>\n",
       "      <th>標題</th>\n",
       "      <th>日期</th>\n",
       "      <th>國家</th>\n",
       "    </tr>\n",
       "  </thead>\n",
       "  <tbody>\n",
       "    <tr>\n",
       "      <th>0</th>\n",
       "      <td>http://www.who.int/entity/csr/don/15-september...</td>\n",
       "      <td>Chikungunya</td>\n",
       "      <td>15 September 2017</td>\n",
       "      <td>Italy</td>\n",
       "    </tr>\n",
       "    <tr>\n",
       "      <th>1</th>\n",
       "      <td>http://www.who.int/entity/csr/don/13-september...</td>\n",
       "      <td>Human infection with avian influenza A(H7N9) v...</td>\n",
       "      <td>13 September 2017</td>\n",
       "      <td>China</td>\n",
       "    </tr>\n",
       "    <tr>\n",
       "      <th>2</th>\n",
       "      <td>http://www.who.int/entity/csr/don/12-september...</td>\n",
       "      <td>Middle East respiratory syndrome coronavirus (...</td>\n",
       "      <td>12 September 2017</td>\n",
       "      <td>Oman</td>\n",
       "    </tr>\n",
       "    <tr>\n",
       "      <th>3</th>\n",
       "      <td>http://www.who.int/entity/csr/don/6-september-...</td>\n",
       "      <td>Middle East respiratory syndrome coronavirus (...</td>\n",
       "      <td>6 September 2017</td>\n",
       "      <td>Saudi Arabia</td>\n",
       "    </tr>\n",
       "    <tr>\n",
       "      <th>4</th>\n",
       "      <td>http://www.who.int/entity/csr/don/5-september-...</td>\n",
       "      <td>Human infection with avian influenza A(H7N9) v...</td>\n",
       "      <td>5 September 2017</td>\n",
       "      <td>China</td>\n",
       "    </tr>\n",
       "  </tbody>\n",
       "</table>\n",
       "</div>"
      ],
      "text/plain": [
       "                                                  連結  \\\n",
       "0  http://www.who.int/entity/csr/don/15-september...   \n",
       "1  http://www.who.int/entity/csr/don/13-september...   \n",
       "2  http://www.who.int/entity/csr/don/12-september...   \n",
       "3  http://www.who.int/entity/csr/don/6-september-...   \n",
       "4  http://www.who.int/entity/csr/don/5-september-...   \n",
       "\n",
       "                                                  標題                 日期  \\\n",
       "0                                        Chikungunya  15 September 2017   \n",
       "1  Human infection with avian influenza A(H7N9) v...  13 September 2017   \n",
       "2  Middle East respiratory syndrome coronavirus (...  12 September 2017   \n",
       "3  Middle East respiratory syndrome coronavirus (...   6 September 2017   \n",
       "4  Human infection with avian influenza A(H7N9) v...   5 September 2017   \n",
       "\n",
       "             國家  \n",
       "0         Italy  \n",
       "1         China  \n",
       "2          Oman  \n",
       "3  Saudi Arabia  \n",
       "4         China  "
      ]
     },
     "execution_count": 67,
     "metadata": {},
     "output_type": "execute_result"
    }
   ],
   "source": [
    "whodf = whodf[['link', 'title', 'dt', 'country']]\n",
    "whodf.columns = ['連結', '標題', '日期' , '國家']\n",
    "whodf.head()"
   ]
  },
  {
   "cell_type": "markdown",
   "metadata": {},
   "source": [
    "## 儲存資料"
   ]
  },
  {
   "cell_type": "code",
   "execution_count": 70,
   "metadata": {},
   "outputs": [],
   "source": [
    "#whodf.to_excel('who_news.xlsx')\n",
    "whodf.to_csv('who_news.csv')"
   ]
  },
  {
   "cell_type": "markdown",
   "metadata": {},
   "source": [
    "## 增加現在時間"
   ]
  },
  {
   "cell_type": "code",
   "execution_count": 71,
   "metadata": {},
   "outputs": [
    {
     "data": {
      "text/plain": [
       "datetime.datetime(2017, 9, 20, 10, 50, 3, 661387)"
      ]
     },
     "execution_count": 71,
     "metadata": {},
     "output_type": "execute_result"
    }
   ],
   "source": [
    "from datetime import datetime\n",
    "datetime.now()"
   ]
  },
  {
   "cell_type": "code",
   "execution_count": 74,
   "metadata": {},
   "outputs": [
    {
     "data": {
      "text/html": [
       "<div>\n",
       "<style>\n",
       "    .dataframe thead tr:only-child th {\n",
       "        text-align: right;\n",
       "    }\n",
       "\n",
       "    .dataframe thead th {\n",
       "        text-align: left;\n",
       "    }\n",
       "\n",
       "    .dataframe tbody tr th {\n",
       "        vertical-align: top;\n",
       "    }\n",
       "</style>\n",
       "<table border=\"1\" class=\"dataframe\">\n",
       "  <thead>\n",
       "    <tr style=\"text-align: right;\">\n",
       "      <th></th>\n",
       "      <th>連結</th>\n",
       "      <th>標題</th>\n",
       "      <th>日期</th>\n",
       "      <th>國家</th>\n",
       "      <th>搜尋時間</th>\n",
       "    </tr>\n",
       "  </thead>\n",
       "  <tbody>\n",
       "    <tr>\n",
       "      <th>0</th>\n",
       "      <td>http://www.who.int/entity/csr/don/15-september...</td>\n",
       "      <td>Chikungunya</td>\n",
       "      <td>15 September 2017</td>\n",
       "      <td>Italy</td>\n",
       "      <td>2017-09-20 10:53:58.711384</td>\n",
       "    </tr>\n",
       "    <tr>\n",
       "      <th>1</th>\n",
       "      <td>http://www.who.int/entity/csr/don/13-september...</td>\n",
       "      <td>Human infection with avian influenza A(H7N9) v...</td>\n",
       "      <td>13 September 2017</td>\n",
       "      <td>China</td>\n",
       "      <td>2017-09-20 10:53:58.726984</td>\n",
       "    </tr>\n",
       "    <tr>\n",
       "      <th>2</th>\n",
       "      <td>http://www.who.int/entity/csr/don/12-september...</td>\n",
       "      <td>Middle East respiratory syndrome coronavirus (...</td>\n",
       "      <td>12 September 2017</td>\n",
       "      <td>Oman</td>\n",
       "      <td>2017-09-20 10:53:58.726984</td>\n",
       "    </tr>\n",
       "    <tr>\n",
       "      <th>3</th>\n",
       "      <td>http://www.who.int/entity/csr/don/6-september-...</td>\n",
       "      <td>Middle East respiratory syndrome coronavirus (...</td>\n",
       "      <td>6 September 2017</td>\n",
       "      <td>Saudi Arabia</td>\n",
       "      <td>2017-09-20 10:53:58.726984</td>\n",
       "    </tr>\n",
       "    <tr>\n",
       "      <th>4</th>\n",
       "      <td>http://www.who.int/entity/csr/don/5-september-...</td>\n",
       "      <td>Human infection with avian influenza A(H7N9) v...</td>\n",
       "      <td>5 September 2017</td>\n",
       "      <td>China</td>\n",
       "      <td>2017-09-20 10:53:58.726984</td>\n",
       "    </tr>\n",
       "  </tbody>\n",
       "</table>\n",
       "</div>"
      ],
      "text/plain": [
       "                                                  連結  \\\n",
       "0  http://www.who.int/entity/csr/don/15-september...   \n",
       "1  http://www.who.int/entity/csr/don/13-september...   \n",
       "2  http://www.who.int/entity/csr/don/12-september...   \n",
       "3  http://www.who.int/entity/csr/don/6-september-...   \n",
       "4  http://www.who.int/entity/csr/don/5-september-...   \n",
       "\n",
       "                                                  標題                 日期  \\\n",
       "0                                        Chikungunya  15 September 2017   \n",
       "1  Human infection with avian influenza A(H7N9) v...  13 September 2017   \n",
       "2  Middle East respiratory syndrome coronavirus (...  12 September 2017   \n",
       "3  Middle East respiratory syndrome coronavirus (...   6 September 2017   \n",
       "4  Human infection with avian influenza A(H7N9) v...   5 September 2017   \n",
       "\n",
       "             國家                       搜尋時間  \n",
       "0         Italy 2017-09-20 10:53:58.711384  \n",
       "1         China 2017-09-20 10:53:58.726984  \n",
       "2          Oman 2017-09-20 10:53:58.726984  \n",
       "3  Saudi Arabia 2017-09-20 10:53:58.726984  \n",
       "4         China 2017-09-20 10:53:58.726984  "
      ]
     },
     "execution_count": 74,
     "metadata": {},
     "output_type": "execute_result"
    }
   ],
   "source": [
    "import requests\n",
    "import pandas\n",
    "from bs4 import BeautifulSoup\n",
    "from datetime import datetime\n",
    "# 存取頁面\n",
    "res = requests.get('http://www.who.int/csr/don/archive/year/2017/en/')\n",
    "# 轉換編碼\n",
    "res.encoding = 'utf-8'\n",
    "# 將資料丟進剖析器\n",
    "soup = BeautifulSoup(res.text, 'html.parser')\n",
    "\n",
    "domain = 'http://www.who.int'\n",
    "who_list = []\n",
    "for content in soup.select('.auto_archive li'):\n",
    "    dic       = {}\n",
    "    dic['dt']        = content.select('a')[0].text\n",
    "    \n",
    "    # 增加搜尋時間\n",
    "    dic['search_dt'] = datetime.now()\n",
    "    \n",
    "    dic['link']      = domain + content.select('a')[0]['href']\n",
    "    link_info = content.select('.link_info')[0].text\n",
    "    dic['title'] , dic['country']  = link_info.split(' – ', 1)\n",
    "    who_list.append(dic)\n",
    "\n",
    "whodf = pandas.DataFrame(who_list)\n",
    "whodf = whodf[['link', 'title', 'dt', 'country', 'search_dt']]\n",
    "whodf.columns = ['連結', '標題', '日期' , '國家', '搜尋時間']\n",
    "whodf.head()"
   ]
  },
  {
   "cell_type": "markdown",
   "metadata": {},
   "source": [
    "## 使用Strip"
   ]
  },
  {
   "cell_type": "code",
   "execution_count": 15,
   "metadata": {},
   "outputs": [
    {
     "data": {
      "text/plain": [
       "'/don/15-september-2017-chikungunya-italy/en/index.html'"
      ]
     },
     "execution_count": 15,
     "metadata": {},
     "output_type": "execute_result"
    }
   ],
   "source": [
    "s = 'csr/don/15-september-2017-chikungunya-italy/en/index.html'\n",
    "s.lstrip('csr')"
   ]
  },
  {
   "cell_type": "code",
   "execution_count": 22,
   "metadata": {},
   "outputs": [
    {
     "data": {
      "text/plain": [
       "'Hello World'"
      ]
     },
     "execution_count": 22,
     "metadata": {},
     "output_type": "execute_result"
    }
   ],
   "source": [
    "s = '           Hello            World            '\n",
    "s.strip()\n",
    "s.lstrip()\n",
    "s.rstrip()\n",
    "\n",
    "s = '大家好, 今天很高興來到疾管署'\n",
    "s.lstrip('大家好')\n",
    "s.replace('大家好', '你們好')\n",
    "\n",
    "s = '           Hello            World            '\n",
    "s.split()\n",
    "' '.join(s.split())"
   ]
  },
  {
   "cell_type": "markdown",
   "metadata": {},
   "source": [
    "## 使用replace"
   ]
  },
  {
   "cell_type": "code",
   "execution_count": 23,
   "metadata": {},
   "outputs": [
    {
     "data": {
      "text/plain": [
       "'你們好, 今天很高興來到疾管署'"
      ]
     },
     "execution_count": 23,
     "metadata": {},
     "output_type": "execute_result"
    }
   ],
   "source": [
    "s = '大家好, 今天很高興來到疾管署'\n",
    "s.replace('大家好', '你們好')"
   ]
  },
  {
   "cell_type": "markdown",
   "metadata": {},
   "source": [
    "## 使用 split + join"
   ]
  },
  {
   "cell_type": "code",
   "execution_count": 24,
   "metadata": {},
   "outputs": [
    {
     "data": {
      "text/plain": [
       "'Hello World'"
      ]
     },
     "execution_count": 24,
     "metadata": {},
     "output_type": "execute_result"
    }
   ],
   "source": [
    "s = '           Hello            World            '\n",
    "s.split()\n",
    "' '.join(s.split())"
   ]
  },
  {
   "cell_type": "markdown",
   "metadata": {},
   "source": [
    "## 使用split + unpacking 技巧"
   ]
  },
  {
   "cell_type": "code",
   "execution_count": 42,
   "metadata": {},
   "outputs": [
    {
     "data": {
      "text/plain": [
       "'Italy'"
      ]
     },
     "execution_count": 42,
     "metadata": {},
     "output_type": "execute_result"
    }
   ],
   "source": [
    "s  = 'Chikungunya â Italy'\n",
    "a = s.split(' â ')\n",
    "a[0]\n",
    "a[1]"
   ]
  },
  {
   "cell_type": "code",
   "execution_count": 43,
   "metadata": {
    "collapsed": true
   },
   "outputs": [],
   "source": [
    "c,d = 1,2"
   ]
  },
  {
   "cell_type": "code",
   "execution_count": 45,
   "metadata": {},
   "outputs": [],
   "source": [
    "title, country = s.split(' â ')"
   ]
  },
  {
   "cell_type": "code",
   "execution_count": 47,
   "metadata": {},
   "outputs": [
    {
     "data": {
      "text/plain": [
       "'Italy'"
      ]
     },
     "execution_count": 47,
     "metadata": {},
     "output_type": "execute_result"
    }
   ],
   "source": [
    "country"
   ]
  },
  {
   "cell_type": "code",
   "execution_count": 52,
   "metadata": {},
   "outputs": [
    {
     "data": {
      "text/plain": [
       "['Yellow fever', 'France â\\x80\\x93 French Guiana']"
      ]
     },
     "execution_count": 52,
     "metadata": {},
     "output_type": "execute_result"
    }
   ],
   "source": [
    "s = 'Yellow fever â France â French Guiana'\n",
    "s.split(' â ', 1)"
   ]
  }
 ],
 "metadata": {
  "kernelspec": {
   "display_name": "Python 3",
   "language": "python",
   "name": "python3"
  },
  "language_info": {
   "codemirror_mode": {
    "name": "ipython",
    "version": 3
   },
   "file_extension": ".py",
   "mimetype": "text/x-python",
   "name": "python",
   "nbconvert_exporter": "python",
   "pygments_lexer": "ipython3",
   "version": "3.6.1"
  }
 },
 "nbformat": 4,
 "nbformat_minor": 2
}
