{
 "cells": [
  {
   "cell_type": "markdown",
   "id": "dc013f6a",
   "metadata": {},
   "source": [
    "# 比對電話號碼"
   ]
  },
  {
   "cell_type": "code",
   "execution_count": 5,
   "id": "2b6b5dca",
   "metadata": {},
   "outputs": [
    {
     "data": {
      "text/plain": [
       "('0912345678',)"
      ]
     },
     "execution_count": 5,
     "metadata": {},
     "output_type": "execute_result"
    }
   ],
   "source": [
    "import re\n",
    "p = '0912345678'\n",
    "# () 可以將比對到的物件放置到tuple\n",
    "m = re.match('(\\d{10})', p) #\\d任意字元{10}有十碼\n",
    "m.groups()\n",
    "\n"
   ]
  },
  {
   "cell_type": "markdown",
   "id": "685992ea",
   "metadata": {},
   "source": [
    "### 比對list中的數字，是否有電話號碼，09開頭8個數字結尾"
   ]
  },
  {
   "cell_type": "code",
   "execution_count": 6,
   "id": "e51e0ca8",
   "metadata": {},
   "outputs": [],
   "source": [
    "phones = ['0912345678', '0912-345678', '0912-345-678','0277458421','0932291928492']"
   ]
  },
  {
   "cell_type": "code",
   "execution_count": 9,
   "id": "2ab2357a",
   "metadata": {},
   "outputs": [
    {
     "name": "stdout",
     "output_type": "stream",
     "text": [
      "('0912345678',)\n",
      "('0277458421',)\n",
      "('0932291928',)\n"
     ]
    }
   ],
   "source": [
    "#sol(1):比對到有連續10個數字\n",
    "for p in phones:\n",
    "    m = re.match('(\\d{10})', p )\n",
    "    if m:\n",
    "        print(m.groups())"
   ]
  },
  {
   "cell_type": "code",
   "execution_count": 10,
   "id": "c1ca799e",
   "metadata": {},
   "outputs": [
    {
     "name": "stdout",
     "output_type": "stream",
     "text": [
      "('0912345678',)\n",
      "('0932291928',)\n"
     ]
    }
   ],
   "source": [
    "#sol(2):比對09 開頭、後面接8個數字，but比對不到 \"-\"\n",
    "for p in phones:\n",
    "    m = re.match('(09\\d{8})', p )  \n",
    "    if m:\n",
    "        print(m.groups())"
   ]
  },
  {
   "cell_type": "code",
   "execution_count": 11,
   "id": "a9e71d39",
   "metadata": {},
   "outputs": [
    {
     "name": "stdout",
     "output_type": "stream",
     "text": [
      "('0912345678',)\n",
      "('0912-345678',)\n",
      "('0912-345-678',)\n",
      "('0932291928',)\n"
     ]
    }
   ],
   "source": [
    "#sol(3):比對中間有\"-\"的電話\n",
    "phones = ['0912345678', '0912-345678', '0912-345-678','0277458421','0932291928492']\n",
    "for p in phones:\n",
    "    m = re.match('(09\\d{2}-{0,1}\\d{3}-{0,1}\\d{3})', p ) #09兩個數字開頭 → -{出現0次或1次} → 任意數字\\d{出現3碼} -{出現0次或1次} → 任意數字\\d{出現3碼}\n",
    "    if m:\n",
    "        print(m.groups())"
   ]
  },
  {
   "cell_type": "code",
   "execution_count": 15,
   "id": "65091239",
   "metadata": {},
   "outputs": [
    {
     "name": "stdout",
     "output_type": "stream",
     "text": [
      "('0912345678',)\n",
      "('0912-345678',)\n",
      "('0912-345-678',)\n",
      "('0932291928',)\n"
     ]
    }
   ],
   "source": [
    "#best sol(4)出現{0,1}次  等價於  ? (\"-\"有出現、沒出現)\n",
    "phones = ['0912345678', '0912-345678', '0912-345-678','0277458421','0932291928492']\n",
    "for p in phones:\n",
    "    m = re.match('(09\\d{2}-?\\d{3}-?\\d{3})', p )\n",
    "    if m:\n",
    "        print(m.groups())"
   ]
  },
  {
   "cell_type": "code",
   "execution_count": 13,
   "id": "966298a7",
   "metadata": {},
   "outputs": [
    {
     "name": "stdout",
     "output_type": "stream",
     "text": [
      "('0912345678',)\n",
      "('0912-345678',)\n",
      "('0912-345-678',)\n"
     ]
    }
   ],
   "source": [
    "#sol(5) ^ 代表限制開頭, $強制結尾\n",
    "phones = ['0912345678', '0912-345678', '0912-345-678','0277458421','0932291928492']\n",
    "for p in phones:\n",
    "    m = re.match('(^09\\d{2}-?\\d{3}-?\\d{3}$)', p ) \n",
    "    if m:\n",
    "        print(m.groups())"
   ]
  },
  {
   "cell_type": "code",
   "execution_count": 14,
   "id": "53397008",
   "metadata": {},
   "outputs": [
    {
     "name": "stdout",
     "output_type": "stream",
     "text": [
      "('0912345678',)\n",
      "('0912-345678',)\n",
      "('0912-345-678',)\n",
      "('0277458421',)\n"
     ]
    }
   ],
   "source": [
    "#sol(6)比對02 或 09開頭的電話\n",
    "phones = ['0912345678', '0912-345678', '0912-345-678','0277458421','0932291928492']\n",
    "for p in phones:\n",
    "    m = re.match('(^0[29]\\d{2}-?\\d{3}-?\\d{3}$)', p )\n",
    "    if m:\n",
    "        print(m.groups())"
   ]
  },
  {
   "cell_type": "markdown",
   "id": "1a06fda8",
   "metadata": {},
   "source": [
    "# 比對身分證字號"
   ]
  },
  {
   "cell_type": "code",
   "execution_count": 16,
   "id": "e1d2a78c",
   "metadata": {},
   "outputs": [
    {
     "data": {
      "text/plain": [
       "<re.Match object; span=(0, 10), match='A140990066'>"
      ]
     },
     "execution_count": 16,
     "metadata": {},
     "output_type": "execute_result"
    }
   ],
   "source": [
    "ID = 'A140990066'\n",
    "import re\n",
    "re.match('[A-Z][12]\\d{8}', ID) #開頭A到Z, 接著一定是1或2，接8碼\n",
    "\n"
   ]
  },
  {
   "cell_type": "markdown",
   "id": "d81fcb84",
   "metadata": {},
   "source": [
    "# 比對VISA"
   ]
  },
  {
   "cell_type": "code",
   "execution_count": 17,
   "id": "15262d72",
   "metadata": {},
   "outputs": [
    {
     "data": {
      "text/plain": [
       "<re.Match object; span=(0, 16), match='4123122412341234'>"
      ]
     },
     "execution_count": 17,
     "metadata": {},
     "output_type": "execute_result"
    }
   ],
   "source": [
    "VISA = '4123122412341234'\n",
    "re.match('^4\\d{15}', VISA)\n"
   ]
  },
  {
   "cell_type": "code",
   "execution_count": 18,
   "id": "701d4fb1",
   "metadata": {},
   "outputs": [
    {
     "data": {
      "text/plain": [
       "<re.Match object; span=(0, 16), match='5123122412341234'>"
      ]
     },
     "execution_count": 18,
     "metadata": {},
     "output_type": "execute_result"
    }
   ],
   "source": [
    "MASTER = '5123122412341234'\n",
    "re.match('^5\\d{15}', MASTER)"
   ]
  },
  {
   "cell_type": "markdown",
   "id": "dbc0cc38",
   "metadata": {},
   "source": [
    "# 比對百家姓"
   ]
  },
  {
   "cell_type": "code",
   "execution_count": 19,
   "id": "a8c05793",
   "metadata": {},
   "outputs": [
    {
     "data": {
      "text/plain": [
       "<re.Match object; span=(0, 3), match='王大明'>"
      ]
     },
     "execution_count": 19,
     "metadata": {},
     "output_type": "execute_result"
    }
   ],
   "source": [
    "name = '王大明'\n",
    "re.match('^[趙錢孫李周吳鄭王馮陳褚衛蔣沈韓楊][\\u4e00-\\u9fa5]{1,3}', name)"
   ]
  },
  {
   "cell_type": "markdown",
   "id": "6e0d6f56",
   "metadata": {},
   "source": [
    "# 比對email"
   ]
  },
  {
   "cell_type": "code",
   "execution_count": 21,
   "id": "fd1f2619",
   "metadata": {},
   "outputs": [
    {
     "name": "stdout",
     "output_type": "stream",
     "text": [
      "david\n",
      "largitdata\n"
     ]
    }
   ],
   "source": [
    "email = 'david@largitdata.com'  \n",
    "# () :可以將比對到的樣式放成一個群組\n",
    "m = re.match('(\\w+)@(\\w+)', email)   #文字出現一個以上、@、文字出現一個以上\n",
    "print(m.group(1))                    # group(1) :將第一個小括號對到的取出\n",
    "print(m.group(2))                    # group(2) :將第二個小括號對到的取出\n",
    "                                     #but 比對不到\".com\""
   ]
  },
  {
   "cell_type": "code",
   "execution_count": 22,
   "id": "1141279c",
   "metadata": {},
   "outputs": [
    {
     "name": "stdout",
     "output_type": "stream",
     "text": [
      "largitdata.com\n"
     ]
    }
   ],
   "source": [
    "# best solution\n",
    "# [\\w.] 可比對 [a-z A-Z 0-9 . ] 包含大小寫英文 數字 還有句號\n",
    "m = re.match('(\\w+)@([\\w.]+)', email)\n",
    "print(m.group(2))"
   ]
  },
  {
   "cell_type": "markdown",
   "id": "19bc63a9",
   "metadata": {},
   "source": [
    "# 取出小數點以後的數字"
   ]
  },
  {
   "cell_type": "code",
   "execution_count": 23,
   "id": "8e3d862c",
   "metadata": {},
   "outputs": [
    {
     "data": {
      "text/plain": [
       "('1999', '5')"
      ]
     },
     "execution_count": 23,
     "metadata": {},
     "output_type": "execute_result"
    }
   ],
   "source": [
    "n = '1999.5'\n",
    "# 特殊符號 ()[]{}.^$\n",
    "# . 代表任意字元 , 假設我只想單純比對句號，不要比對到其他符號 →  \\.\n",
    "m = re.match('(\\d+)\\.(\\d+)', n )\n",
    "m.groups()"
   ]
  },
  {
   "cell_type": "markdown",
   "id": "bc162742",
   "metadata": {},
   "source": [
    "# 拆解名字"
   ]
  },
  {
   "cell_type": "code",
   "execution_count": 24,
   "id": "900ab826",
   "metadata": {},
   "outputs": [
    {
     "name": "stdout",
     "output_type": "stream",
     "text": [
      "('David', 'Chiu')\n",
      "David\n",
      "Chiu\n"
     ]
    }
   ],
   "source": [
    "name = 'David Chiu'\n",
    "m = re.match('(\\w+) (\\w+)', name)\n",
    "print(m.groups())\n",
    "print(m.group(1))\n",
    "print(m.group(2))\n",
    "\n",
    "\n"
   ]
  },
  {
   "cell_type": "code",
   "execution_count": 26,
   "id": "c3cfba8d",
   "metadata": {},
   "outputs": [
    {
     "name": "stdout",
     "output_type": "stream",
     "text": [
      "David\n",
      "Chiu\n"
     ]
    }
   ],
   "source": [
    "#?P 不用根據位置來取\n",
    "m = re.match('(?P<first_name>\\w+) (?P<last_name>\\w+)', name)\n",
    "print(m.group('first_name'))\n",
    "print(m.group('last_name'))"
   ]
  },
  {
   "cell_type": "markdown",
   "id": "c556795d",
   "metadata": {},
   "source": [
    "# 剖析Linux"
   ]
  },
  {
   "cell_type": "code",
   "execution_count": 27,
   "id": "d21bb590",
   "metadata": {},
   "outputs": [
    {
     "name": "stdout",
     "output_type": "stream",
     "text": [
      "file.txt root 10.0.0.1 ./\n"
     ]
    }
   ],
   "source": [
    "str1='scp file.txt root@10.0.0.1:./'\n",
    "m=re.match('^scp ([\\w.]+) (\\w+)@([\\d.]+):(.+)',str1)\n",
    "if m:\n",
    "    print(m.group(1),m.group(2),m.group(3),m.group(4))"
   ]
  },
  {
   "cell_type": "markdown",
   "id": "bfb77e5a",
   "metadata": {},
   "source": [
    "# 從一串文字，抓出電話號碼"
   ]
  },
  {
   "cell_type": "code",
   "execution_count": 28,
   "id": "b487dfbc",
   "metadata": {},
   "outputs": [],
   "source": [
    "a = ' 商用產品服務支援. 聯絡電話: 企業客戶免付費服務專線 0809-005-237. 聯絡信箱: 產品諮詢信箱. Email. 售後服務信箱. Email. 一般問題'"
   ]
  },
  {
   "cell_type": "code",
   "execution_count": 31,
   "id": "bbc2caea",
   "metadata": {},
   "outputs": [],
   "source": [
    "#SOL1\n",
    "# match:必須比對到整個字串，實務上少用\n",
    "m = re.match('(08\\d{2}-?\\d{3}-?\\d{3})', a )\n"
   ]
  },
  {
   "cell_type": "code",
   "execution_count": 32,
   "id": "7a83bca3",
   "metadata": {},
   "outputs": [
    {
     "data": {
      "text/plain": [
       "'0809-005-237'"
      ]
     },
     "execution_count": 32,
     "metadata": {},
     "output_type": "execute_result"
    }
   ],
   "source": [
    "#Sol2 .search 只需要比對到部分字串\n",
    "m = re.search('08\\d{2}-?\\d{3}-?\\d{3}', a )\n",
    "m.group(0)"
   ]
  },
  {
   "cell_type": "code",
   "execution_count": 33,
   "id": "f3b01152",
   "metadata": {},
   "outputs": [],
   "source": [
    "#example\n",
    "HTC = '客服專線: 0809-090-166 手機請直撥: 02-2162-6788 . 週一至週六10AM-7PM Monday to Sat 10AM-7PM . 支援. 電話. 台灣. © 2017 宏達國際電子股份有限公司'"
   ]
  },
  {
   "cell_type": "code",
   "execution_count": 34,
   "id": "25f4d769",
   "metadata": {},
   "outputs": [
    {
     "data": {
      "text/plain": [
       "['0809-090-166', '02-2162-6788']"
      ]
     },
     "execution_count": 34,
     "metadata": {},
     "output_type": "execute_result"
    }
   ],
   "source": [
    "# 使用findall 找尋所有能比對到的樣式\n",
    "m = re.findall('0[\\d-]{10,12}', HTC)\n",
    "m"
   ]
  },
  {
   "cell_type": "markdown",
   "id": "1ca69504",
   "metadata": {},
   "source": [
    "# 抽取網址"
   ]
  },
  {
   "cell_type": "code",
   "execution_count": 36,
   "id": "d3c0b82e",
   "metadata": {},
   "outputs": [],
   "source": [
    "#example\n",
    "report ='''\n",
    "<a href='javascript: open_report(\"/wahis_2/public/wahid.php/Reviewreport/Review?page_refer=MapFullEventReport&amp;\",21433);'>\n",
    "                            <img height=\"16px\" width=\"16px\" src=\"/wahis_2/public/images/view.gif\" border=\"0\">\n",
    "                            Full report\n",
    "                             </a>\n",
    "'''\n",
    "\n"
   ]
  },
  {
   "cell_type": "code",
   "execution_count": 39,
   "id": "390d011e",
   "metadata": {},
   "outputs": [
    {
     "name": "stdout",
     "output_type": "stream",
     "text": [
      "\"/wahis_2/public/wahid.php/Reviewreport/Review?page_refer=MapFullEventReport&amp;\"\n",
      "21433\n"
     ]
    }
   ],
   "source": [
    "#sol(1)\n",
    "m = re.search('open_report\\((.*?),(\\d+)\\);', report)\n",
    "#m = re.search('open_report\\((.*),(.+)\\);', report)\n",
    "print(m.group(1))\n",
    "print(m.group(2))\n"
   ]
  },
  {
   "cell_type": "code",
   "execution_count": 40,
   "id": "9fdcd668",
   "metadata": {},
   "outputs": [
    {
     "name": "stdout",
     "output_type": "stream",
     "text": [
      "\"/wahis_2/public/wahid.php/Reviewreport/Review?page_refer=MapFullEventReport&amp;\"\n",
      "21433\n"
     ]
    }
   ],
   "source": [
    "#sol(2)\n",
    "m = re.search('open_report\\((?P<URL>.*?),(?P<REPORTID>\\d+)\\);', report)\n",
    "print(m.group('URL'))\n",
    "print(m.group('REPORTID'))"
   ]
  },
  {
   "cell_type": "code",
   "execution_count": null,
   "id": "9c2657ff",
   "metadata": {},
   "outputs": [],
   "source": []
  }
 ],
 "metadata": {
  "kernelspec": {
   "display_name": "Python 3",
   "language": "python",
   "name": "python3"
  },
  "language_info": {
   "codemirror_mode": {
    "name": "ipython",
    "version": 3
   },
   "file_extension": ".py",
   "mimetype": "text/x-python",
   "name": "python",
   "nbconvert_exporter": "python",
   "pygments_lexer": "ipython3",
   "version": "3.8.8"
  }
 },
 "nbformat": 4,
 "nbformat_minor": 5
}
