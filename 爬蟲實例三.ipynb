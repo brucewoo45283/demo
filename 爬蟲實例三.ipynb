{
 "cells": [
  {
   "cell_type": "markdown",
   "metadata": {},
   "source": [
    "## OIE.INT\n",
    "- http://www.oie.int/wahis_2/public/wahid.php/Diseaseinformation/Immsummary"
   ]
  },
  {
   "cell_type": "markdown",
   "metadata": {},
   "source": [
    "### 使用requests 取得列表頁面"
   ]
  },
  {
   "cell_type": "code",
   "execution_count": 1,
   "metadata": {
    "collapsed": true
   },
   "outputs": [],
   "source": [
    "import requests\n",
    "url = 'http://www.oie.int/wahis_2/public/wahid.php/Diseaseinformation/Immsummary'\n",
    "\n",
    "payload = {\n",
    "'disease_type_hidden':'0',\n",
    "'disease_id_hidden':'15',\n",
    "'selected_disease_name_hidden':'Highly path. avian influenza (- -) ',\n",
    "'disease_type':'0',\n",
    "'disease_id_terrestrial':'15',\n",
    "'disease_id_aquatic':'-999',\n",
    "'year':'2017'\n",
    "}\n",
    "\n",
    "res = requests.post(url, data=payload)"
   ]
  },
  {
   "cell_type": "markdown",
   "metadata": {},
   "source": [
    "### 使用BeautfulSoup 剖析頁面"
   ]
  },
  {
   "cell_type": "code",
   "execution_count": 4,
   "metadata": {
    "collapsed": true
   },
   "outputs": [],
   "source": [
    "from bs4 import BeautifulSoup\n",
    "soup = BeautifulSoup(res.text, 'html.parser')"
   ]
  },
  {
   "cell_type": "markdown",
   "metadata": {},
   "source": [
    "### 取得報告連結"
   ]
  },
  {
   "cell_type": "code",
   "execution_count": 15,
   "metadata": {
    "collapsed": true
   },
   "outputs": [],
   "source": [
    "alinks = soup.select('.vacborder a')"
   ]
  },
  {
   "cell_type": "markdown",
   "metadata": {},
   "source": [
    "### 取得報告內頁摘要"
   ]
  },
  {
   "cell_type": "code",
   "execution_count": 63,
   "metadata": {},
   "outputs": [
    {
     "data": {
      "text/plain": [
       "datetime.datetime(2017, 8, 23, 10, 38, 40, 709239)"
      ]
     },
     "execution_count": 63,
     "metadata": {},
     "output_type": "execute_result"
    }
   ],
   "source": [
    "#取得現在時間\n",
    "from datetime import datetime\n",
    "datetime.now()"
   ]
  },
  {
   "cell_type": "code",
   "execution_count": 74,
   "metadata": {
    "collapsed": true
   },
   "outputs": [],
   "source": [
    "reportURL = 'http://www.oie.int/wahis_2/public/wahid.php/Reviewreport/Review?page_refer=MapFullEventReport&reportid={}'\n",
    "\n",
    "def getReportDetail(reportID):\n",
    "    url  = reportURL.format(reportID)\n",
    "    res  = requests.get(url)\n",
    "    soup = BeautifulSoup(res.text, 'html.parser')\n",
    "    country = soup.select('.Rap12-Subtitle')[0].contents[-1]\n",
    "    \n",
    "    # 使用prettify 可將 tag 轉換成字串\n",
    "    dfs  = pandas.read_html(soup.select('.TableFoyers')[0].prettify())\n",
    "    \n",
    "    # 將資料轉置\n",
    "    df = dfs[0].T\n",
    "    # 將第一列變成欄位名\n",
    "    df.columns = df.ix[0,]\n",
    "    # 將第一列刪除\n",
    "    df = df.drop(0)\n",
    "    # 增添國家資訊\n",
    "    df['country'] = country\n",
    "    \n",
    "    # 增添抓取時間\n",
    "    df['search_time'] = datetime.now()\n",
    "    \n",
    "    #增添reportID\n",
    "    df['reportID']  = reportID\n",
    "    \n",
    "    # 增添 reportURL\n",
    "    df['reportURL'] = url\n",
    "    return df"
   ]
  },
  {
   "cell_type": "markdown",
   "metadata": {},
   "source": [
    "### 根據每個報告連結取得內文摘要"
   ]
  },
  {
   "cell_type": "code",
   "execution_count": 75,
   "metadata": {},
   "outputs": [
    {
     "name": "stderr",
     "output_type": "stream",
     "text": [
      "C:\\ProgramData\\Anaconda3\\lib\\site-packages\\ipykernel_launcher.py:15: DeprecationWarning: \n",
      ".ix is deprecated. Please use\n",
      ".loc for label based indexing or\n",
      ".iloc for positional indexing\n",
      "\n",
      "See the documentation here:\n",
      "http://pandas.pydata.org/pandas-docs/stable/indexing.html#deprecate_ix\n",
      "  from ipykernel import kernelapp as app\n"
     ]
    }
   ],
   "source": [
    "import re\n",
    "\n",
    "\n",
    "cnt = 0\n",
    "report_ary = []\n",
    "for link in alinks:\n",
    "    if 'MapFullEventReport' in link['href']:\n",
    "        # method 1: use split and strip\n",
    "        reportid = link['href'].split(',',)[1].strip(');')\n",
    "        report_ary.append(getReportDetail(reportid))\n",
    "        \n",
    "        # 當取得第五份報告時, 停止, 如果要取得所有報告, 就把下面程式碼拿掉\n",
    "        cnt = cnt + 1\n",
    "        if cnt == 5:\n",
    "            break\n",
    "        \n",
    "        # method 2: use regular expression\n",
    "        #m = re.match('javascript: open_report\\(\"(.*?)\",(\\d+)\\);', link['href'])\n",
    "        #print(m.groups())"
   ]
  },
  {
   "cell_type": "markdown",
   "metadata": {},
   "source": [
    "### 使用Pandas 合併報告"
   ]
  },
  {
   "cell_type": "code",
   "execution_count": 77,
   "metadata": {},
   "outputs": [
    {
     "data": {
      "text/html": [
       "<div>\n",
       "<style>\n",
       "    .dataframe thead tr:only-child th {\n",
       "        text-align: right;\n",
       "    }\n",
       "\n",
       "    .dataframe thead th {\n",
       "        text-align: left;\n",
       "    }\n",
       "\n",
       "    .dataframe tbody tr th {\n",
       "        vertical-align: top;\n",
       "    }\n",
       "</style>\n",
       "<table border=\"1\" class=\"dataframe\">\n",
       "  <thead>\n",
       "    <tr style=\"text-align: right;\">\n",
       "      <th></th>\n",
       "      <th>reportID</th>\n",
       "      <th>reportURL</th>\n",
       "      <th>search_time</th>\n",
       "      <th>Causal agent</th>\n",
       "      <th>Date event resolved</th>\n",
       "      <th>Date of confirmation of the event</th>\n",
       "      <th>Date of previous occurrence</th>\n",
       "      <th>Date of start of the event</th>\n",
       "      <th>Date submitted to OIE</th>\n",
       "      <th>Manifestation of disease</th>\n",
       "      <th>Nature of diagnosis</th>\n",
       "      <th>Reason for notification</th>\n",
       "      <th>Related reports</th>\n",
       "      <th>Report date</th>\n",
       "      <th>Report type</th>\n",
       "      <th>Serotype</th>\n",
       "      <th>This event pertains to</th>\n",
       "      <th>country</th>\n",
       "    </tr>\n",
       "  </thead>\n",
       "  <tbody>\n",
       "    <tr>\n",
       "      <th>1</th>\n",
       "      <td>21433</td>\n",
       "      <td>http://www.oie.int/wahis_2/public/wahid.php/Re...</td>\n",
       "      <td>2017-08-23 10:52:27.221628</td>\n",
       "      <td>Highly pathogenic avian influenza virus</td>\n",
       "      <td>19/01/2017</td>\n",
       "      <td>30/10/2016</td>\n",
       "      <td>NaN</td>\n",
       "      <td>20/10/2016</td>\n",
       "      <td>02/11/2016</td>\n",
       "      <td>NaN</td>\n",
       "      <td>Clinical, Laboratory (advanced)</td>\n",
       "      <td>First occurrence of a listed disease in the co...</td>\n",
       "      <td>Immediate notification (02/11/2016)  Follow-up...</td>\n",
       "      <td>02/11/2016</td>\n",
       "      <td>Immediate notification</td>\n",
       "      <td>H7N1</td>\n",
       "      <td>a defined zone within the country</td>\n",
       "      <td>Algeria</td>\n",
       "    </tr>\n",
       "    <tr>\n",
       "      <th>1</th>\n",
       "      <td>21489</td>\n",
       "      <td>http://www.oie.int/wahis_2/public/wahid.php/Re...</td>\n",
       "      <td>2017-08-23 10:52:32.695203</td>\n",
       "      <td>Highly pathogenic avian influenza virus</td>\n",
       "      <td>28/04/2017</td>\n",
       "      <td>09/11/2016</td>\n",
       "      <td>26/04/2006</td>\n",
       "      <td>07/11/2016</td>\n",
       "      <td>10/11/2016</td>\n",
       "      <td>Clinical disease</td>\n",
       "      <td>Laboratory (advanced)</td>\n",
       "      <td>Recurrence of a listed disease</td>\n",
       "      <td>Immediate notification (10/11/2016)  Follow-up...</td>\n",
       "      <td>10/11/2016</td>\n",
       "      <td>Immediate notification</td>\n",
       "      <td>H5N8</td>\n",
       "      <td>a defined zone within the country</td>\n",
       "      <td>Austria</td>\n",
       "    </tr>\n",
       "    <tr>\n",
       "      <th>1</th>\n",
       "      <td>21520</td>\n",
       "      <td>http://www.oie.int/wahis_2/public/wahid.php/Re...</td>\n",
       "      <td>2017-08-23 10:52:38.157587</td>\n",
       "      <td>Highly pathogenic avian influenza virus</td>\n",
       "      <td>20/02/2017</td>\n",
       "      <td>11/11/2016</td>\n",
       "      <td>26/04/2006</td>\n",
       "      <td>09/11/2016</td>\n",
       "      <td>11/11/2016</td>\n",
       "      <td>Clinical disease</td>\n",
       "      <td>Laboratory (advanced)</td>\n",
       "      <td>Recurrence of a listed disease</td>\n",
       "      <td>Immediate notification (11/11/2016)  Follow-up...</td>\n",
       "      <td>11/11/2016</td>\n",
       "      <td>Immediate notification</td>\n",
       "      <td>H5N8</td>\n",
       "      <td>a defined zone within the country</td>\n",
       "      <td>Austria</td>\n",
       "    </tr>\n",
       "    <tr>\n",
       "      <th>1</th>\n",
       "      <td>22467</td>\n",
       "      <td>http://www.oie.int/wahis_2/public/wahid.php/Re...</td>\n",
       "      <td>2017-08-23 10:52:43.590260</td>\n",
       "      <td>Highly Pathogenic Avian Influenza virus</td>\n",
       "      <td>NaN</td>\n",
       "      <td>16/01/2017</td>\n",
       "      <td>04/02/2016</td>\n",
       "      <td>15/01/2017</td>\n",
       "      <td>21/01/2017</td>\n",
       "      <td>Clinical disease</td>\n",
       "      <td>Clinical, Laboratory (basic), Laboratory (adva...</td>\n",
       "      <td>Recurrence of a listed disease</td>\n",
       "      <td>Immediate notification (21/01/2017)  Follow-up...</td>\n",
       "      <td>21/01/2017</td>\n",
       "      <td>Immediate notification</td>\n",
       "      <td>H5N1</td>\n",
       "      <td>a defined zone within the country</td>\n",
       "      <td>Bangladesh</td>\n",
       "    </tr>\n",
       "    <tr>\n",
       "      <th>1</th>\n",
       "      <td>24102</td>\n",
       "      <td>http://www.oie.int/wahis_2/public/wahid.php/Re...</td>\n",
       "      <td>2017-08-23 10:52:49.307737</td>\n",
       "      <td>Highly pathogenic avian influenza virus</td>\n",
       "      <td>NaN</td>\n",
       "      <td>16/06/2017</td>\n",
       "      <td>28/03/2017</td>\n",
       "      <td>10/06/2017</td>\n",
       "      <td>19/06/2017</td>\n",
       "      <td>Clinical disease</td>\n",
       "      <td>Clinical, Laboratory (advanced), Necropsy</td>\n",
       "      <td>Recurrence of a listed disease</td>\n",
       "      <td>Immediate notification (19/06/2017)  Follow-up...</td>\n",
       "      <td>19/06/2017</td>\n",
       "      <td>Immediate notification</td>\n",
       "      <td>H5N8</td>\n",
       "      <td>a defined zone within the country</td>\n",
       "      <td>Belgium</td>\n",
       "    </tr>\n",
       "  </tbody>\n",
       "</table>\n",
       "</div>"
      ],
      "text/plain": [
       "  reportID                                          reportURL  \\\n",
       "1    21433  http://www.oie.int/wahis_2/public/wahid.php/Re...   \n",
       "1    21489  http://www.oie.int/wahis_2/public/wahid.php/Re...   \n",
       "1    21520  http://www.oie.int/wahis_2/public/wahid.php/Re...   \n",
       "1    22467  http://www.oie.int/wahis_2/public/wahid.php/Re...   \n",
       "1    24102  http://www.oie.int/wahis_2/public/wahid.php/Re...   \n",
       "\n",
       "                 search_time                             Causal agent  \\\n",
       "1 2017-08-23 10:52:27.221628  Highly pathogenic avian influenza virus   \n",
       "1 2017-08-23 10:52:32.695203  Highly pathogenic avian influenza virus   \n",
       "1 2017-08-23 10:52:38.157587  Highly pathogenic avian influenza virus   \n",
       "1 2017-08-23 10:52:43.590260  Highly Pathogenic Avian Influenza virus   \n",
       "1 2017-08-23 10:52:49.307737  Highly pathogenic avian influenza virus   \n",
       "\n",
       "  Date event resolved Date of confirmation of the event  \\\n",
       "1          19/01/2017                        30/10/2016   \n",
       "1          28/04/2017                        09/11/2016   \n",
       "1          20/02/2017                        11/11/2016   \n",
       "1                 NaN                        16/01/2017   \n",
       "1                 NaN                        16/06/2017   \n",
       "\n",
       "  Date of previous occurrence Date of start of the event  \\\n",
       "1                         NaN                 20/10/2016   \n",
       "1                  26/04/2006                 07/11/2016   \n",
       "1                  26/04/2006                 09/11/2016   \n",
       "1                  04/02/2016                 15/01/2017   \n",
       "1                  28/03/2017                 10/06/2017   \n",
       "\n",
       "  Date submitted to OIE Manifestation of disease  \\\n",
       "1            02/11/2016                      NaN   \n",
       "1            10/11/2016         Clinical disease   \n",
       "1            11/11/2016         Clinical disease   \n",
       "1            21/01/2017         Clinical disease   \n",
       "1            19/06/2017         Clinical disease   \n",
       "\n",
       "                                 Nature of diagnosis  \\\n",
       "1                    Clinical, Laboratory (advanced)   \n",
       "1                              Laboratory (advanced)   \n",
       "1                              Laboratory (advanced)   \n",
       "1  Clinical, Laboratory (basic), Laboratory (adva...   \n",
       "1          Clinical, Laboratory (advanced), Necropsy   \n",
       "\n",
       "                             Reason for notification  \\\n",
       "1  First occurrence of a listed disease in the co...   \n",
       "1                     Recurrence of a listed disease   \n",
       "1                     Recurrence of a listed disease   \n",
       "1                     Recurrence of a listed disease   \n",
       "1                     Recurrence of a listed disease   \n",
       "\n",
       "                                     Related reports Report date  \\\n",
       "1  Immediate notification (02/11/2016)  Follow-up...  02/11/2016   \n",
       "1  Immediate notification (10/11/2016)  Follow-up...  10/11/2016   \n",
       "1  Immediate notification (11/11/2016)  Follow-up...  11/11/2016   \n",
       "1  Immediate notification (21/01/2017)  Follow-up...  21/01/2017   \n",
       "1  Immediate notification (19/06/2017)  Follow-up...  19/06/2017   \n",
       "\n",
       "              Report type Serotype             This event pertains to  \\\n",
       "1  Immediate notification     H7N1  a defined zone within the country   \n",
       "1  Immediate notification     H5N8  a defined zone within the country   \n",
       "1  Immediate notification     H5N8  a defined zone within the country   \n",
       "1  Immediate notification     H5N1  a defined zone within the country   \n",
       "1  Immediate notification     H5N8  a defined zone within the country   \n",
       "\n",
       "      country  \n",
       "1     Algeria  \n",
       "1     Austria  \n",
       "1     Austria  \n",
       "1  Bangladesh  \n",
       "1     Belgium  "
      ]
     },
     "execution_count": 77,
     "metadata": {},
     "output_type": "execute_result"
    }
   ],
   "source": [
    "reportdf = pandas.concat(report_ary)\n",
    "reportdf.columns\n",
    "reportdf = reportdf[(['reportID', 'reportURL', 'search_time', 'Causal agent', 'Date event resolved',\n",
    "       'Date of confirmation of the event', 'Date of previous occurrence',\n",
    "       'Date of start of the event', 'Date submitted to OIE',\n",
    "       'Manifestation of disease', 'Nature of diagnosis',\n",
    "       'Reason for notification', 'Related reports', 'Report date',\n",
    "       'Report type', 'Serotype', 'This event pertains to', 'country'])]\n",
    "reportdf.head()"
   ]
  },
  {
   "cell_type": "markdown",
   "metadata": {},
   "source": [
    "### 使用Pandas匯出報告"
   ]
  },
  {
   "cell_type": "code",
   "execution_count": 68,
   "metadata": {
    "collapsed": true
   },
   "outputs": [],
   "source": [
    "reportdf.to_excel('HPAI.xlsx')"
   ]
  },
  {
   "cell_type": "markdown",
   "metadata": {},
   "source": [
    "### ==========以下為實驗==========="
   ]
  },
  {
   "cell_type": "code",
   "execution_count": 50,
   "metadata": {},
   "outputs": [
    {
     "data": {
      "text/plain": [
       "[<div class=\"Rap12-Subtitle\">Highly pathogenic avian influenza,<br/>Algeria</div>]"
      ]
     },
     "execution_count": 50,
     "metadata": {},
     "output_type": "execute_result"
    }
   ],
   "source": [
    "res  = requests.get('http://www.oie.int/wahis_2/public/wahid.php/Reviewreport/Review?page_refer=MapFullEventReport&reportid=21433')\n",
    "soup = BeautifulSoup(res.text, 'html.parser')\n",
    "soup.select('.Rap12-Subtitle')"
   ]
  },
  {
   "cell_type": "code",
   "execution_count": 55,
   "metadata": {},
   "outputs": [
    {
     "data": {
      "text/plain": [
       "'Algeria'"
      ]
     },
     "execution_count": 55,
     "metadata": {},
     "output_type": "execute_result"
    }
   ],
   "source": [
    "soup.select('.Rap12-Subtitle')[0].contents[-1]"
   ]
  },
  {
   "cell_type": "code",
   "execution_count": 73,
   "metadata": {},
   "outputs": [
    {
     "data": {
      "text/plain": [
       "bs4.element.Tag"
      ]
     },
     "execution_count": 73,
     "metadata": {},
     "output_type": "execute_result"
    }
   ],
   "source": [
    "a = '<a  href=\"#\" qoo=123 class=\"ok\">123</a>'\n",
    "soup2 = BeautifulSoup(a, 'html.parser')\n",
    "type(soup2.select('a')[0])"
   ]
  },
  {
   "cell_type": "markdown",
   "metadata": {},
   "source": [
    "## 使用Numpy"
   ]
  },
  {
   "cell_type": "code",
   "execution_count": 81,
   "metadata": {},
   "outputs": [
    {
     "name": "stdout",
     "output_type": "stream",
     "text": [
      "0 1 2 2\n",
      "1 3 4 12\n",
      "2 5 6 30\n",
      "3 7 8 56\n",
      "4 9 10 90\n"
     ]
    }
   ],
   "source": [
    "a = [1,3,5,7,9]\n",
    "b = [2,4,6,8,10]\n",
    "\n",
    "for i in range(0, len(a)):\n",
    "    print(i, a[i], b[i], a[i] * b[i])"
   ]
  },
  {
   "cell_type": "code",
   "execution_count": 83,
   "metadata": {},
   "outputs": [
    {
     "name": "stdout",
     "output_type": "stream",
     "text": [
      "(1, 2)\n",
      "(3, 4)\n",
      "(5, 6)\n",
      "(7, 8)\n",
      "(9, 10)\n"
     ]
    }
   ],
   "source": [
    "for ele in zip(a,b):\n",
    "    print(ele)"
   ]
  },
  {
   "cell_type": "code",
   "execution_count": 84,
   "metadata": {},
   "outputs": [
    {
     "data": {
      "text/plain": [
       "1"
      ]
     },
     "execution_count": 84,
     "metadata": {},
     "output_type": "execute_result"
    }
   ],
   "source": [
    "i,j = (1,2)\n",
    "i"
   ]
  },
  {
   "cell_type": "code",
   "execution_count": 85,
   "metadata": {},
   "outputs": [
    {
     "name": "stdout",
     "output_type": "stream",
     "text": [
      "3\n",
      "7\n",
      "11\n",
      "15\n",
      "19\n"
     ]
    }
   ],
   "source": [
    "for i,j in zip(a,b):\n",
    "    print(i + j)"
   ]
  },
  {
   "cell_type": "code",
   "execution_count": 86,
   "metadata": {},
   "outputs": [
    {
     "data": {
      "text/plain": [
       "array([ 3,  7, 11, 15, 19])"
      ]
     },
     "execution_count": 86,
     "metadata": {},
     "output_type": "execute_result"
    }
   ],
   "source": [
    "import numpy\n",
    "na = numpy.array(a)\n",
    "nb = numpy.array(b)\n",
    "na + nb"
   ]
  },
  {
   "cell_type": "code",
   "execution_count": 87,
   "metadata": {},
   "outputs": [
    {
     "data": {
      "text/plain": [
       "1"
      ]
     },
     "execution_count": 87,
     "metadata": {},
     "output_type": "execute_result"
    }
   ],
   "source": [
    "import numpy as np\n",
    "na = np.array([1,2,3,4,5])\n",
    "na[0]"
   ]
  },
  {
   "cell_type": "code",
   "execution_count": 88,
   "metadata": {},
   "outputs": [
    {
     "data": {
      "text/plain": [
       "array([2, 3])"
      ]
     },
     "execution_count": 88,
     "metadata": {},
     "output_type": "execute_result"
    }
   ],
   "source": [
    "na[1:3]"
   ]
  },
  {
   "cell_type": "code",
   "execution_count": 90,
   "metadata": {},
   "outputs": [
    {
     "data": {
      "text/plain": [
       "array([False, False, False,  True,  True], dtype=bool)"
      ]
     },
     "execution_count": 90,
     "metadata": {},
     "output_type": "execute_result"
    }
   ],
   "source": [
    "na > 3"
   ]
  },
  {
   "cell_type": "code",
   "execution_count": 91,
   "metadata": {},
   "outputs": [
    {
     "data": {
      "text/plain": [
       "array([4, 5])"
      ]
     },
     "execution_count": 91,
     "metadata": {},
     "output_type": "execute_result"
    }
   ],
   "source": [
    "na[na > 3]"
   ]
  },
  {
   "cell_type": "code",
   "execution_count": 93,
   "metadata": {},
   "outputs": [
    {
     "data": {
      "text/plain": [
       "array([[ 1,  2,  3,  4,  5],\n",
       "       [ 6,  7,  8,  9, 10]])"
      ]
     },
     "execution_count": 93,
     "metadata": {},
     "output_type": "execute_result"
    }
   ],
   "source": [
    "na = np.array(\n",
    "    [ \n",
    "        [1,2,3,4, 5],\n",
    "        [6,7,8,9,10]\n",
    "    ]\n",
    ")\n",
    "\n",
    "na"
   ]
  },
  {
   "cell_type": "code",
   "execution_count": 94,
   "metadata": {},
   "outputs": [
    {
     "data": {
      "text/plain": [
       "1"
      ]
     },
     "execution_count": 94,
     "metadata": {},
     "output_type": "execute_result"
    }
   ],
   "source": [
    "na[0,0]"
   ]
  },
  {
   "cell_type": "code",
   "execution_count": 95,
   "metadata": {},
   "outputs": [
    {
     "data": {
      "text/plain": [
       "array([1, 2, 3, 4, 5])"
      ]
     },
     "execution_count": 95,
     "metadata": {},
     "output_type": "execute_result"
    }
   ],
   "source": [
    "na[0,:]"
   ]
  },
  {
   "cell_type": "code",
   "execution_count": 96,
   "metadata": {},
   "outputs": [
    {
     "data": {
      "text/plain": [
       "array([1, 6])"
      ]
     },
     "execution_count": 96,
     "metadata": {},
     "output_type": "execute_result"
    }
   ],
   "source": [
    "na[:,0]"
   ]
  },
  {
   "cell_type": "code",
   "execution_count": 97,
   "metadata": {},
   "outputs": [
    {
     "data": {
      "text/plain": [
       "array([[ 1,  6],\n",
       "       [ 2,  7],\n",
       "       [ 3,  8],\n",
       "       [ 4,  9],\n",
       "       [ 5, 10]])"
      ]
     },
     "execution_count": 97,
     "metadata": {},
     "output_type": "execute_result"
    }
   ],
   "source": [
    "na.T"
   ]
  },
  {
   "cell_type": "code",
   "execution_count": 98,
   "metadata": {},
   "outputs": [
    {
     "data": {
      "text/plain": [
       "array([['frank', 'M', '29'],\n",
       "       ['mary', 'F', '23'],\n",
       "       ['tom', 'M', '35'],\n",
       "       ['ted', 'M', '33'],\n",
       "       ['jean', 'F', '21'],\n",
       "       ['lisa', 'F', '20']], \n",
       "      dtype='<U5')"
      ]
     },
     "execution_count": 98,
     "metadata": {},
     "output_type": "execute_result"
    }
   ],
   "source": [
    "na=np.array([['frank','M',29],['mary','F',23],['tom','M',35],['ted','M',33],['jean','F',21],['lisa','F',20]])\n",
    "na"
   ]
  },
  {
   "cell_type": "markdown",
   "metadata": {},
   "source": [
    "## 使用Pandas"
   ]
  },
  {
   "cell_type": "code",
   "execution_count": 101,
   "metadata": {},
   "outputs": [
    {
     "data": {
      "text/html": [
       "<div>\n",
       "<style>\n",
       "    .dataframe thead tr:only-child th {\n",
       "        text-align: right;\n",
       "    }\n",
       "\n",
       "    .dataframe thead th {\n",
       "        text-align: left;\n",
       "    }\n",
       "\n",
       "    .dataframe tbody tr th {\n",
       "        vertical-align: top;\n",
       "    }\n",
       "</style>\n",
       "<table border=\"1\" class=\"dataframe\">\n",
       "  <thead>\n",
       "    <tr style=\"text-align: right;\">\n",
       "      <th></th>\n",
       "      <th>0</th>\n",
       "      <th>1</th>\n",
       "      <th>2</th>\n",
       "    </tr>\n",
       "  </thead>\n",
       "  <tbody>\n",
       "    <tr>\n",
       "      <th>0</th>\n",
       "      <td>frank</td>\n",
       "      <td>M</td>\n",
       "      <td>29</td>\n",
       "    </tr>\n",
       "    <tr>\n",
       "      <th>1</th>\n",
       "      <td>mary</td>\n",
       "      <td>F</td>\n",
       "      <td>23</td>\n",
       "    </tr>\n",
       "    <tr>\n",
       "      <th>2</th>\n",
       "      <td>tom</td>\n",
       "      <td>M</td>\n",
       "      <td>35</td>\n",
       "    </tr>\n",
       "    <tr>\n",
       "      <th>3</th>\n",
       "      <td>ted</td>\n",
       "      <td>M</td>\n",
       "      <td>33</td>\n",
       "    </tr>\n",
       "    <tr>\n",
       "      <th>4</th>\n",
       "      <td>jean</td>\n",
       "      <td>F</td>\n",
       "      <td>21</td>\n",
       "    </tr>\n",
       "    <tr>\n",
       "      <th>5</th>\n",
       "      <td>lisa</td>\n",
       "      <td>F</td>\n",
       "      <td>20</td>\n",
       "    </tr>\n",
       "  </tbody>\n",
       "</table>\n",
       "</div>"
      ],
      "text/plain": [
       "       0  1   2\n",
       "0  frank  M  29\n",
       "1   mary  F  23\n",
       "2    tom  M  35\n",
       "3    ted  M  33\n",
       "4   jean  F  21\n",
       "5   lisa  F  20"
      ]
     },
     "execution_count": 101,
     "metadata": {},
     "output_type": "execute_result"
    }
   ],
   "source": [
    "import pandas \n",
    "df = pandas.DataFrame([['frank','M',29],['mary','F',23],['tom','M',35],['ted','M',33],['jean','F',21],['lisa','F',20]])\n",
    "df"
   ]
  },
  {
   "cell_type": "code",
   "execution_count": 102,
   "metadata": {},
   "outputs": [
    {
     "name": "stdout",
     "output_type": "stream",
     "text": [
      "<class 'pandas.core.frame.DataFrame'>\n",
      "RangeIndex: 6 entries, 0 to 5\n",
      "Data columns (total 3 columns):\n",
      "0    6 non-null object\n",
      "1    6 non-null object\n",
      "2    6 non-null int64\n",
      "dtypes: int64(1), object(2)\n",
      "memory usage: 224.0+ bytes\n"
     ]
    }
   ],
   "source": [
    "df.info()"
   ]
  },
  {
   "cell_type": "code",
   "execution_count": 103,
   "metadata": {},
   "outputs": [
    {
     "data": {
      "text/plain": [
       "RangeIndex(start=0, stop=3, step=1)"
      ]
     },
     "execution_count": 103,
     "metadata": {},
     "output_type": "execute_result"
    }
   ],
   "source": [
    "df.columns"
   ]
  },
  {
   "cell_type": "code",
   "execution_count": 104,
   "metadata": {
    "collapsed": true
   },
   "outputs": [],
   "source": [
    "df.columns = ['name', 'gender', 'age']"
   ]
  },
  {
   "cell_type": "code",
   "execution_count": 105,
   "metadata": {},
   "outputs": [
    {
     "data": {
      "text/html": [
       "<div>\n",
       "<style>\n",
       "    .dataframe thead tr:only-child th {\n",
       "        text-align: right;\n",
       "    }\n",
       "\n",
       "    .dataframe thead th {\n",
       "        text-align: left;\n",
       "    }\n",
       "\n",
       "    .dataframe tbody tr th {\n",
       "        vertical-align: top;\n",
       "    }\n",
       "</style>\n",
       "<table border=\"1\" class=\"dataframe\">\n",
       "  <thead>\n",
       "    <tr style=\"text-align: right;\">\n",
       "      <th></th>\n",
       "      <th>name</th>\n",
       "      <th>gender</th>\n",
       "      <th>age</th>\n",
       "    </tr>\n",
       "  </thead>\n",
       "  <tbody>\n",
       "    <tr>\n",
       "      <th>0</th>\n",
       "      <td>frank</td>\n",
       "      <td>M</td>\n",
       "      <td>29</td>\n",
       "    </tr>\n",
       "    <tr>\n",
       "      <th>1</th>\n",
       "      <td>mary</td>\n",
       "      <td>F</td>\n",
       "      <td>23</td>\n",
       "    </tr>\n",
       "    <tr>\n",
       "      <th>2</th>\n",
       "      <td>tom</td>\n",
       "      <td>M</td>\n",
       "      <td>35</td>\n",
       "    </tr>\n",
       "    <tr>\n",
       "      <th>3</th>\n",
       "      <td>ted</td>\n",
       "      <td>M</td>\n",
       "      <td>33</td>\n",
       "    </tr>\n",
       "    <tr>\n",
       "      <th>4</th>\n",
       "      <td>jean</td>\n",
       "      <td>F</td>\n",
       "      <td>21</td>\n",
       "    </tr>\n",
       "    <tr>\n",
       "      <th>5</th>\n",
       "      <td>lisa</td>\n",
       "      <td>F</td>\n",
       "      <td>20</td>\n",
       "    </tr>\n",
       "  </tbody>\n",
       "</table>\n",
       "</div>"
      ],
      "text/plain": [
       "    name gender  age\n",
       "0  frank      M   29\n",
       "1   mary      F   23\n",
       "2    tom      M   35\n",
       "3    ted      M   33\n",
       "4   jean      F   21\n",
       "5   lisa      F   20"
      ]
     },
     "execution_count": 105,
     "metadata": {},
     "output_type": "execute_result"
    }
   ],
   "source": [
    "df"
   ]
  },
  {
   "cell_type": "code",
   "execution_count": 106,
   "metadata": {},
   "outputs": [
    {
     "data": {
      "text/plain": [
       "0    29\n",
       "1    23\n",
       "2    35\n",
       "3    33\n",
       "4    21\n",
       "5    20\n",
       "Name: age, dtype: int64"
      ]
     },
     "execution_count": 106,
     "metadata": {},
     "output_type": "execute_result"
    }
   ],
   "source": [
    "df['age']"
   ]
  },
  {
   "cell_type": "code",
   "execution_count": 107,
   "metadata": {},
   "outputs": [
    {
     "data": {
      "text/plain": [
       "26.833333333333332"
      ]
     },
     "execution_count": 107,
     "metadata": {},
     "output_type": "execute_result"
    }
   ],
   "source": [
    "df['age'].mean()"
   ]
  },
  {
   "cell_type": "code",
   "execution_count": 108,
   "metadata": {},
   "outputs": [
    {
     "data": {
      "text/html": [
       "<div>\n",
       "<style>\n",
       "    .dataframe thead tr:only-child th {\n",
       "        text-align: right;\n",
       "    }\n",
       "\n",
       "    .dataframe thead th {\n",
       "        text-align: left;\n",
       "    }\n",
       "\n",
       "    .dataframe tbody tr th {\n",
       "        vertical-align: top;\n",
       "    }\n",
       "</style>\n",
       "<table border=\"1\" class=\"dataframe\">\n",
       "  <thead>\n",
       "    <tr style=\"text-align: right;\">\n",
       "      <th></th>\n",
       "      <th>age</th>\n",
       "    </tr>\n",
       "  </thead>\n",
       "  <tbody>\n",
       "    <tr>\n",
       "      <th>count</th>\n",
       "      <td>6.000000</td>\n",
       "    </tr>\n",
       "    <tr>\n",
       "      <th>mean</th>\n",
       "      <td>26.833333</td>\n",
       "    </tr>\n",
       "    <tr>\n",
       "      <th>std</th>\n",
       "      <td>6.400521</td>\n",
       "    </tr>\n",
       "    <tr>\n",
       "      <th>min</th>\n",
       "      <td>20.000000</td>\n",
       "    </tr>\n",
       "    <tr>\n",
       "      <th>25%</th>\n",
       "      <td>21.500000</td>\n",
       "    </tr>\n",
       "    <tr>\n",
       "      <th>50%</th>\n",
       "      <td>26.000000</td>\n",
       "    </tr>\n",
       "    <tr>\n",
       "      <th>75%</th>\n",
       "      <td>32.000000</td>\n",
       "    </tr>\n",
       "    <tr>\n",
       "      <th>max</th>\n",
       "      <td>35.000000</td>\n",
       "    </tr>\n",
       "  </tbody>\n",
       "</table>\n",
       "</div>"
      ],
      "text/plain": [
       "             age\n",
       "count   6.000000\n",
       "mean   26.833333\n",
       "std     6.400521\n",
       "min    20.000000\n",
       "25%    21.500000\n",
       "50%    26.000000\n",
       "75%    32.000000\n",
       "max    35.000000"
      ]
     },
     "execution_count": 108,
     "metadata": {},
     "output_type": "execute_result"
    }
   ],
   "source": [
    "df.describe()"
   ]
  },
  {
   "cell_type": "code",
   "execution_count": 110,
   "metadata": {},
   "outputs": [
    {
     "data": {
      "text/html": [
       "<div>\n",
       "<style>\n",
       "    .dataframe thead tr:only-child th {\n",
       "        text-align: right;\n",
       "    }\n",
       "\n",
       "    .dataframe thead th {\n",
       "        text-align: left;\n",
       "    }\n",
       "\n",
       "    .dataframe tbody tr th {\n",
       "        vertical-align: top;\n",
       "    }\n",
       "</style>\n",
       "<table border=\"1\" class=\"dataframe\">\n",
       "  <thead>\n",
       "    <tr style=\"text-align: right;\">\n",
       "      <th></th>\n",
       "      <th>name</th>\n",
       "      <th>gender</th>\n",
       "      <th>age</th>\n",
       "    </tr>\n",
       "  </thead>\n",
       "  <tbody>\n",
       "    <tr>\n",
       "      <th>0</th>\n",
       "      <td>frank</td>\n",
       "      <td>M</td>\n",
       "      <td>29</td>\n",
       "    </tr>\n",
       "    <tr>\n",
       "      <th>2</th>\n",
       "      <td>tom</td>\n",
       "      <td>M</td>\n",
       "      <td>35</td>\n",
       "    </tr>\n",
       "    <tr>\n",
       "      <th>3</th>\n",
       "      <td>ted</td>\n",
       "      <td>M</td>\n",
       "      <td>33</td>\n",
       "    </tr>\n",
       "  </tbody>\n",
       "</table>\n",
       "</div>"
      ],
      "text/plain": [
       "    name gender  age\n",
       "0  frank      M   29\n",
       "2    tom      M   35\n",
       "3    ted      M   33"
      ]
     },
     "execution_count": 110,
     "metadata": {},
     "output_type": "execute_result"
    }
   ],
   "source": [
    "df[df['gender'] == 'M']"
   ]
  },
  {
   "cell_type": "code",
   "execution_count": 111,
   "metadata": {},
   "outputs": [
    {
     "data": {
      "text/plain": [
       "gender\n",
       "F    21.333333\n",
       "M    32.333333\n",
       "Name: age, dtype: float64"
      ]
     },
     "execution_count": 111,
     "metadata": {},
     "output_type": "execute_result"
    }
   ],
   "source": [
    "df.groupby('gender')['age'].mean()"
   ]
  },
  {
   "cell_type": "code",
   "execution_count": 114,
   "metadata": {},
   "outputs": [
    {
     "name": "stdout",
     "output_type": "stream",
     "text": [
      "Populating the interactive namespace from numpy and matplotlib\n"
     ]
    },
    {
     "data": {
      "text/plain": [
       "<matplotlib.axes._subplots.AxesSubplot at 0xcbfa7f0>"
      ]
     },
     "execution_count": 114,
     "metadata": {},
     "output_type": "execute_result"
    },
    {
     "data": {
      "image/png": "[encoded data removed]",
      "text/plain": [
       "<matplotlib.figure.Figure at 0xcc0c748>"
      ]
     },
     "metadata": {},
     "output_type": "display_data"
    }
   ],
   "source": [
    "%pylab inline\n",
    "df.groupby('gender')['age'].mean().plot(kind= 'bar')"
   ]
  },
  {
   "cell_type": "markdown",
   "metadata": {},
   "source": [
    "## Pandas Series"
   ]
  },
  {
   "cell_type": "code",
   "execution_count": 115,
   "metadata": {},
   "outputs": [
    {
     "data": {
      "text/plain": [
       "0    21000\n",
       "1    18900\n",
       "2    18000\n",
       "dtype: int64"
      ]
     },
     "execution_count": 115,
     "metadata": {},
     "output_type": "execute_result"
    }
   ],
   "source": [
    "import pandas as pd\n",
    "s = pd.Series([21000,18900,18000])\n",
    "s"
   ]
  },
  {
   "cell_type": "code",
   "execution_count": 116,
   "metadata": {},
   "outputs": [
    {
     "data": {
      "text/plain": [
       "Iphone     21000\n",
       "Edge S7    18900\n",
       "HTC M1     18000\n",
       "dtype: int64"
      ]
     },
     "execution_count": 116,
     "metadata": {},
     "output_type": "execute_result"
    }
   ],
   "source": [
    "pd.Series([21000,18900,18000],index=['Iphone','Edge S7','HTC M1'])"
   ]
  },
  {
   "cell_type": "code",
   "execution_count": 118,
   "metadata": {},
   "outputs": [
    {
     "data": {
      "text/plain": [
       "Edge S7    18900\n",
       "HTC M1     18000\n",
       "Iphone     21000\n",
       "dtype: int64"
      ]
     },
     "execution_count": 118,
     "metadata": {},
     "output_type": "execute_result"
    }
   ],
   "source": [
    "s= pd.Series({'Iphone':21000,'Edge S7':18900,'HTC M1':18000})\n",
    "s"
   ]
  },
  {
   "cell_type": "code",
   "execution_count": 120,
   "metadata": {},
   "outputs": [
    {
     "data": {
      "text/plain": [
       "21000"
      ]
     },
     "execution_count": 120,
     "metadata": {},
     "output_type": "execute_result"
    }
   ],
   "source": [
    "s[2]"
   ]
  },
  {
   "cell_type": "code",
   "execution_count": 121,
   "metadata": {},
   "outputs": [
    {
     "data": {
      "text/plain": [
       "HTC M1    18000\n",
       "Iphone    21000\n",
       "dtype: int64"
      ]
     },
     "execution_count": 121,
     "metadata": {},
     "output_type": "execute_result"
    }
   ],
   "source": [
    "s[1:3]"
   ]
  },
  {
   "cell_type": "code",
   "execution_count": 122,
   "metadata": {},
   "outputs": [
    {
     "data": {
      "text/plain": [
       "21000"
      ]
     },
     "execution_count": 122,
     "metadata": {},
     "output_type": "execute_result"
    }
   ],
   "source": [
    "s['Iphone']"
   ]
  },
  {
   "cell_type": "code",
   "execution_count": 123,
   "metadata": {},
   "outputs": [
    {
     "data": {
      "text/plain": [
       "Iphone     21000\n",
       "Edge S7    18900\n",
       "dtype: int64"
      ]
     },
     "execution_count": 123,
     "metadata": {},
     "output_type": "execute_result"
    }
   ],
   "source": [
    "s[['Iphone', 'Edge S7']]"
   ]
  },
  {
   "cell_type": "code",
   "execution_count": 125,
   "metadata": {},
   "outputs": [
    {
     "data": {
      "text/plain": [
       "Edge S7     True\n",
       "HTC M1      True\n",
       "Iphone     False\n",
       "dtype: bool"
      ]
     },
     "execution_count": 125,
     "metadata": {},
     "output_type": "execute_result"
    }
   ],
   "source": [
    "s < 20000"
   ]
  },
  {
   "cell_type": "code",
   "execution_count": 126,
   "metadata": {},
   "outputs": [
    {
     "data": {
      "text/plain": [
       "Edge S7    18900\n",
       "HTC M1     18000\n",
       "dtype: int64"
      ]
     },
     "execution_count": 126,
     "metadata": {},
     "output_type": "execute_result"
    }
   ],
   "source": [
    "s[s<20000]"
   ]
  },
  {
   "cell_type": "code",
   "execution_count": 128,
   "metadata": {
    "collapsed": true
   },
   "outputs": [],
   "source": [
    "cheap = s < 20000"
   ]
  },
  {
   "cell_type": "code",
   "execution_count": 129,
   "metadata": {},
   "outputs": [
    {
     "data": {
      "text/plain": [
       "Edge S7    18900\n",
       "HTC M1     18000\n",
       "dtype: int64"
      ]
     },
     "execution_count": 129,
     "metadata": {},
     "output_type": "execute_result"
    }
   ],
   "source": [
    "s[cheap]"
   ]
  },
  {
   "cell_type": "code",
   "execution_count": 130,
   "metadata": {},
   "outputs": [
    {
     "data": {
      "text/plain": [
       "21000"
      ]
     },
     "execution_count": 130,
     "metadata": {},
     "output_type": "execute_result"
    }
   ],
   "source": [
    "s['Iphone']"
   ]
  },
  {
   "cell_type": "code",
   "execution_count": 131,
   "metadata": {
    "collapsed": true
   },
   "outputs": [],
   "source": [
    "s['Iphone'] = 20000"
   ]
  },
  {
   "cell_type": "code",
   "execution_count": 132,
   "metadata": {},
   "outputs": [
    {
     "data": {
      "text/plain": [
       "20000"
      ]
     },
     "execution_count": 132,
     "metadata": {},
     "output_type": "execute_result"
    }
   ],
   "source": [
    "s['Iphone']"
   ]
  },
  {
   "cell_type": "code",
   "execution_count": 135,
   "metadata": {
    "collapsed": true
   },
   "outputs": [],
   "source": [
    "s[s<20000] = s[s<20000] * 0.8"
   ]
  },
  {
   "cell_type": "code",
   "execution_count": 136,
   "metadata": {},
   "outputs": [
    {
     "data": {
      "text/plain": [
       "Edge S7    15120\n",
       "HTC M1     14400\n",
       "Iphone     20000\n",
       "dtype: int64"
      ]
     },
     "execution_count": 136,
     "metadata": {},
     "output_type": "execute_result"
    }
   ],
   "source": [
    "s"
   ]
  },
  {
   "cell_type": "code",
   "execution_count": 138,
   "metadata": {},
   "outputs": [
    {
     "data": {
      "text/plain": [
       "True"
      ]
     },
     "execution_count": 138,
     "metadata": {},
     "output_type": "execute_result"
    }
   ],
   "source": [
    "'Iphone' in s"
   ]
  },
  {
   "cell_type": "code",
   "execution_count": 139,
   "metadata": {},
   "outputs": [
    {
     "data": {
      "text/plain": [
       "False"
      ]
     },
     "execution_count": 139,
     "metadata": {},
     "output_type": "execute_result"
    }
   ],
   "source": [
    "'mi' in s"
   ]
  },
  {
   "cell_type": "code",
   "execution_count": 141,
   "metadata": {},
   "outputs": [
    {
     "data": {
      "text/plain": [
       "Edge S7    12096.0\n",
       "HTC M1     11520.0\n",
       "Iphone     16000.0\n",
       "dtype: float64"
      ]
     },
     "execution_count": 141,
     "metadata": {},
     "output_type": "execute_result"
    }
   ],
   "source": [
    "s * 0.8"
   ]
  },
  {
   "cell_type": "code",
   "execution_count": 142,
   "metadata": {},
   "outputs": [
    {
     "data": {
      "text/plain": [
       "Edge S7    122.963409\n",
       "HTC M1     120.000000\n",
       "Iphone     141.421356\n",
       "dtype: float64"
      ]
     },
     "execution_count": 142,
     "metadata": {},
     "output_type": "execute_result"
    }
   ],
   "source": [
    "import numpy\n",
    "numpy.sqrt(s)"
   ]
  },
  {
   "cell_type": "code",
   "execution_count": 143,
   "metadata": {},
   "outputs": [
    {
     "data": {
      "text/plain": [
       "20000"
      ]
     },
     "execution_count": 143,
     "metadata": {},
     "output_type": "execute_result"
    }
   ],
   "source": [
    "s.max()"
   ]
  },
  {
   "cell_type": "code",
   "execution_count": 144,
   "metadata": {},
   "outputs": [
    {
     "data": {
      "text/plain": [
       "14400"
      ]
     },
     "execution_count": 144,
     "metadata": {},
     "output_type": "execute_result"
    }
   ],
   "source": [
    "s.min()"
   ]
  },
  {
   "cell_type": "code",
   "execution_count": 145,
   "metadata": {},
   "outputs": [
    {
     "data": {
      "text/plain": [
       "16506.666666666668"
      ]
     },
     "execution_count": 145,
     "metadata": {},
     "output_type": "execute_result"
    }
   ],
   "source": [
    "s.mean()"
   ]
  },
  {
   "cell_type": "code",
   "execution_count": 146,
   "metadata": {},
   "outputs": [
    {
     "data": {
      "text/plain": [
       "count        3.000000\n",
       "mean     16506.666667\n",
       "std       3046.659373\n",
       "min      14400.000000\n",
       "25%      14760.000000\n",
       "50%      15120.000000\n",
       "75%      17560.000000\n",
       "max      20000.000000\n",
       "dtype: float64"
      ]
     },
     "execution_count": 146,
     "metadata": {},
     "output_type": "execute_result"
    }
   ],
   "source": [
    "s.describe()"
   ]
  },
  {
   "cell_type": "code",
   "execution_count": 147,
   "metadata": {},
   "outputs": [
    {
     "data": {
      "text/plain": [
       "Iphone    20000\n",
       "HTC M1    14400\n",
       "dtype: int64"
      ]
     },
     "execution_count": 147,
     "metadata": {},
     "output_type": "execute_result"
    }
   ],
   "source": [
    "s[['Iphone','HTC M1']]"
   ]
  },
  {
   "cell_type": "code",
   "execution_count": 148,
   "metadata": {},
   "outputs": [
    {
     "data": {
      "text/plain": [
       "mi            NaN\n",
       "HTC M1    14400.0\n",
       "dtype: float64"
      ]
     },
     "execution_count": 148,
     "metadata": {},
     "output_type": "execute_result"
    }
   ],
   "source": [
    "#NaN = Not A Number\n",
    "s[['mi','HTC M1']]"
   ]
  },
  {
   "cell_type": "code",
   "execution_count": 150,
   "metadata": {},
   "outputs": [
    {
     "data": {
      "text/plain": [
       "HTC M1    28800.0\n",
       "Iphone        NaN\n",
       "mi            NaN\n",
       "dtype: float64"
      ]
     },
     "execution_count": 150,
     "metadata": {},
     "output_type": "execute_result"
    }
   ],
   "source": [
    "s2 = s[['Iphone','HTC M1']] + s[['mi','HTC M1']]\n",
    "s2"
   ]
  },
  {
   "cell_type": "code",
   "execution_count": 151,
   "metadata": {},
   "outputs": [
    {
     "data": {
      "text/plain": [
       "HTC M1    False\n",
       "Iphone     True\n",
       "mi         True\n",
       "dtype: bool"
      ]
     },
     "execution_count": 151,
     "metadata": {},
     "output_type": "execute_result"
    }
   ],
   "source": [
    "s2.isnull()"
   ]
  },
  {
   "cell_type": "code",
   "execution_count": 152,
   "metadata": {},
   "outputs": [
    {
     "data": {
      "text/plain": [
       "HTC M1     True\n",
       "Iphone    False\n",
       "mi        False\n",
       "dtype: bool"
      ]
     },
     "execution_count": 152,
     "metadata": {},
     "output_type": "execute_result"
    }
   ],
   "source": [
    "s2.notnull()"
   ]
  },
  {
   "cell_type": "markdown",
   "metadata": {},
   "source": [
    "## Pandas DataFrame"
   ]
  },
  {
   "cell_type": "code",
   "execution_count": 153,
   "metadata": {},
   "outputs": [
    {
     "data": {
      "text/html": [
       "<div>\n",
       "<style>\n",
       "    .dataframe thead tr:only-child th {\n",
       "        text-align: right;\n",
       "    }\n",
       "\n",
       "    .dataframe thead th {\n",
       "        text-align: left;\n",
       "    }\n",
       "\n",
       "    .dataframe tbody tr th {\n",
       "        vertical-align: top;\n",
       "    }\n",
       "</style>\n",
       "<table border=\"1\" class=\"dataframe\">\n",
       "  <thead>\n",
       "    <tr style=\"text-align: right;\">\n",
       "      <th></th>\n",
       "      <th>0</th>\n",
       "      <th>1</th>\n",
       "      <th>2</th>\n",
       "    </tr>\n",
       "  </thead>\n",
       "  <tbody>\n",
       "    <tr>\n",
       "      <th>0</th>\n",
       "      <td>frank</td>\n",
       "      <td>M</td>\n",
       "      <td>29</td>\n",
       "    </tr>\n",
       "    <tr>\n",
       "      <th>1</th>\n",
       "      <td>mary</td>\n",
       "      <td>F</td>\n",
       "      <td>23</td>\n",
       "    </tr>\n",
       "    <tr>\n",
       "      <th>2</th>\n",
       "      <td>tom</td>\n",
       "      <td>M</td>\n",
       "      <td>35</td>\n",
       "    </tr>\n",
       "    <tr>\n",
       "      <th>3</th>\n",
       "      <td>ted</td>\n",
       "      <td>M</td>\n",
       "      <td>33</td>\n",
       "    </tr>\n",
       "    <tr>\n",
       "      <th>4</th>\n",
       "      <td>jean</td>\n",
       "      <td>F</td>\n",
       "      <td>21</td>\n",
       "    </tr>\n",
       "    <tr>\n",
       "      <th>5</th>\n",
       "      <td>lisa</td>\n",
       "      <td>F</td>\n",
       "      <td>20</td>\n",
       "    </tr>\n",
       "  </tbody>\n",
       "</table>\n",
       "</div>"
      ],
      "text/plain": [
       "       0  1   2\n",
       "0  frank  M  29\n",
       "1   mary  F  23\n",
       "2    tom  M  35\n",
       "3    ted  M  33\n",
       "4   jean  F  21\n",
       "5   lisa  F  20"
      ]
     },
     "execution_count": 153,
     "metadata": {},
     "output_type": "execute_result"
    }
   ],
   "source": [
    "df=pd.DataFrame([['frank','M',29],['mary','F',23],['tom','M',35],['ted','M',33],['jean','F',21],['lisa','F',20]])\n",
    "df"
   ]
  },
  {
   "cell_type": "code",
   "execution_count": 154,
   "metadata": {},
   "outputs": [
    {
     "data": {
      "text/html": [
       "<div>\n",
       "<style>\n",
       "    .dataframe thead tr:only-child th {\n",
       "        text-align: right;\n",
       "    }\n",
       "\n",
       "    .dataframe thead th {\n",
       "        text-align: left;\n",
       "    }\n",
       "\n",
       "    .dataframe tbody tr th {\n",
       "        vertical-align: top;\n",
       "    }\n",
       "</style>\n",
       "<table border=\"1\" class=\"dataframe\">\n",
       "  <thead>\n",
       "    <tr style=\"text-align: right;\">\n",
       "      <th></th>\n",
       "      <th>name</th>\n",
       "      <th>gender</th>\n",
       "      <th>age</th>\n",
       "    </tr>\n",
       "  </thead>\n",
       "  <tbody>\n",
       "    <tr>\n",
       "      <th>0</th>\n",
       "      <td>frank</td>\n",
       "      <td>M</td>\n",
       "      <td>29</td>\n",
       "    </tr>\n",
       "    <tr>\n",
       "      <th>1</th>\n",
       "      <td>mary</td>\n",
       "      <td>F</td>\n",
       "      <td>23</td>\n",
       "    </tr>\n",
       "    <tr>\n",
       "      <th>2</th>\n",
       "      <td>tom</td>\n",
       "      <td>M</td>\n",
       "      <td>35</td>\n",
       "    </tr>\n",
       "    <tr>\n",
       "      <th>3</th>\n",
       "      <td>ted</td>\n",
       "      <td>M</td>\n",
       "      <td>33</td>\n",
       "    </tr>\n",
       "    <tr>\n",
       "      <th>4</th>\n",
       "      <td>jean</td>\n",
       "      <td>F</td>\n",
       "      <td>21</td>\n",
       "    </tr>\n",
       "    <tr>\n",
       "      <th>5</th>\n",
       "      <td>lisa</td>\n",
       "      <td>F</td>\n",
       "      <td>20</td>\n",
       "    </tr>\n",
       "  </tbody>\n",
       "</table>\n",
       "</div>"
      ],
      "text/plain": [
       "    name gender  age\n",
       "0  frank      M   29\n",
       "1   mary      F   23\n",
       "2    tom      M   35\n",
       "3    ted      M   33\n",
       "4   jean      F   21\n",
       "5   lisa      F   20"
      ]
     },
     "execution_count": 154,
     "metadata": {},
     "output_type": "execute_result"
    }
   ],
   "source": [
    "df.columns = ['name', 'gender', 'age']\n",
    "df"
   ]
  },
  {
   "cell_type": "code",
   "execution_count": 155,
   "metadata": {},
   "outputs": [
    {
     "data": {
      "text/html": [
       "<div>\n",
       "<style>\n",
       "    .dataframe thead tr:only-child th {\n",
       "        text-align: right;\n",
       "    }\n",
       "\n",
       "    .dataframe thead th {\n",
       "        text-align: left;\n",
       "    }\n",
       "\n",
       "    .dataframe tbody tr th {\n",
       "        vertical-align: top;\n",
       "    }\n",
       "</style>\n",
       "<table border=\"1\" class=\"dataframe\">\n",
       "  <thead>\n",
       "    <tr style=\"text-align: right;\">\n",
       "      <th></th>\n",
       "      <th>name</th>\n",
       "      <th>gender</th>\n",
       "      <th>age</th>\n",
       "    </tr>\n",
       "  </thead>\n",
       "  <tbody>\n",
       "    <tr>\n",
       "      <th>0</th>\n",
       "      <td>frank</td>\n",
       "      <td>M</td>\n",
       "      <td>29</td>\n",
       "    </tr>\n",
       "    <tr>\n",
       "      <th>1</th>\n",
       "      <td>mary</td>\n",
       "      <td>F</td>\n",
       "      <td>23</td>\n",
       "    </tr>\n",
       "    <tr>\n",
       "      <th>2</th>\n",
       "      <td>tom</td>\n",
       "      <td>M</td>\n",
       "      <td>35</td>\n",
       "    </tr>\n",
       "    <tr>\n",
       "      <th>3</th>\n",
       "      <td>ted</td>\n",
       "      <td>M</td>\n",
       "      <td>33</td>\n",
       "    </tr>\n",
       "    <tr>\n",
       "      <th>4</th>\n",
       "      <td>jean</td>\n",
       "      <td>F</td>\n",
       "      <td>21</td>\n",
       "    </tr>\n",
       "    <tr>\n",
       "      <th>5</th>\n",
       "      <td>lisa</td>\n",
       "      <td>F</td>\n",
       "      <td>20</td>\n",
       "    </tr>\n",
       "  </tbody>\n",
       "</table>\n",
       "</div>"
      ],
      "text/plain": [
       "    name gender  age\n",
       "0  frank      M   29\n",
       "1   mary      F   23\n",
       "2    tom      M   35\n",
       "3    ted      M   33\n",
       "4   jean      F   21\n",
       "5   lisa      F   20"
      ]
     },
     "execution_count": 155,
     "metadata": {},
     "output_type": "execute_result"
    }
   ],
   "source": [
    "df=pd.DataFrame([['frank','M',29],['mary','F',23],['tom','M',35],['ted','M',33],['jean','F',21],['lisa','F',20]],\n",
    "                columns=['name','gender','age'])\n",
    "df"
   ]
  },
  {
   "cell_type": "code",
   "execution_count": 157,
   "metadata": {},
   "outputs": [
    {
     "data": {
      "text/html": [
       "<div>\n",
       "<style>\n",
       "    .dataframe thead tr:only-child th {\n",
       "        text-align: right;\n",
       "    }\n",
       "\n",
       "    .dataframe thead th {\n",
       "        text-align: left;\n",
       "    }\n",
       "\n",
       "    .dataframe tbody tr th {\n",
       "        vertical-align: top;\n",
       "    }\n",
       "</style>\n",
       "<table border=\"1\" class=\"dataframe\">\n",
       "  <thead>\n",
       "    <tr style=\"text-align: right;\">\n",
       "      <th></th>\n",
       "      <th>age</th>\n",
       "      <th>gender</th>\n",
       "      <th>name</th>\n",
       "    </tr>\n",
       "  </thead>\n",
       "  <tbody>\n",
       "    <tr>\n",
       "      <th>0</th>\n",
       "      <td>29</td>\n",
       "      <td>M</td>\n",
       "      <td>frank</td>\n",
       "    </tr>\n",
       "    <tr>\n",
       "      <th>1</th>\n",
       "      <td>23</td>\n",
       "      <td>F</td>\n",
       "      <td>mary</td>\n",
       "    </tr>\n",
       "    <tr>\n",
       "      <th>2</th>\n",
       "      <td>35</td>\n",
       "      <td>M</td>\n",
       "      <td>tom</td>\n",
       "    </tr>\n",
       "    <tr>\n",
       "      <th>3</th>\n",
       "      <td>33</td>\n",
       "      <td>M</td>\n",
       "      <td>ted</td>\n",
       "    </tr>\n",
       "    <tr>\n",
       "      <th>4</th>\n",
       "      <td>21</td>\n",
       "      <td>F</td>\n",
       "      <td>jean</td>\n",
       "    </tr>\n",
       "    <tr>\n",
       "      <th>5</th>\n",
       "      <td>20</td>\n",
       "      <td>F</td>\n",
       "      <td>lisa</td>\n",
       "    </tr>\n",
       "  </tbody>\n",
       "</table>\n",
       "</div>"
      ],
      "text/plain": [
       "   age gender   name\n",
       "0   29      M  frank\n",
       "1   23      F   mary\n",
       "2   35      M    tom\n",
       "3   33      M    ted\n",
       "4   21      F   jean\n",
       "5   20      F   lisa"
      ]
     },
     "execution_count": 157,
     "metadata": {},
     "output_type": "execute_result"
    }
   ],
   "source": [
    "df=pd.DataFrame([{'name':'frank','gender':'M','age':29},\\\n",
    "                 {'name':'mary','gender':'F','age':23},\\\n",
    "                 {'name':'tom','gender':'M','age':35},\\\n",
    "                 {'name':'ted','gender':'M','age':33},\\\n",
    "                 {'name':'jean','gender':'F','age':21},\\\n",
    "                 {'name':'lisa','gender':'F','age':20}])\n",
    "df"
   ]
  },
  {
   "cell_type": "code",
   "execution_count": 159,
   "metadata": {},
   "outputs": [
    {
     "data": {
      "text/html": [
       "<div>\n",
       "<style>\n",
       "    .dataframe thead tr:only-child th {\n",
       "        text-align: right;\n",
       "    }\n",
       "\n",
       "    .dataframe thead th {\n",
       "        text-align: left;\n",
       "    }\n",
       "\n",
       "    .dataframe tbody tr th {\n",
       "        vertical-align: top;\n",
       "    }\n",
       "</style>\n",
       "<table border=\"1\" class=\"dataframe\">\n",
       "  <thead>\n",
       "    <tr style=\"text-align: right;\">\n",
       "      <th></th>\n",
       "      <th>age</th>\n",
       "      <th>gender</th>\n",
       "      <th>name</th>\n",
       "      <th>title</th>\n",
       "    </tr>\n",
       "  </thead>\n",
       "  <tbody>\n",
       "    <tr>\n",
       "      <th>0</th>\n",
       "      <td>NaN</td>\n",
       "      <td>F</td>\n",
       "      <td>Mary</td>\n",
       "      <td>NaN</td>\n",
       "    </tr>\n",
       "    <tr>\n",
       "      <th>1</th>\n",
       "      <td>38.0</td>\n",
       "      <td>M</td>\n",
       "      <td>John</td>\n",
       "      <td>NaN</td>\n",
       "    </tr>\n",
       "    <tr>\n",
       "      <th>2</th>\n",
       "      <td>47.0</td>\n",
       "      <td>M</td>\n",
       "      <td>Joe</td>\n",
       "      <td>Dr</td>\n",
       "    </tr>\n",
       "  </tbody>\n",
       "</table>\n",
       "</div>"
      ],
      "text/plain": [
       "    age gender  name title\n",
       "0   NaN      F  Mary   NaN\n",
       "1  38.0      M  John   NaN\n",
       "2  47.0      M   Joe    Dr"
      ]
     },
     "execution_count": 159,
     "metadata": {},
     "output_type": "execute_result"
    }
   ],
   "source": [
    "df = pandas.DataFrame([\n",
    "        {'name':'Mary', 'gender':'F'},\n",
    "        {'name':'John', 'gender':'M', 'age':38},\n",
    "        {'name':'Joe', 'gender':'M', 'age':47, 'title':'Dr'}])\n",
    "df"
   ]
  },
  {
   "cell_type": "code",
   "execution_count": 205,
   "metadata": {},
   "outputs": [
    {
     "data": {
      "text/html": [
       "<div>\n",
       "<style>\n",
       "    .dataframe thead tr:only-child th {\n",
       "        text-align: right;\n",
       "    }\n",
       "\n",
       "    .dataframe thead th {\n",
       "        text-align: left;\n",
       "    }\n",
       "\n",
       "    .dataframe tbody tr th {\n",
       "        vertical-align: top;\n",
       "    }\n",
       "</style>\n",
       "<table border=\"1\" class=\"dataframe\">\n",
       "  <thead>\n",
       "    <tr style=\"text-align: right;\">\n",
       "      <th></th>\n",
       "      <th>name</th>\n",
       "      <th>gender</th>\n",
       "      <th>age</th>\n",
       "    </tr>\n",
       "  </thead>\n",
       "  <tbody>\n",
       "    <tr>\n",
       "      <th>0</th>\n",
       "      <td>frank</td>\n",
       "      <td>M</td>\n",
       "      <td>29</td>\n",
       "    </tr>\n",
       "    <tr>\n",
       "      <th>1</th>\n",
       "      <td>mary</td>\n",
       "      <td>F</td>\n",
       "      <td>23</td>\n",
       "    </tr>\n",
       "    <tr>\n",
       "      <th>2</th>\n",
       "      <td>tom</td>\n",
       "      <td>M</td>\n",
       "      <td>35</td>\n",
       "    </tr>\n",
       "    <tr>\n",
       "      <th>3</th>\n",
       "      <td>ted</td>\n",
       "      <td>M</td>\n",
       "      <td>33</td>\n",
       "    </tr>\n",
       "    <tr>\n",
       "      <th>4</th>\n",
       "      <td>jean</td>\n",
       "      <td>F</td>\n",
       "      <td>21</td>\n",
       "    </tr>\n",
       "    <tr>\n",
       "      <th>5</th>\n",
       "      <td>lisa</td>\n",
       "      <td>F</td>\n",
       "      <td>20</td>\n",
       "    </tr>\n",
       "  </tbody>\n",
       "</table>\n",
       "</div>"
      ],
      "text/plain": [
       "    name gender  age\n",
       "0  frank      M   29\n",
       "1   mary      F   23\n",
       "2    tom      M   35\n",
       "3    ted      M   33\n",
       "4   jean      F   21\n",
       "5   lisa      F   20"
      ]
     },
     "execution_count": 205,
     "metadata": {},
     "output_type": "execute_result"
    }
   ],
   "source": [
    "df=pandas.DataFrame([['frank','M',29],['mary','F',23],['tom','M',35],['ted','M',33],['jean','F',21],['lisa','F',20]],columns=['name','gender','age'])\n",
    "df"
   ]
  },
  {
   "cell_type": "code",
   "execution_count": 163,
   "metadata": {},
   "outputs": [
    {
     "data": {
      "text/plain": [
       "name      frank\n",
       "gender        M\n",
       "age          29\n",
       "Name: 0, dtype: object"
      ]
     },
     "execution_count": 163,
     "metadata": {},
     "output_type": "execute_result"
    }
   ],
   "source": [
    "#df.ix[0]\n",
    "df.iloc[0]"
   ]
  },
  {
   "cell_type": "code",
   "execution_count": 164,
   "metadata": {},
   "outputs": [
    {
     "data": {
      "text/html": [
       "<div>\n",
       "<style>\n",
       "    .dataframe thead tr:only-child th {\n",
       "        text-align: right;\n",
       "    }\n",
       "\n",
       "    .dataframe thead th {\n",
       "        text-align: left;\n",
       "    }\n",
       "\n",
       "    .dataframe tbody tr th {\n",
       "        vertical-align: top;\n",
       "    }\n",
       "</style>\n",
       "<table border=\"1\" class=\"dataframe\">\n",
       "  <thead>\n",
       "    <tr style=\"text-align: right;\">\n",
       "      <th></th>\n",
       "      <th>name</th>\n",
       "      <th>gender</th>\n",
       "      <th>age</th>\n",
       "    </tr>\n",
       "  </thead>\n",
       "  <tbody>\n",
       "    <tr>\n",
       "      <th>1</th>\n",
       "      <td>mary</td>\n",
       "      <td>F</td>\n",
       "      <td>23</td>\n",
       "    </tr>\n",
       "    <tr>\n",
       "      <th>2</th>\n",
       "      <td>tom</td>\n",
       "      <td>M</td>\n",
       "      <td>35</td>\n",
       "    </tr>\n",
       "    <tr>\n",
       "      <th>3</th>\n",
       "      <td>ted</td>\n",
       "      <td>M</td>\n",
       "      <td>33</td>\n",
       "    </tr>\n",
       "  </tbody>\n",
       "</table>\n",
       "</div>"
      ],
      "text/plain": [
       "   name gender  age\n",
       "1  mary      F   23\n",
       "2   tom      M   35\n",
       "3   ted      M   33"
      ]
     },
     "execution_count": 164,
     "metadata": {},
     "output_type": "execute_result"
    }
   ],
   "source": [
    "#df.ix[1:4]\n",
    "df.iloc[1:4]"
   ]
  },
  {
   "cell_type": "code",
   "execution_count": 165,
   "metadata": {},
   "outputs": [
    {
     "data": {
      "text/plain": [
       "0    frank\n",
       "1     mary\n",
       "2      tom\n",
       "3      ted\n",
       "4     jean\n",
       "5     lisa\n",
       "Name: name, dtype: object"
      ]
     },
     "execution_count": 165,
     "metadata": {},
     "output_type": "execute_result"
    }
   ],
   "source": [
    "df['name']"
   ]
  },
  {
   "cell_type": "code",
   "execution_count": 166,
   "metadata": {},
   "outputs": [
    {
     "data": {
      "text/html": [
       "<div>\n",
       "<style>\n",
       "    .dataframe thead tr:only-child th {\n",
       "        text-align: right;\n",
       "    }\n",
       "\n",
       "    .dataframe thead th {\n",
       "        text-align: left;\n",
       "    }\n",
       "\n",
       "    .dataframe tbody tr th {\n",
       "        vertical-align: top;\n",
       "    }\n",
       "</style>\n",
       "<table border=\"1\" class=\"dataframe\">\n",
       "  <thead>\n",
       "    <tr style=\"text-align: right;\">\n",
       "      <th></th>\n",
       "      <th>name</th>\n",
       "      <th>age</th>\n",
       "    </tr>\n",
       "  </thead>\n",
       "  <tbody>\n",
       "    <tr>\n",
       "      <th>0</th>\n",
       "      <td>frank</td>\n",
       "      <td>29</td>\n",
       "    </tr>\n",
       "    <tr>\n",
       "      <th>1</th>\n",
       "      <td>mary</td>\n",
       "      <td>23</td>\n",
       "    </tr>\n",
       "    <tr>\n",
       "      <th>2</th>\n",
       "      <td>tom</td>\n",
       "      <td>35</td>\n",
       "    </tr>\n",
       "    <tr>\n",
       "      <th>3</th>\n",
       "      <td>ted</td>\n",
       "      <td>33</td>\n",
       "    </tr>\n",
       "    <tr>\n",
       "      <th>4</th>\n",
       "      <td>jean</td>\n",
       "      <td>21</td>\n",
       "    </tr>\n",
       "    <tr>\n",
       "      <th>5</th>\n",
       "      <td>lisa</td>\n",
       "      <td>20</td>\n",
       "    </tr>\n",
       "  </tbody>\n",
       "</table>\n",
       "</div>"
      ],
      "text/plain": [
       "    name  age\n",
       "0  frank   29\n",
       "1   mary   23\n",
       "2    tom   35\n",
       "3    ted   33\n",
       "4   jean   21\n",
       "5   lisa   20"
      ]
     },
     "execution_count": 166,
     "metadata": {},
     "output_type": "execute_result"
    }
   ],
   "source": [
    "df[['name', 'age']]"
   ]
  },
  {
   "cell_type": "code",
   "execution_count": 172,
   "metadata": {},
   "outputs": [
    {
     "data": {
      "text/html": [
       "<div>\n",
       "<style>\n",
       "    .dataframe thead tr:only-child th {\n",
       "        text-align: right;\n",
       "    }\n",
       "\n",
       "    .dataframe thead th {\n",
       "        text-align: left;\n",
       "    }\n",
       "\n",
       "    .dataframe tbody tr th {\n",
       "        vertical-align: top;\n",
       "    }\n",
       "</style>\n",
       "<table border=\"1\" class=\"dataframe\">\n",
       "  <thead>\n",
       "    <tr style=\"text-align: right;\">\n",
       "      <th></th>\n",
       "      <th>name</th>\n",
       "      <th>age</th>\n",
       "    </tr>\n",
       "  </thead>\n",
       "  <tbody>\n",
       "    <tr>\n",
       "      <th>1</th>\n",
       "      <td>mary</td>\n",
       "      <td>23</td>\n",
       "    </tr>\n",
       "    <tr>\n",
       "      <th>2</th>\n",
       "      <td>tom</td>\n",
       "      <td>35</td>\n",
       "    </tr>\n",
       "  </tbody>\n",
       "</table>\n",
       "</div>"
      ],
      "text/plain": [
       "   name  age\n",
       "1  mary   23\n",
       "2   tom   35"
      ]
     },
     "execution_count": 172,
     "metadata": {},
     "output_type": "execute_result"
    }
   ],
   "source": [
    "#df.ix[ 1:2   ,  ['name', 'age']  ]\n",
    "df.loc[ 1:2   ,  ['name', 'age']  ]"
   ]
  },
  {
   "cell_type": "code",
   "execution_count": 175,
   "metadata": {},
   "outputs": [
    {
     "data": {
      "text/plain": [
       "0     True\n",
       "1    False\n",
       "2     True\n",
       "3     True\n",
       "4    False\n",
       "5    False\n",
       "Name: gender, dtype: bool"
      ]
     },
     "execution_count": 175,
     "metadata": {},
     "output_type": "execute_result"
    }
   ],
   "source": [
    "df['gender'] == 'M'"
   ]
  },
  {
   "cell_type": "code",
   "execution_count": 176,
   "metadata": {},
   "outputs": [
    {
     "data": {
      "text/html": [
       "<div>\n",
       "<style>\n",
       "    .dataframe thead tr:only-child th {\n",
       "        text-align: right;\n",
       "    }\n",
       "\n",
       "    .dataframe thead th {\n",
       "        text-align: left;\n",
       "    }\n",
       "\n",
       "    .dataframe tbody tr th {\n",
       "        vertical-align: top;\n",
       "    }\n",
       "</style>\n",
       "<table border=\"1\" class=\"dataframe\">\n",
       "  <thead>\n",
       "    <tr style=\"text-align: right;\">\n",
       "      <th></th>\n",
       "      <th>name</th>\n",
       "      <th>gender</th>\n",
       "      <th>age</th>\n",
       "    </tr>\n",
       "  </thead>\n",
       "  <tbody>\n",
       "    <tr>\n",
       "      <th>0</th>\n",
       "      <td>frank</td>\n",
       "      <td>M</td>\n",
       "      <td>29</td>\n",
       "    </tr>\n",
       "    <tr>\n",
       "      <th>2</th>\n",
       "      <td>tom</td>\n",
       "      <td>M</td>\n",
       "      <td>35</td>\n",
       "    </tr>\n",
       "    <tr>\n",
       "      <th>3</th>\n",
       "      <td>ted</td>\n",
       "      <td>M</td>\n",
       "      <td>33</td>\n",
       "    </tr>\n",
       "  </tbody>\n",
       "</table>\n",
       "</div>"
      ],
      "text/plain": [
       "    name gender  age\n",
       "0  frank      M   29\n",
       "2    tom      M   35\n",
       "3    ted      M   33"
      ]
     },
     "execution_count": 176,
     "metadata": {},
     "output_type": "execute_result"
    }
   ],
   "source": [
    "df[df['gender'] == 'M']"
   ]
  },
  {
   "cell_type": "code",
   "execution_count": 179,
   "metadata": {},
   "outputs": [
    {
     "data": {
      "text/plain": [
       "0    False\n",
       "1    False\n",
       "2     True\n",
       "3     True\n",
       "4    False\n",
       "5    False\n",
       "dtype: bool"
      ]
     },
     "execution_count": 179,
     "metadata": {},
     "output_type": "execute_result"
    }
   ],
   "source": [
    "(df['gender'] == 'M') & (df['age'] > 30)"
   ]
  },
  {
   "cell_type": "code",
   "execution_count": 180,
   "metadata": {},
   "outputs": [
    {
     "data": {
      "text/html": [
       "<div>\n",
       "<style>\n",
       "    .dataframe thead tr:only-child th {\n",
       "        text-align: right;\n",
       "    }\n",
       "\n",
       "    .dataframe thead th {\n",
       "        text-align: left;\n",
       "    }\n",
       "\n",
       "    .dataframe tbody tr th {\n",
       "        vertical-align: top;\n",
       "    }\n",
       "</style>\n",
       "<table border=\"1\" class=\"dataframe\">\n",
       "  <thead>\n",
       "    <tr style=\"text-align: right;\">\n",
       "      <th></th>\n",
       "      <th>name</th>\n",
       "      <th>gender</th>\n",
       "      <th>age</th>\n",
       "    </tr>\n",
       "  </thead>\n",
       "  <tbody>\n",
       "    <tr>\n",
       "      <th>2</th>\n",
       "      <td>tom</td>\n",
       "      <td>M</td>\n",
       "      <td>35</td>\n",
       "    </tr>\n",
       "    <tr>\n",
       "      <th>3</th>\n",
       "      <td>ted</td>\n",
       "      <td>M</td>\n",
       "      <td>33</td>\n",
       "    </tr>\n",
       "  </tbody>\n",
       "</table>\n",
       "</div>"
      ],
      "text/plain": [
       "  name gender  age\n",
       "2  tom      M   35\n",
       "3  ted      M   33"
      ]
     },
     "execution_count": 180,
     "metadata": {},
     "output_type": "execute_result"
    }
   ],
   "source": [
    "df[(df['gender'] == 'M') & (df['age'] > 30)]"
   ]
  },
  {
   "cell_type": "code",
   "execution_count": 181,
   "metadata": {},
   "outputs": [
    {
     "data": {
      "text/html": [
       "<div>\n",
       "<style>\n",
       "    .dataframe thead tr:only-child th {\n",
       "        text-align: right;\n",
       "    }\n",
       "\n",
       "    .dataframe thead th {\n",
       "        text-align: left;\n",
       "    }\n",
       "\n",
       "    .dataframe tbody tr th {\n",
       "        vertical-align: top;\n",
       "    }\n",
       "</style>\n",
       "<table border=\"1\" class=\"dataframe\">\n",
       "  <thead>\n",
       "    <tr style=\"text-align: right;\">\n",
       "      <th></th>\n",
       "      <th>name</th>\n",
       "      <th>gender</th>\n",
       "      <th>age</th>\n",
       "    </tr>\n",
       "  </thead>\n",
       "  <tbody>\n",
       "    <tr>\n",
       "      <th>0</th>\n",
       "      <td>frank</td>\n",
       "      <td>M</td>\n",
       "      <td>29</td>\n",
       "    </tr>\n",
       "    <tr>\n",
       "      <th>2</th>\n",
       "      <td>tom</td>\n",
       "      <td>M</td>\n",
       "      <td>35</td>\n",
       "    </tr>\n",
       "    <tr>\n",
       "      <th>3</th>\n",
       "      <td>ted</td>\n",
       "      <td>M</td>\n",
       "      <td>33</td>\n",
       "    </tr>\n",
       "  </tbody>\n",
       "</table>\n",
       "</div>"
      ],
      "text/plain": [
       "    name gender  age\n",
       "0  frank      M   29\n",
       "2    tom      M   35\n",
       "3    ted      M   33"
      ]
     },
     "execution_count": 181,
     "metadata": {},
     "output_type": "execute_result"
    }
   ],
   "source": [
    "df[(df['gender'] == 'M') | (df['age'] > 30)]"
   ]
  },
  {
   "cell_type": "code",
   "execution_count": 184,
   "metadata": {},
   "outputs": [
    {
     "data": {
      "text/html": [
       "<div>\n",
       "<style>\n",
       "    .dataframe thead tr:only-child th {\n",
       "        text-align: right;\n",
       "    }\n",
       "\n",
       "    .dataframe thead th {\n",
       "        text-align: left;\n",
       "    }\n",
       "\n",
       "    .dataframe tbody tr th {\n",
       "        vertical-align: top;\n",
       "    }\n",
       "</style>\n",
       "<table border=\"1\" class=\"dataframe\">\n",
       "  <thead>\n",
       "    <tr style=\"text-align: right;\">\n",
       "      <th></th>\n",
       "      <th>name</th>\n",
       "      <th>gender</th>\n",
       "      <th>age</th>\n",
       "    </tr>\n",
       "  </thead>\n",
       "  <tbody>\n",
       "    <tr>\n",
       "      <th>0</th>\n",
       "      <td>frank</td>\n",
       "      <td>M</td>\n",
       "      <td>29</td>\n",
       "    </tr>\n",
       "    <tr>\n",
       "      <th>1</th>\n",
       "      <td>mary</td>\n",
       "      <td>F</td>\n",
       "      <td>23</td>\n",
       "    </tr>\n",
       "    <tr>\n",
       "      <th>2</th>\n",
       "      <td>tom</td>\n",
       "      <td>M</td>\n",
       "      <td>35</td>\n",
       "    </tr>\n",
       "    <tr>\n",
       "      <th>3</th>\n",
       "      <td>ted</td>\n",
       "      <td>M</td>\n",
       "      <td>33</td>\n",
       "    </tr>\n",
       "    <tr>\n",
       "      <th>4</th>\n",
       "      <td>jean</td>\n",
       "      <td>F</td>\n",
       "      <td>21</td>\n",
       "    </tr>\n",
       "  </tbody>\n",
       "</table>\n",
       "</div>"
      ],
      "text/plain": [
       "    name gender  age\n",
       "0  frank      M   29\n",
       "1   mary      F   23\n",
       "2    tom      M   35\n",
       "3    ted      M   33\n",
       "4   jean      F   21"
      ]
     },
     "execution_count": 184,
     "metadata": {},
     "output_type": "execute_result"
    }
   ],
   "source": [
    "# 預設前五筆資料\n",
    "df.head()"
   ]
  },
  {
   "cell_type": "code",
   "execution_count": 185,
   "metadata": {},
   "outputs": [
    {
     "data": {
      "text/html": [
       "<div>\n",
       "<style>\n",
       "    .dataframe thead tr:only-child th {\n",
       "        text-align: right;\n",
       "    }\n",
       "\n",
       "    .dataframe thead th {\n",
       "        text-align: left;\n",
       "    }\n",
       "\n",
       "    .dataframe tbody tr th {\n",
       "        vertical-align: top;\n",
       "    }\n",
       "</style>\n",
       "<table border=\"1\" class=\"dataframe\">\n",
       "  <thead>\n",
       "    <tr style=\"text-align: right;\">\n",
       "      <th></th>\n",
       "      <th>name</th>\n",
       "      <th>gender</th>\n",
       "      <th>age</th>\n",
       "    </tr>\n",
       "  </thead>\n",
       "  <tbody>\n",
       "    <tr>\n",
       "      <th>0</th>\n",
       "      <td>frank</td>\n",
       "      <td>M</td>\n",
       "      <td>29</td>\n",
       "    </tr>\n",
       "    <tr>\n",
       "      <th>1</th>\n",
       "      <td>mary</td>\n",
       "      <td>F</td>\n",
       "      <td>23</td>\n",
       "    </tr>\n",
       "    <tr>\n",
       "      <th>2</th>\n",
       "      <td>tom</td>\n",
       "      <td>M</td>\n",
       "      <td>35</td>\n",
       "    </tr>\n",
       "  </tbody>\n",
       "</table>\n",
       "</div>"
      ],
      "text/plain": [
       "    name gender  age\n",
       "0  frank      M   29\n",
       "1   mary      F   23\n",
       "2    tom      M   35"
      ]
     },
     "execution_count": 185,
     "metadata": {},
     "output_type": "execute_result"
    }
   ],
   "source": [
    "df.head(3)"
   ]
  },
  {
   "cell_type": "code",
   "execution_count": 186,
   "metadata": {},
   "outputs": [
    {
     "data": {
      "text/html": [
       "<div>\n",
       "<style>\n",
       "    .dataframe thead tr:only-child th {\n",
       "        text-align: right;\n",
       "    }\n",
       "\n",
       "    .dataframe thead th {\n",
       "        text-align: left;\n",
       "    }\n",
       "\n",
       "    .dataframe tbody tr th {\n",
       "        vertical-align: top;\n",
       "    }\n",
       "</style>\n",
       "<table border=\"1\" class=\"dataframe\">\n",
       "  <thead>\n",
       "    <tr style=\"text-align: right;\">\n",
       "      <th></th>\n",
       "      <th>name</th>\n",
       "      <th>gender</th>\n",
       "      <th>age</th>\n",
       "    </tr>\n",
       "  </thead>\n",
       "  <tbody>\n",
       "    <tr>\n",
       "      <th>1</th>\n",
       "      <td>mary</td>\n",
       "      <td>F</td>\n",
       "      <td>23</td>\n",
       "    </tr>\n",
       "    <tr>\n",
       "      <th>2</th>\n",
       "      <td>tom</td>\n",
       "      <td>M</td>\n",
       "      <td>35</td>\n",
       "    </tr>\n",
       "    <tr>\n",
       "      <th>3</th>\n",
       "      <td>ted</td>\n",
       "      <td>M</td>\n",
       "      <td>33</td>\n",
       "    </tr>\n",
       "    <tr>\n",
       "      <th>4</th>\n",
       "      <td>jean</td>\n",
       "      <td>F</td>\n",
       "      <td>21</td>\n",
       "    </tr>\n",
       "    <tr>\n",
       "      <th>5</th>\n",
       "      <td>lisa</td>\n",
       "      <td>F</td>\n",
       "      <td>20</td>\n",
       "    </tr>\n",
       "  </tbody>\n",
       "</table>\n",
       "</div>"
      ],
      "text/plain": [
       "   name gender  age\n",
       "1  mary      F   23\n",
       "2   tom      M   35\n",
       "3   ted      M   33\n",
       "4  jean      F   21\n",
       "5  lisa      F   20"
      ]
     },
     "execution_count": 186,
     "metadata": {},
     "output_type": "execute_result"
    }
   ],
   "source": [
    "# 預設後五筆資料\n",
    "df.tail()"
   ]
  },
  {
   "cell_type": "code",
   "execution_count": 187,
   "metadata": {},
   "outputs": [
    {
     "data": {
      "text/html": [
       "<div>\n",
       "<style>\n",
       "    .dataframe thead tr:only-child th {\n",
       "        text-align: right;\n",
       "    }\n",
       "\n",
       "    .dataframe thead th {\n",
       "        text-align: left;\n",
       "    }\n",
       "\n",
       "    .dataframe tbody tr th {\n",
       "        vertical-align: top;\n",
       "    }\n",
       "</style>\n",
       "<table border=\"1\" class=\"dataframe\">\n",
       "  <thead>\n",
       "    <tr style=\"text-align: right;\">\n",
       "      <th></th>\n",
       "      <th>name</th>\n",
       "      <th>gender</th>\n",
       "      <th>age</th>\n",
       "    </tr>\n",
       "  </thead>\n",
       "  <tbody>\n",
       "    <tr>\n",
       "      <th>3</th>\n",
       "      <td>ted</td>\n",
       "      <td>M</td>\n",
       "      <td>33</td>\n",
       "    </tr>\n",
       "    <tr>\n",
       "      <th>4</th>\n",
       "      <td>jean</td>\n",
       "      <td>F</td>\n",
       "      <td>21</td>\n",
       "    </tr>\n",
       "    <tr>\n",
       "      <th>5</th>\n",
       "      <td>lisa</td>\n",
       "      <td>F</td>\n",
       "      <td>20</td>\n",
       "    </tr>\n",
       "  </tbody>\n",
       "</table>\n",
       "</div>"
      ],
      "text/plain": [
       "   name gender  age\n",
       "3   ted      M   33\n",
       "4  jean      F   21\n",
       "5  lisa      F   20"
      ]
     },
     "execution_count": 187,
     "metadata": {},
     "output_type": "execute_result"
    }
   ],
   "source": [
    "df.tail(3)"
   ]
  },
  {
   "cell_type": "code",
   "execution_count": 188,
   "metadata": {},
   "outputs": [
    {
     "name": "stdout",
     "output_type": "stream",
     "text": [
      "<class 'pandas.core.frame.DataFrame'>\n",
      "RangeIndex: 6 entries, 0 to 5\n",
      "Data columns (total 3 columns):\n",
      "name      6 non-null object\n",
      "gender    6 non-null object\n",
      "age       6 non-null int64\n",
      "dtypes: int64(1), object(2)\n",
      "memory usage: 224.0+ bytes\n"
     ]
    }
   ],
   "source": [
    "df.info()"
   ]
  },
  {
   "cell_type": "code",
   "execution_count": 189,
   "metadata": {},
   "outputs": [
    {
     "data": {
      "text/html": [
       "<div>\n",
       "<style>\n",
       "    .dataframe thead tr:only-child th {\n",
       "        text-align: right;\n",
       "    }\n",
       "\n",
       "    .dataframe thead th {\n",
       "        text-align: left;\n",
       "    }\n",
       "\n",
       "    .dataframe tbody tr th {\n",
       "        vertical-align: top;\n",
       "    }\n",
       "</style>\n",
       "<table border=\"1\" class=\"dataframe\">\n",
       "  <thead>\n",
       "    <tr style=\"text-align: right;\">\n",
       "      <th></th>\n",
       "      <th>age</th>\n",
       "    </tr>\n",
       "  </thead>\n",
       "  <tbody>\n",
       "    <tr>\n",
       "      <th>count</th>\n",
       "      <td>6.000000</td>\n",
       "    </tr>\n",
       "    <tr>\n",
       "      <th>mean</th>\n",
       "      <td>26.833333</td>\n",
       "    </tr>\n",
       "    <tr>\n",
       "      <th>std</th>\n",
       "      <td>6.400521</td>\n",
       "    </tr>\n",
       "    <tr>\n",
       "      <th>min</th>\n",
       "      <td>20.000000</td>\n",
       "    </tr>\n",
       "    <tr>\n",
       "      <th>25%</th>\n",
       "      <td>21.500000</td>\n",
       "    </tr>\n",
       "    <tr>\n",
       "      <th>50%</th>\n",
       "      <td>26.000000</td>\n",
       "    </tr>\n",
       "    <tr>\n",
       "      <th>75%</th>\n",
       "      <td>32.000000</td>\n",
       "    </tr>\n",
       "    <tr>\n",
       "      <th>max</th>\n",
       "      <td>35.000000</td>\n",
       "    </tr>\n",
       "  </tbody>\n",
       "</table>\n",
       "</div>"
      ],
      "text/plain": [
       "             age\n",
       "count   6.000000\n",
       "mean   26.833333\n",
       "std     6.400521\n",
       "min    20.000000\n",
       "25%    21.500000\n",
       "50%    26.000000\n",
       "75%    32.000000\n",
       "max    35.000000"
      ]
     },
     "execution_count": 189,
     "metadata": {},
     "output_type": "execute_result"
    }
   ],
   "source": [
    "df.describe()"
   ]
  },
  {
   "cell_type": "code",
   "execution_count": 190,
   "metadata": {},
   "outputs": [
    {
     "data": {
      "text/plain": [
       "name      object\n",
       "gender    object\n",
       "age        int64\n",
       "dtype: object"
      ]
     },
     "execution_count": 190,
     "metadata": {},
     "output_type": "execute_result"
    }
   ],
   "source": [
    "df.dtypes"
   ]
  },
  {
   "cell_type": "code",
   "execution_count": 192,
   "metadata": {
    "collapsed": true
   },
   "outputs": [],
   "source": [
    "df['employee'] = True"
   ]
  },
  {
   "cell_type": "code",
   "execution_count": 193,
   "metadata": {},
   "outputs": [
    {
     "data": {
      "text/html": [
       "<div>\n",
       "<style>\n",
       "    .dataframe thead tr:only-child th {\n",
       "        text-align: right;\n",
       "    }\n",
       "\n",
       "    .dataframe thead th {\n",
       "        text-align: left;\n",
       "    }\n",
       "\n",
       "    .dataframe tbody tr th {\n",
       "        vertical-align: top;\n",
       "    }\n",
       "</style>\n",
       "<table border=\"1\" class=\"dataframe\">\n",
       "  <thead>\n",
       "    <tr style=\"text-align: right;\">\n",
       "      <th></th>\n",
       "      <th>name</th>\n",
       "      <th>gender</th>\n",
       "      <th>age</th>\n",
       "      <th>employee</th>\n",
       "    </tr>\n",
       "  </thead>\n",
       "  <tbody>\n",
       "    <tr>\n",
       "      <th>0</th>\n",
       "      <td>frank</td>\n",
       "      <td>M</td>\n",
       "      <td>29</td>\n",
       "      <td>True</td>\n",
       "    </tr>\n",
       "    <tr>\n",
       "      <th>1</th>\n",
       "      <td>mary</td>\n",
       "      <td>F</td>\n",
       "      <td>23</td>\n",
       "      <td>True</td>\n",
       "    </tr>\n",
       "    <tr>\n",
       "      <th>2</th>\n",
       "      <td>tom</td>\n",
       "      <td>M</td>\n",
       "      <td>35</td>\n",
       "      <td>True</td>\n",
       "    </tr>\n",
       "    <tr>\n",
       "      <th>3</th>\n",
       "      <td>ted</td>\n",
       "      <td>M</td>\n",
       "      <td>33</td>\n",
       "      <td>True</td>\n",
       "    </tr>\n",
       "    <tr>\n",
       "      <th>4</th>\n",
       "      <td>jean</td>\n",
       "      <td>F</td>\n",
       "      <td>21</td>\n",
       "      <td>True</td>\n",
       "    </tr>\n",
       "    <tr>\n",
       "      <th>5</th>\n",
       "      <td>lisa</td>\n",
       "      <td>F</td>\n",
       "      <td>20</td>\n",
       "      <td>True</td>\n",
       "    </tr>\n",
       "  </tbody>\n",
       "</table>\n",
       "</div>"
      ],
      "text/plain": [
       "    name gender  age  employee\n",
       "0  frank      M   29      True\n",
       "1   mary      F   23      True\n",
       "2    tom      M   35      True\n",
       "3    ted      M   33      True\n",
       "4   jean      F   21      True\n",
       "5   lisa      F   20      True"
      ]
     },
     "execution_count": 193,
     "metadata": {},
     "output_type": "execute_result"
    }
   ],
   "source": [
    "df"
   ]
  },
  {
   "cell_type": "code",
   "execution_count": 194,
   "metadata": {},
   "outputs": [
    {
     "data": {
      "text/plain": [
       "30"
      ]
     },
     "execution_count": 194,
     "metadata": {},
     "output_type": "execute_result"
    }
   ],
   "source": [
    "a = 30\n",
    "a"
   ]
  },
  {
   "cell_type": "code",
   "execution_count": 195,
   "metadata": {
    "collapsed": true
   },
   "outputs": [],
   "source": [
    "del a"
   ]
  },
  {
   "cell_type": "code",
   "execution_count": 196,
   "metadata": {},
   "outputs": [
    {
     "ename": "NameError",
     "evalue": "name 'a' is not defined",
     "output_type": "error",
     "traceback": [
      "\u001b[1;31m---------------------------------------------------------------------------\u001b[0m",
      "\u001b[1;31mNameError\u001b[0m                                 Traceback (most recent call last)",
      "\u001b[1;32m<ipython-input-196-60b725f10c9c>\u001b[0m in \u001b[0;36m<module>\u001b[1;34m()\u001b[0m\n\u001b[1;32m----> 1\u001b[1;33m \u001b[0ma\u001b[0m\u001b[1;33m\u001b[0m\u001b[0m\n\u001b[0m",
      "\u001b[1;31mNameError\u001b[0m: name 'a' is not defined"
     ]
    }
   ],
   "source": [
    "a"
   ]
  },
  {
   "cell_type": "code",
   "execution_count": 197,
   "metadata": {
    "collapsed": true
   },
   "outputs": [],
   "source": [
    "del df['employee']"
   ]
  },
  {
   "cell_type": "code",
   "execution_count": 208,
   "metadata": {
    "collapsed": true
   },
   "outputs": [],
   "source": [
    "df['employee'] = True"
   ]
  },
  {
   "cell_type": "code",
   "execution_count": 209,
   "metadata": {
    "collapsed": true
   },
   "outputs": [],
   "source": [
    "# 將修改完的結果塞回df\n",
    "#df = df.drop('employee',  axis = 1)\n",
    "\n",
    "# 直接修改df 的內容\n",
    "df.drop('employee',  axis = 1, inplace=True)"
   ]
  },
  {
   "cell_type": "code",
   "execution_count": 207,
   "metadata": {},
   "outputs": [
    {
     "data": {
      "text/html": [
       "<div>\n",
       "<style>\n",
       "    .dataframe thead tr:only-child th {\n",
       "        text-align: right;\n",
       "    }\n",
       "\n",
       "    .dataframe thead th {\n",
       "        text-align: left;\n",
       "    }\n",
       "\n",
       "    .dataframe tbody tr th {\n",
       "        vertical-align: top;\n",
       "    }\n",
       "</style>\n",
       "<table border=\"1\" class=\"dataframe\">\n",
       "  <thead>\n",
       "    <tr style=\"text-align: right;\">\n",
       "      <th></th>\n",
       "      <th>name</th>\n",
       "      <th>gender</th>\n",
       "      <th>age</th>\n",
       "    </tr>\n",
       "  </thead>\n",
       "  <tbody>\n",
       "    <tr>\n",
       "      <th>0</th>\n",
       "      <td>frank</td>\n",
       "      <td>M</td>\n",
       "      <td>29</td>\n",
       "    </tr>\n",
       "    <tr>\n",
       "      <th>1</th>\n",
       "      <td>mary</td>\n",
       "      <td>F</td>\n",
       "      <td>23</td>\n",
       "    </tr>\n",
       "    <tr>\n",
       "      <th>2</th>\n",
       "      <td>tom</td>\n",
       "      <td>M</td>\n",
       "      <td>35</td>\n",
       "    </tr>\n",
       "    <tr>\n",
       "      <th>3</th>\n",
       "      <td>ted</td>\n",
       "      <td>M</td>\n",
       "      <td>33</td>\n",
       "    </tr>\n",
       "    <tr>\n",
       "      <th>4</th>\n",
       "      <td>jean</td>\n",
       "      <td>F</td>\n",
       "      <td>21</td>\n",
       "    </tr>\n",
       "    <tr>\n",
       "      <th>5</th>\n",
       "      <td>lisa</td>\n",
       "      <td>F</td>\n",
       "      <td>20</td>\n",
       "    </tr>\n",
       "  </tbody>\n",
       "</table>\n",
       "</div>"
      ],
      "text/plain": [
       "    name gender  age\n",
       "0  frank      M   29\n",
       "1   mary      F   23\n",
       "2    tom      M   35\n",
       "3    ted      M   33\n",
       "4   jean      F   21\n",
       "5   lisa      F   20"
      ]
     },
     "execution_count": 207,
     "metadata": {},
     "output_type": "execute_result"
    }
   ],
   "source": [
    "df"
   ]
  },
  {
   "cell_type": "code",
   "execution_count": 212,
   "metadata": {},
   "outputs": [
    {
     "data": {
      "text/html": [
       "<div>\n",
       "<style>\n",
       "    .dataframe thead tr:only-child th {\n",
       "        text-align: right;\n",
       "    }\n",
       "\n",
       "    .dataframe thead th {\n",
       "        text-align: left;\n",
       "    }\n",
       "\n",
       "    .dataframe tbody tr th {\n",
       "        vertical-align: top;\n",
       "    }\n",
       "</style>\n",
       "<table border=\"1\" class=\"dataframe\">\n",
       "  <thead>\n",
       "    <tr style=\"text-align: right;\">\n",
       "      <th></th>\n",
       "      <th>0</th>\n",
       "      <th>1</th>\n",
       "    </tr>\n",
       "  </thead>\n",
       "  <tbody>\n",
       "    <tr>\n",
       "      <th>1</th>\n",
       "      <td>a</td>\n",
       "      <td>2</td>\n",
       "    </tr>\n",
       "    <tr>\n",
       "      <th>3</th>\n",
       "      <td>b</td>\n",
       "      <td>3</td>\n",
       "    </tr>\n",
       "  </tbody>\n",
       "</table>\n",
       "</div>"
      ],
      "text/plain": [
       "   0  1\n",
       "1  a  2\n",
       "3  b  3"
      ]
     },
     "execution_count": 212,
     "metadata": {},
     "output_type": "execute_result"
    }
   ],
   "source": [
    "df2 = pandas.DataFrame([['a', '1'], ['a', '2'], ['b', '3'], ['b', '3']])\n",
    "df2.drop_duplicates()\n",
    "df2.drop_duplicates(0,keep='last')"
   ]
  },
  {
   "cell_type": "code",
   "execution_count": 213,
   "metadata": {},
   "outputs": [
    {
     "data": {
      "text/html": [
       "<div>\n",
       "<style>\n",
       "    .dataframe thead tr:only-child th {\n",
       "        text-align: right;\n",
       "    }\n",
       "\n",
       "    .dataframe thead th {\n",
       "        text-align: left;\n",
       "    }\n",
       "\n",
       "    .dataframe tbody tr th {\n",
       "        vertical-align: top;\n",
       "    }\n",
       "</style>\n",
       "<table border=\"1\" class=\"dataframe\">\n",
       "  <thead>\n",
       "    <tr style=\"text-align: right;\">\n",
       "      <th></th>\n",
       "      <th>name</th>\n",
       "      <th>gender</th>\n",
       "      <th>age</th>\n",
       "    </tr>\n",
       "  </thead>\n",
       "  <tbody>\n",
       "    <tr>\n",
       "      <th>0</th>\n",
       "      <td>frank</td>\n",
       "      <td>M</td>\n",
       "      <td>29</td>\n",
       "    </tr>\n",
       "    <tr>\n",
       "      <th>1</th>\n",
       "      <td>mary</td>\n",
       "      <td>F</td>\n",
       "      <td>23</td>\n",
       "    </tr>\n",
       "    <tr>\n",
       "      <th>2</th>\n",
       "      <td>tom</td>\n",
       "      <td>M</td>\n",
       "      <td>35</td>\n",
       "    </tr>\n",
       "    <tr>\n",
       "      <th>3</th>\n",
       "      <td>ted</td>\n",
       "      <td>M</td>\n",
       "      <td>33</td>\n",
       "    </tr>\n",
       "    <tr>\n",
       "      <th>4</th>\n",
       "      <td>jean</td>\n",
       "      <td>F</td>\n",
       "      <td>21</td>\n",
       "    </tr>\n",
       "    <tr>\n",
       "      <th>5</th>\n",
       "      <td>lisa</td>\n",
       "      <td>F</td>\n",
       "      <td>20</td>\n",
       "    </tr>\n",
       "    <tr>\n",
       "      <th>6</th>\n",
       "      <td>qoo</td>\n",
       "      <td>F</td>\n",
       "      <td>20</td>\n",
       "    </tr>\n",
       "  </tbody>\n",
       "</table>\n",
       "</div>"
      ],
      "text/plain": [
       "    name gender  age\n",
       "0  frank      M   29\n",
       "1   mary      F   23\n",
       "2    tom      M   35\n",
       "3    ted      M   33\n",
       "4   jean      F   21\n",
       "5   lisa      F   20\n",
       "6    qoo      F   20"
      ]
     },
     "execution_count": 213,
     "metadata": {},
     "output_type": "execute_result"
    }
   ],
   "source": [
    "df.loc[6]={'age':20,'gender':'F','name':'qoo'}\n",
    "df"
   ]
  },
  {
   "cell_type": "code",
   "execution_count": 215,
   "metadata": {},
   "outputs": [
    {
     "data": {
      "text/html": [
       "<div>\n",
       "<style>\n",
       "    .dataframe thead tr:only-child th {\n",
       "        text-align: right;\n",
       "    }\n",
       "\n",
       "    .dataframe thead th {\n",
       "        text-align: left;\n",
       "    }\n",
       "\n",
       "    .dataframe tbody tr th {\n",
       "        vertical-align: top;\n",
       "    }\n",
       "</style>\n",
       "<table border=\"1\" class=\"dataframe\">\n",
       "  <thead>\n",
       "    <tr style=\"text-align: right;\">\n",
       "      <th></th>\n",
       "      <th>age</th>\n",
       "      <th>gender</th>\n",
       "      <th>name</th>\n",
       "    </tr>\n",
       "  </thead>\n",
       "  <tbody>\n",
       "    <tr>\n",
       "      <th>0</th>\n",
       "      <td>29</td>\n",
       "      <td>M</td>\n",
       "      <td>frank</td>\n",
       "    </tr>\n",
       "    <tr>\n",
       "      <th>1</th>\n",
       "      <td>23</td>\n",
       "      <td>F</td>\n",
       "      <td>mary</td>\n",
       "    </tr>\n",
       "    <tr>\n",
       "      <th>2</th>\n",
       "      <td>35</td>\n",
       "      <td>M</td>\n",
       "      <td>tom</td>\n",
       "    </tr>\n",
       "    <tr>\n",
       "      <th>3</th>\n",
       "      <td>33</td>\n",
       "      <td>M</td>\n",
       "      <td>ted</td>\n",
       "    </tr>\n",
       "    <tr>\n",
       "      <th>4</th>\n",
       "      <td>21</td>\n",
       "      <td>F</td>\n",
       "      <td>jean</td>\n",
       "    </tr>\n",
       "    <tr>\n",
       "      <th>5</th>\n",
       "      <td>20</td>\n",
       "      <td>F</td>\n",
       "      <td>lisa</td>\n",
       "    </tr>\n",
       "    <tr>\n",
       "      <th>6</th>\n",
       "      <td>20</td>\n",
       "      <td>F</td>\n",
       "      <td>qoo</td>\n",
       "    </tr>\n",
       "    <tr>\n",
       "      <th>0</th>\n",
       "      <td>20</td>\n",
       "      <td>F</td>\n",
       "      <td>qoo2</td>\n",
       "    </tr>\n",
       "  </tbody>\n",
       "</table>\n",
       "</div>"
      ],
      "text/plain": [
       "   age gender   name\n",
       "0   29      M  frank\n",
       "1   23      F   mary\n",
       "2   35      M    tom\n",
       "3   33      M    ted\n",
       "4   21      F   jean\n",
       "5   20      F   lisa\n",
       "6   20      F    qoo\n",
       "0   20      F   qoo2"
      ]
     },
     "execution_count": 215,
     "metadata": {},
     "output_type": "execute_result"
    }
   ],
   "source": [
    "df = df.append(pd.DataFrame([{'age':20,'gender':'F','name':'qoo2'}]))\n",
    "df"
   ]
  },
  {
   "cell_type": "code",
   "execution_count": 216,
   "metadata": {},
   "outputs": [
    {
     "data": {
      "text/html": [
       "<div>\n",
       "<style>\n",
       "    .dataframe thead tr:only-child th {\n",
       "        text-align: right;\n",
       "    }\n",
       "\n",
       "    .dataframe thead th {\n",
       "        text-align: left;\n",
       "    }\n",
       "\n",
       "    .dataframe tbody tr th {\n",
       "        vertical-align: top;\n",
       "    }\n",
       "</style>\n",
       "<table border=\"1\" class=\"dataframe\">\n",
       "  <thead>\n",
       "    <tr style=\"text-align: right;\">\n",
       "      <th></th>\n",
       "      <th>age</th>\n",
       "      <th>gender</th>\n",
       "      <th>name</th>\n",
       "    </tr>\n",
       "  </thead>\n",
       "  <tbody>\n",
       "    <tr>\n",
       "      <th>0</th>\n",
       "      <td>29</td>\n",
       "      <td>M</td>\n",
       "      <td>frank</td>\n",
       "    </tr>\n",
       "    <tr>\n",
       "      <th>1</th>\n",
       "      <td>23</td>\n",
       "      <td>F</td>\n",
       "      <td>mary</td>\n",
       "    </tr>\n",
       "    <tr>\n",
       "      <th>2</th>\n",
       "      <td>35</td>\n",
       "      <td>M</td>\n",
       "      <td>tom</td>\n",
       "    </tr>\n",
       "    <tr>\n",
       "      <th>3</th>\n",
       "      <td>33</td>\n",
       "      <td>M</td>\n",
       "      <td>ted</td>\n",
       "    </tr>\n",
       "    <tr>\n",
       "      <th>4</th>\n",
       "      <td>21</td>\n",
       "      <td>F</td>\n",
       "      <td>jean</td>\n",
       "    </tr>\n",
       "    <tr>\n",
       "      <th>5</th>\n",
       "      <td>20</td>\n",
       "      <td>F</td>\n",
       "      <td>lisa</td>\n",
       "    </tr>\n",
       "    <tr>\n",
       "      <th>6</th>\n",
       "      <td>20</td>\n",
       "      <td>F</td>\n",
       "      <td>qoo</td>\n",
       "    </tr>\n",
       "    <tr>\n",
       "      <th>7</th>\n",
       "      <td>20</td>\n",
       "      <td>F</td>\n",
       "      <td>qoo2</td>\n",
       "    </tr>\n",
       "    <tr>\n",
       "      <th>8</th>\n",
       "      <td>20</td>\n",
       "      <td>F</td>\n",
       "      <td>qoo3</td>\n",
       "    </tr>\n",
       "  </tbody>\n",
       "</table>\n",
       "</div>"
      ],
      "text/plain": [
       "   age gender   name\n",
       "0   29      M  frank\n",
       "1   23      F   mary\n",
       "2   35      M    tom\n",
       "3   33      M    ted\n",
       "4   21      F   jean\n",
       "5   20      F   lisa\n",
       "6   20      F    qoo\n",
       "7   20      F   qoo2\n",
       "8   20      F   qoo3"
      ]
     },
     "execution_count": 216,
     "metadata": {},
     "output_type": "execute_result"
    }
   ],
   "source": [
    "df = df.append(pd.DataFrame([{'age':20,'gender':'F','name':'qoo3'}]), ignore_index=True)\n",
    "df"
   ]
  },
  {
   "cell_type": "code",
   "execution_count": 219,
   "metadata": {
    "collapsed": true
   },
   "outputs": [],
   "source": [
    "df['userid'] = range(101,110)"
   ]
  },
  {
   "cell_type": "code",
   "execution_count": 221,
   "metadata": {
    "collapsed": true
   },
   "outputs": [],
   "source": [
    "df.set_index('userid', inplace=True)"
   ]
  },
  {
   "cell_type": "code",
   "execution_count": 222,
   "metadata": {},
   "outputs": [
    {
     "data": {
      "text/html": [
       "<div>\n",
       "<style>\n",
       "    .dataframe thead tr:only-child th {\n",
       "        text-align: right;\n",
       "    }\n",
       "\n",
       "    .dataframe thead th {\n",
       "        text-align: left;\n",
       "    }\n",
       "\n",
       "    .dataframe tbody tr th {\n",
       "        vertical-align: top;\n",
       "    }\n",
       "</style>\n",
       "<table border=\"1\" class=\"dataframe\">\n",
       "  <thead>\n",
       "    <tr style=\"text-align: right;\">\n",
       "      <th></th>\n",
       "      <th>age</th>\n",
       "      <th>gender</th>\n",
       "      <th>name</th>\n",
       "    </tr>\n",
       "    <tr>\n",
       "      <th>userid</th>\n",
       "      <th></th>\n",
       "      <th></th>\n",
       "      <th></th>\n",
       "    </tr>\n",
       "  </thead>\n",
       "  <tbody>\n",
       "    <tr>\n",
       "      <th>101</th>\n",
       "      <td>29</td>\n",
       "      <td>M</td>\n",
       "      <td>frank</td>\n",
       "    </tr>\n",
       "    <tr>\n",
       "      <th>102</th>\n",
       "      <td>23</td>\n",
       "      <td>F</td>\n",
       "      <td>mary</td>\n",
       "    </tr>\n",
       "    <tr>\n",
       "      <th>103</th>\n",
       "      <td>35</td>\n",
       "      <td>M</td>\n",
       "      <td>tom</td>\n",
       "    </tr>\n",
       "    <tr>\n",
       "      <th>104</th>\n",
       "      <td>33</td>\n",
       "      <td>M</td>\n",
       "      <td>ted</td>\n",
       "    </tr>\n",
       "    <tr>\n",
       "      <th>105</th>\n",
       "      <td>21</td>\n",
       "      <td>F</td>\n",
       "      <td>jean</td>\n",
       "    </tr>\n",
       "    <tr>\n",
       "      <th>106</th>\n",
       "      <td>20</td>\n",
       "      <td>F</td>\n",
       "      <td>lisa</td>\n",
       "    </tr>\n",
       "    <tr>\n",
       "      <th>107</th>\n",
       "      <td>20</td>\n",
       "      <td>F</td>\n",
       "      <td>qoo</td>\n",
       "    </tr>\n",
       "    <tr>\n",
       "      <th>108</th>\n",
       "      <td>20</td>\n",
       "      <td>F</td>\n",
       "      <td>qoo2</td>\n",
       "    </tr>\n",
       "    <tr>\n",
       "      <th>109</th>\n",
       "      <td>20</td>\n",
       "      <td>F</td>\n",
       "      <td>qoo3</td>\n",
       "    </tr>\n",
       "  </tbody>\n",
       "</table>\n",
       "</div>"
      ],
      "text/plain": [
       "        age gender   name\n",
       "userid                   \n",
       "101      29      M  frank\n",
       "102      23      F   mary\n",
       "103      35      M    tom\n",
       "104      33      M    ted\n",
       "105      21      F   jean\n",
       "106      20      F   lisa\n",
       "107      20      F    qoo\n",
       "108      20      F   qoo2\n",
       "109      20      F   qoo3"
      ]
     },
     "execution_count": 222,
     "metadata": {},
     "output_type": "execute_result"
    }
   ],
   "source": [
    "df"
   ]
  },
  {
   "cell_type": "code",
   "execution_count": 224,
   "metadata": {},
   "outputs": [
    {
     "data": {
      "text/plain": [
       "age         23\n",
       "gender       F\n",
       "name      mary\n",
       "Name: 102, dtype: object"
      ]
     },
     "execution_count": 224,
     "metadata": {},
     "output_type": "execute_result"
    }
   ],
   "source": [
    "df.iloc[1]"
   ]
  },
  {
   "cell_type": "code",
   "execution_count": 228,
   "metadata": {},
   "outputs": [
    {
     "data": {
      "text/html": [
       "<div>\n",
       "<style>\n",
       "    .dataframe thead tr:only-child th {\n",
       "        text-align: right;\n",
       "    }\n",
       "\n",
       "    .dataframe thead th {\n",
       "        text-align: left;\n",
       "    }\n",
       "\n",
       "    .dataframe tbody tr th {\n",
       "        vertical-align: top;\n",
       "    }\n",
       "</style>\n",
       "<table border=\"1\" class=\"dataframe\">\n",
       "  <thead>\n",
       "    <tr style=\"text-align: right;\">\n",
       "      <th></th>\n",
       "      <th>age</th>\n",
       "      <th>gender</th>\n",
       "      <th>name</th>\n",
       "    </tr>\n",
       "    <tr>\n",
       "      <th>userid</th>\n",
       "      <th></th>\n",
       "      <th></th>\n",
       "      <th></th>\n",
       "    </tr>\n",
       "  </thead>\n",
       "  <tbody>\n",
       "    <tr>\n",
       "      <th>102</th>\n",
       "      <td>23</td>\n",
       "      <td>F</td>\n",
       "      <td>mary</td>\n",
       "    </tr>\n",
       "    <tr>\n",
       "      <th>104</th>\n",
       "      <td>33</td>\n",
       "      <td>M</td>\n",
       "      <td>ted</td>\n",
       "    </tr>\n",
       "    <tr>\n",
       "      <th>106</th>\n",
       "      <td>20</td>\n",
       "      <td>F</td>\n",
       "      <td>lisa</td>\n",
       "    </tr>\n",
       "  </tbody>\n",
       "</table>\n",
       "</div>"
      ],
      "text/plain": [
       "        age gender  name\n",
       "userid                  \n",
       "102      23      F  mary\n",
       "104      33      M   ted\n",
       "106      20      F  lisa"
      ]
     },
     "execution_count": 228,
     "metadata": {},
     "output_type": "execute_result"
    }
   ],
   "source": [
    "df.iloc[[1,3,5]]"
   ]
  },
  {
   "cell_type": "code",
   "execution_count": 229,
   "metadata": {},
   "outputs": [
    {
     "data": {
      "text/html": [
       "<div>\n",
       "<style>\n",
       "    .dataframe thead tr:only-child th {\n",
       "        text-align: right;\n",
       "    }\n",
       "\n",
       "    .dataframe thead th {\n",
       "        text-align: left;\n",
       "    }\n",
       "\n",
       "    .dataframe tbody tr th {\n",
       "        vertical-align: top;\n",
       "    }\n",
       "</style>\n",
       "<table border=\"1\" class=\"dataframe\">\n",
       "  <thead>\n",
       "    <tr style=\"text-align: right;\">\n",
       "      <th></th>\n",
       "      <th>age</th>\n",
       "      <th>gender</th>\n",
       "      <th>name</th>\n",
       "    </tr>\n",
       "    <tr>\n",
       "      <th>userid</th>\n",
       "      <th></th>\n",
       "      <th></th>\n",
       "      <th></th>\n",
       "    </tr>\n",
       "  </thead>\n",
       "  <tbody>\n",
       "    <tr>\n",
       "      <th>101</th>\n",
       "      <td>29</td>\n",
       "      <td>M</td>\n",
       "      <td>frank</td>\n",
       "    </tr>\n",
       "    <tr>\n",
       "      <th>103</th>\n",
       "      <td>35</td>\n",
       "      <td>M</td>\n",
       "      <td>tom</td>\n",
       "    </tr>\n",
       "    <tr>\n",
       "      <th>105</th>\n",
       "      <td>21</td>\n",
       "      <td>F</td>\n",
       "      <td>jean</td>\n",
       "    </tr>\n",
       "  </tbody>\n",
       "</table>\n",
       "</div>"
      ],
      "text/plain": [
       "        age gender   name\n",
       "userid                   \n",
       "101      29      M  frank\n",
       "103      35      M    tom\n",
       "105      21      F   jean"
      ]
     },
     "execution_count": 229,
     "metadata": {},
     "output_type": "execute_result"
    }
   ],
   "source": [
    "df.loc[[101,103,105]]"
   ]
  },
  {
   "cell_type": "markdown",
   "metadata": {},
   "source": [
    "## 資料清理實務"
   ]
  },
  {
   "cell_type": "code",
   "execution_count": 231,
   "metadata": {},
   "outputs": [
    {
     "data": {
      "text/html": [
       "<div>\n",
       "<style>\n",
       "    .dataframe thead tr:only-child th {\n",
       "        text-align: right;\n",
       "    }\n",
       "\n",
       "    .dataframe thead th {\n",
       "        text-align: left;\n",
       "    }\n",
       "\n",
       "    .dataframe tbody tr th {\n",
       "        vertical-align: top;\n",
       "    }\n",
       "</style>\n",
       "<table border=\"1\" class=\"dataframe\">\n",
       "  <thead>\n",
       "    <tr style=\"text-align: right;\">\n",
       "      <th></th>\n",
       "      <th>author</th>\n",
       "      <th>content</th>\n",
       "      <th>dt</th>\n",
       "      <th>source</th>\n",
       "      <th>title</th>\n",
       "    </tr>\n",
       "  </thead>\n",
       "  <tbody>\n",
       "    <tr>\n",
       "      <th>0</th>\n",
       "      <td>kickingbird</td>\n",
       "      <td>2017年8月14日，湘西自治州報告一例人感染H7N9流感確診病例。患者莫某某，48歲，以收...</td>\n",
       "      <td>2017-08-15 11:58:00</td>\n",
       "      <td>湖南省疾病預防控制中心</td>\n",
       "      <td>中國：湖南省湘西自治州報告一例人感染H7N9流感確診病例</td>\n",
       "    </tr>\n",
       "    <tr>\n",
       "      <th>1</th>\n",
       "      <td>kickingbird</td>\n",
       "      <td>衛生署衛生防護中心今日（八月四日）正監察國家衛生和計劃生育委員會通報在七月二十八日至八月三日...</td>\n",
       "      <td>2017-08-05 19:19:00</td>\n",
       "      <td>香港衛生防護中心</td>\n",
       "      <td>中國：香港衛生防護中心獲通報福建人類感染甲型禽流感（H7N9）個案</td>\n",
       "    </tr>\n",
       "    <tr>\n",
       "      <th>2</th>\n",
       "      <td>kickingbird</td>\n",
       "      <td>農業部新聞辦公室8月1日發布，內蒙古自治區通遼市科爾沁區發生一起家禽H5N1亞型高致病性禽流...</td>\n",
       "      <td>2017-08-05 19:16:00</td>\n",
       "      <td>中國農業部</td>\n",
       "      <td>中國：內蒙古自治區通遼市科爾沁區發生一起家禽H5N1亞型高致病性禽流感疫情</td>\n",
       "    </tr>\n",
       "    <tr>\n",
       "      <th>3</th>\n",
       "      <td>kickingbird</td>\n",
       "      <td>有關陽性樣品說明：\\n　 　一、H7亞型禽流感血清學陽性樣品（3018份）\\n　　（一）北京...</td>\n",
       "      <td>2017-07-26 10:34:00</td>\n",
       "      <td>中國農業部</td>\n",
       "      <td>中國：2017年6月全國動物H7N9流感監測情況</td>\n",
       "    </tr>\n",
       "    <tr>\n",
       "      <th>4</th>\n",
       "      <td>kickingbird</td>\n",
       "      <td>香港衛生署衛生防護中心（七月二十一日）正監察國家衛生和計劃生育委員會通報在七月十四至二十日期...</td>\n",
       "      <td>2017-07-23 16:48:00</td>\n",
       "      <td>香港衛生防護中心</td>\n",
       "      <td>中國：香港衛生防護中心獲通報江蘇人類感染甲型禽流感(H7N9)個案</td>\n",
       "    </tr>\n",
       "  </tbody>\n",
       "</table>\n",
       "</div>"
      ],
      "text/plain": [
       "        author                                            content  \\\n",
       "0  kickingbird  2017年8月14日，湘西自治州報告一例人感染H7N9流感確診病例。患者莫某某，48歲，以收...   \n",
       "1  kickingbird  衛生署衛生防護中心今日（八月四日）正監察國家衛生和計劃生育委員會通報在七月二十八日至八月三日...   \n",
       "2  kickingbird  農業部新聞辦公室8月1日發布，內蒙古自治區通遼市科爾沁區發生一起家禽H5N1亞型高致病性禽流...   \n",
       "3  kickingbird  有關陽性樣品說明：\\n　 　一、H7亞型禽流感血清學陽性樣品（3018份）\\n　　（一）北京...   \n",
       "4  kickingbird  香港衛生署衛生防護中心（七月二十一日）正監察國家衛生和計劃生育委員會通報在七月十四至二十日期...   \n",
       "\n",
       "                   dt       source                                  title  \n",
       "0 2017-08-15 11:58:00  湖南省疾病預防控制中心           中國：湖南省湘西自治州報告一例人感染H7N9流感確診病例  \n",
       "1 2017-08-05 19:19:00     香港衛生防護中心      中國：香港衛生防護中心獲通報福建人類感染甲型禽流感（H7N9）個案  \n",
       "2 2017-08-05 19:16:00        中國農業部  中國：內蒙古自治區通遼市科爾沁區發生一起家禽H5N1亞型高致病性禽流感疫情  \n",
       "3 2017-07-26 10:34:00        中國農業部               中國：2017年6月全國動物H7N9流感監測情況  \n",
       "4 2017-07-23 16:48:00     香港衛生防護中心      中國：香港衛生防護中心獲通報江蘇人類感染甲型禽流感(H7N9)個案  "
      ]
     },
     "execution_count": 231,
     "metadata": {},
     "output_type": "execute_result"
    }
   ],
   "source": [
    "import pandas\n",
    "df = pandas.read_excel('fic.xlsx')\n",
    "df.head()"
   ]
  },
  {
   "cell_type": "code",
   "execution_count": 233,
   "metadata": {},
   "outputs": [
    {
     "data": {
      "text/html": [
       "<div>\n",
       "<style>\n",
       "    .dataframe thead tr:only-child th {\n",
       "        text-align: right;\n",
       "    }\n",
       "\n",
       "    .dataframe thead th {\n",
       "        text-align: left;\n",
       "    }\n",
       "\n",
       "    .dataframe tbody tr th {\n",
       "        vertical-align: top;\n",
       "    }\n",
       "</style>\n",
       "<table border=\"1\" class=\"dataframe\">\n",
       "  <thead>\n",
       "    <tr style=\"text-align: right;\">\n",
       "      <th></th>\n",
       "      <th>author</th>\n",
       "      <th>content</th>\n",
       "      <th>dt</th>\n",
       "      <th>source</th>\n",
       "      <th>title</th>\n",
       "    </tr>\n",
       "  </thead>\n",
       "  <tbody>\n",
       "    <tr>\n",
       "      <th>0</th>\n",
       "      <td>kickingbird</td>\n",
       "      <td>2017年8月14日，湘西自治州報告一例人感染H7N9流感確診病例。患者莫某某，48歲，以收...</td>\n",
       "      <td>2017-08-15 11:58:00</td>\n",
       "      <td>湖南省疾病預防控制中心</td>\n",
       "      <td>中國：湖南省湘西自治州報告一例人感染H7N9流感確診病例</td>\n",
       "    </tr>\n",
       "    <tr>\n",
       "      <th>1</th>\n",
       "      <td>kickingbird</td>\n",
       "      <td>衛生署衛生防護中心今日（八月四日）正監察國家衛生和計劃生育委員會通報在七月二十八日至八月三日...</td>\n",
       "      <td>2017-08-05 19:19:00</td>\n",
       "      <td>香港衛生防護中心</td>\n",
       "      <td>中國：香港衛生防護中心獲通報福建人類感染甲型禽流感（H7N9）個案</td>\n",
       "    </tr>\n",
       "    <tr>\n",
       "      <th>2</th>\n",
       "      <td>kickingbird</td>\n",
       "      <td>農業部新聞辦公室8月1日發布，內蒙古自治區通遼市科爾沁區發生一起家禽H5N1亞型高致病性禽流...</td>\n",
       "      <td>2017-08-05 19:16:00</td>\n",
       "      <td>中國農業部</td>\n",
       "      <td>中國：內蒙古自治區通遼市科爾沁區發生一起家禽H5N1亞型高致病性禽流感疫情</td>\n",
       "    </tr>\n",
       "    <tr>\n",
       "      <th>3</th>\n",
       "      <td>kickingbird</td>\n",
       "      <td>有關陽性樣品說明：\\n　 　一、H7亞型禽流感血清學陽性樣品（3018份）\\n　　（一）北京...</td>\n",
       "      <td>2017-07-26 10:34:00</td>\n",
       "      <td>中國農業部</td>\n",
       "      <td>中國：2017年6月全國動物H7N9流感監測情況</td>\n",
       "    </tr>\n",
       "    <tr>\n",
       "      <th>4</th>\n",
       "      <td>kickingbird</td>\n",
       "      <td>香港衛生署衛生防護中心（七月二十一日）正監察國家衛生和計劃生育委員會通報在七月十四至二十日期...</td>\n",
       "      <td>2017-07-23 16:48:00</td>\n",
       "      <td>香港衛生防護中心</td>\n",
       "      <td>中國：香港衛生防護中心獲通報江蘇人類感染甲型禽流感(H7N9)個案</td>\n",
       "    </tr>\n",
       "  </tbody>\n",
       "</table>\n",
       "</div>"
      ],
      "text/plain": [
       "        author                                            content  \\\n",
       "0  kickingbird  2017年8月14日，湘西自治州報告一例人感染H7N9流感確診病例。患者莫某某，48歲，以收...   \n",
       "1  kickingbird  衛生署衛生防護中心今日（八月四日）正監察國家衛生和計劃生育委員會通報在七月二十八日至八月三日...   \n",
       "2  kickingbird  農業部新聞辦公室8月1日發布，內蒙古自治區通遼市科爾沁區發生一起家禽H5N1亞型高致病性禽流...   \n",
       "3  kickingbird  有關陽性樣品說明：\\n　 　一、H7亞型禽流感血清學陽性樣品（3018份）\\n　　（一）北京...   \n",
       "4  kickingbird  香港衛生署衛生防護中心（七月二十一日）正監察國家衛生和計劃生育委員會通報在七月十四至二十日期...   \n",
       "\n",
       "                   dt       source                                  title  \n",
       "0 2017-08-15 11:58:00  湖南省疾病預防控制中心           中國：湖南省湘西自治州報告一例人感染H7N9流感確診病例  \n",
       "1 2017-08-05 19:19:00     香港衛生防護中心      中國：香港衛生防護中心獲通報福建人類感染甲型禽流感（H7N9）個案  \n",
       "2 2017-08-05 19:16:00        中國農業部  中國：內蒙古自治區通遼市科爾沁區發生一起家禽H5N1亞型高致病性禽流感疫情  \n",
       "3 2017-07-26 10:34:00        中國農業部               中國：2017年6月全國動物H7N9流感監測情況  \n",
       "4 2017-07-23 16:48:00     香港衛生防護中心      中國：香港衛生防護中心獲通報江蘇人類感染甲型禽流感(H7N9)個案  "
      ]
     },
     "execution_count": 233,
     "metadata": {},
     "output_type": "execute_result"
    }
   ],
   "source": [
    "import pandas\n",
    "df = pandas.read_excel('https://raw.githubusercontent.com/ywchiu/cdc_course/master/data/fic.xlsx')\n",
    "df.head()"
   ]
  },
  {
   "cell_type": "code",
   "execution_count": 234,
   "metadata": {},
   "outputs": [
    {
     "name": "stdout",
     "output_type": "stream",
     "text": [
      "<class 'pandas.core.frame.DataFrame'>\n",
      "Int64Index: 100 entries, 0 to 99\n",
      "Data columns (total 5 columns):\n",
      "author     100 non-null object\n",
      "content    100 non-null object\n",
      "dt         100 non-null datetime64[ns]\n",
      "source     100 non-null object\n",
      "title      100 non-null object\n",
      "dtypes: datetime64[ns](1), object(4)\n",
      "memory usage: 4.7+ KB\n"
     ]
    }
   ],
   "source": [
    "df.info()"
   ]
  },
  {
   "cell_type": "code",
   "execution_count": 241,
   "metadata": {},
   "outputs": [
    {
     "data": {
      "text/plain": [
       "0    2017-08-15\n",
       "1    2017-08-05\n",
       "2    2017-08-05\n",
       "3    2017-07-26\n",
       "4    2017-07-23\n",
       "Name: dt, dtype: object"
      ]
     },
     "execution_count": 241,
     "metadata": {},
     "output_type": "execute_result"
    }
   ],
   "source": [
    "# 當是時間的資料時\n",
    "df['dt'].dt.year.head()\n",
    "df['dt'].dt.month.head()\n",
    "df['dt'].dt.day.head()\n",
    "df['dt'].dt.date.head()"
   ]
  },
  {
   "cell_type": "code",
   "execution_count": 244,
   "metadata": {},
   "outputs": [
    {
     "data": {
      "text/html": [
       "<div>\n",
       "<style>\n",
       "    .dataframe thead tr:only-child th {\n",
       "        text-align: right;\n",
       "    }\n",
       "\n",
       "    .dataframe thead th {\n",
       "        text-align: left;\n",
       "    }\n",
       "\n",
       "    .dataframe tbody tr th {\n",
       "        vertical-align: top;\n",
       "    }\n",
       "</style>\n",
       "<table border=\"1\" class=\"dataframe\">\n",
       "  <thead>\n",
       "    <tr style=\"text-align: right;\">\n",
       "      <th></th>\n",
       "      <th>author</th>\n",
       "      <th>content</th>\n",
       "      <th>dt</th>\n",
       "      <th>source</th>\n",
       "      <th>title</th>\n",
       "    </tr>\n",
       "  </thead>\n",
       "  <tbody>\n",
       "    <tr>\n",
       "      <th>99</th>\n",
       "      <td>kickingbird</td>\n",
       "      <td>2017年4月13日，天津市確診一例H7N9病例。目前患者在定點醫院由市級專家組進行治療。與...</td>\n",
       "      <td>2017-04-14 08:56:00</td>\n",
       "      <td>天津市衛生計生委</td>\n",
       "      <td>中國：天津市確診一例H7N9病例</td>\n",
       "    </tr>\n",
       "    <tr>\n",
       "      <th>87</th>\n",
       "      <td>kickingbird</td>\n",
       "      <td>2017年3月27日-4月9日，安徽省阜陽市報告1例H7N9病例（71歲男性，重症肺炎），無...</td>\n",
       "      <td>2017-04-14 18:38:00</td>\n",
       "      <td>安徽省衛生計生委</td>\n",
       "      <td>中國：安徽省阜陽市報告1例H7N9病例</td>\n",
       "    </tr>\n",
       "    <tr>\n",
       "      <th>98</th>\n",
       "      <td>kickingbird</td>\n",
       "      <td>2017年4月8日至14日，我省新增南陽市1例、平頂山市1例，共計2例H7N9流感病例。  ...</td>\n",
       "      <td>2017-04-14 20:23:00</td>\n",
       "      <td>河南省衛計委</td>\n",
       "      <td>中國：河南省新增2例H7N9流感病例</td>\n",
       "    </tr>\n",
       "    <tr>\n",
       "      <th>94</th>\n",
       "      <td>kickingbird</td>\n",
       "      <td>自2017年4月3日，拉薩市確診1例感染H7N9病例以來，自治區黨委、政府高度重視，自治區H...</td>\n",
       "      <td>2017-04-15 08:33:00</td>\n",
       "      <td>西藏衛生計生委</td>\n",
       "      <td>中國：拉薩市新增兩例H7N9病例</td>\n",
       "    </tr>\n",
       "    <tr>\n",
       "      <th>90</th>\n",
       "      <td>kickingbird</td>\n",
       "      <td>4月14日，山東省青島、濰坊市各新增1例H7N9流感確診病例。\\n\\n\\n\\n相關文獻： \\...</td>\n",
       "      <td>2017-04-15 12:57:00</td>\n",
       "      <td>山東省衛生計生委</td>\n",
       "      <td>中國：山東省青島市濰坊市各新增一例人感染H7N9流感病例</td>\n",
       "    </tr>\n",
       "  </tbody>\n",
       "</table>\n",
       "</div>"
      ],
      "text/plain": [
       "         author                                            content  \\\n",
       "99  kickingbird  2017年4月13日，天津市確診一例H7N9病例。目前患者在定點醫院由市級專家組進行治療。與...   \n",
       "87  kickingbird  2017年3月27日-4月9日，安徽省阜陽市報告1例H7N9病例（71歲男性，重症肺炎），無...   \n",
       "98  kickingbird  2017年4月8日至14日，我省新增南陽市1例、平頂山市1例，共計2例H7N9流感病例。  ...   \n",
       "94  kickingbird  自2017年4月3日，拉薩市確診1例感染H7N9病例以來，自治區黨委、政府高度重視，自治區H...   \n",
       "90  kickingbird  4月14日，山東省青島、濰坊市各新增1例H7N9流感確診病例。\\n\\n\\n\\n相關文獻： \\...   \n",
       "\n",
       "                    dt    source                         title  \n",
       "99 2017-04-14 08:56:00  天津市衛生計生委              中國：天津市確診一例H7N9病例  \n",
       "87 2017-04-14 18:38:00  安徽省衛生計生委           中國：安徽省阜陽市報告1例H7N9病例  \n",
       "98 2017-04-14 20:23:00    河南省衛計委            中國：河南省新增2例H7N9流感病例  \n",
       "94 2017-04-15 08:33:00   西藏衛生計生委              中國：拉薩市新增兩例H7N9病例  \n",
       "90 2017-04-15 12:57:00  山東省衛生計生委  中國：山東省青島市濰坊市各新增一例人感染H7N9流感病例  "
      ]
     },
     "execution_count": 244,
     "metadata": {},
     "output_type": "execute_result"
    }
   ],
   "source": [
    "df.sort_values('dt').head()"
   ]
  },
  {
   "cell_type": "code",
   "execution_count": 245,
   "metadata": {},
   "outputs": [
    {
     "data": {
      "text/html": [
       "<div>\n",
       "<style>\n",
       "    .dataframe thead tr:only-child th {\n",
       "        text-align: right;\n",
       "    }\n",
       "\n",
       "    .dataframe thead th {\n",
       "        text-align: left;\n",
       "    }\n",
       "\n",
       "    .dataframe tbody tr th {\n",
       "        vertical-align: top;\n",
       "    }\n",
       "</style>\n",
       "<table border=\"1\" class=\"dataframe\">\n",
       "  <thead>\n",
       "    <tr style=\"text-align: right;\">\n",
       "      <th></th>\n",
       "      <th>author</th>\n",
       "      <th>content</th>\n",
       "      <th>dt</th>\n",
       "      <th>source</th>\n",
       "      <th>title</th>\n",
       "    </tr>\n",
       "  </thead>\n",
       "  <tbody>\n",
       "    <tr>\n",
       "      <th>0</th>\n",
       "      <td>kickingbird</td>\n",
       "      <td>2017年8月14日，湘西自治州報告一例人感染H7N9流感確診病例。患者莫某某，48歲，以收...</td>\n",
       "      <td>2017-08-15 11:58:00</td>\n",
       "      <td>湖南省疾病預防控制中心</td>\n",
       "      <td>中國：湖南省湘西自治州報告一例人感染H7N9流感確診病例</td>\n",
       "    </tr>\n",
       "    <tr>\n",
       "      <th>1</th>\n",
       "      <td>kickingbird</td>\n",
       "      <td>衛生署衛生防護中心今日（八月四日）正監察國家衛生和計劃生育委員會通報在七月二十八日至八月三日...</td>\n",
       "      <td>2017-08-05 19:19:00</td>\n",
       "      <td>香港衛生防護中心</td>\n",
       "      <td>中國：香港衛生防護中心獲通報福建人類感染甲型禽流感（H7N9）個案</td>\n",
       "    </tr>\n",
       "    <tr>\n",
       "      <th>2</th>\n",
       "      <td>kickingbird</td>\n",
       "      <td>農業部新聞辦公室8月1日發布，內蒙古自治區通遼市科爾沁區發生一起家禽H5N1亞型高致病性禽流...</td>\n",
       "      <td>2017-08-05 19:16:00</td>\n",
       "      <td>中國農業部</td>\n",
       "      <td>中國：內蒙古自治區通遼市科爾沁區發生一起家禽H5N1亞型高致病性禽流感疫情</td>\n",
       "    </tr>\n",
       "    <tr>\n",
       "      <th>3</th>\n",
       "      <td>kickingbird</td>\n",
       "      <td>有關陽性樣品說明：\\n　 　一、H7亞型禽流感血清學陽性樣品（3018份）\\n　　（一）北京...</td>\n",
       "      <td>2017-07-26 10:34:00</td>\n",
       "      <td>中國農業部</td>\n",
       "      <td>中國：2017年6月全國動物H7N9流感監測情況</td>\n",
       "    </tr>\n",
       "    <tr>\n",
       "      <th>4</th>\n",
       "      <td>kickingbird</td>\n",
       "      <td>香港衛生署衛生防護中心（七月二十一日）正監察國家衛生和計劃生育委員會通報在七月十四至二十日期...</td>\n",
       "      <td>2017-07-23 16:48:00</td>\n",
       "      <td>香港衛生防護中心</td>\n",
       "      <td>中國：香港衛生防護中心獲通報江蘇人類感染甲型禽流感(H7N9)個案</td>\n",
       "    </tr>\n",
       "  </tbody>\n",
       "</table>\n",
       "</div>"
      ],
      "text/plain": [
       "        author                                            content  \\\n",
       "0  kickingbird  2017年8月14日，湘西自治州報告一例人感染H7N9流感確診病例。患者莫某某，48歲，以收...   \n",
       "1  kickingbird  衛生署衛生防護中心今日（八月四日）正監察國家衛生和計劃生育委員會通報在七月二十八日至八月三日...   \n",
       "2  kickingbird  農業部新聞辦公室8月1日發布，內蒙古自治區通遼市科爾沁區發生一起家禽H5N1亞型高致病性禽流...   \n",
       "3  kickingbird  有關陽性樣品說明：\\n　 　一、H7亞型禽流感血清學陽性樣品（3018份）\\n　　（一）北京...   \n",
       "4  kickingbird  香港衛生署衛生防護中心（七月二十一日）正監察國家衛生和計劃生育委員會通報在七月十四至二十日期...   \n",
       "\n",
       "                   dt       source                                  title  \n",
       "0 2017-08-15 11:58:00  湖南省疾病預防控制中心           中國：湖南省湘西自治州報告一例人感染H7N9流感確診病例  \n",
       "1 2017-08-05 19:19:00     香港衛生防護中心      中國：香港衛生防護中心獲通報福建人類感染甲型禽流感（H7N9）個案  \n",
       "2 2017-08-05 19:16:00        中國農業部  中國：內蒙古自治區通遼市科爾沁區發生一起家禽H5N1亞型高致病性禽流感疫情  \n",
       "3 2017-07-26 10:34:00        中國農業部               中國：2017年6月全國動物H7N9流感監測情況  \n",
       "4 2017-07-23 16:48:00     香港衛生防護中心      中國：香港衛生防護中心獲通報江蘇人類感染甲型禽流感(H7N9)個案  "
      ]
     },
     "execution_count": 245,
     "metadata": {},
     "output_type": "execute_result"
    }
   ],
   "source": [
    "df.sort_values('dt', ascending=False).head()"
   ]
  },
  {
   "cell_type": "code",
   "execution_count": 246,
   "metadata": {},
   "outputs": [
    {
     "data": {
      "text/plain": [
       "Index(['author', 'content', 'dt', 'source', 'title'], dtype='object')"
      ]
     },
     "execution_count": 246,
     "metadata": {},
     "output_type": "execute_result"
    }
   ],
   "source": [
    "df.columns"
   ]
  },
  {
   "cell_type": "code",
   "execution_count": 249,
   "metadata": {},
   "outputs": [
    {
     "data": {
      "text/html": [
       "<div>\n",
       "<style>\n",
       "    .dataframe thead tr:only-child th {\n",
       "        text-align: right;\n",
       "    }\n",
       "\n",
       "    .dataframe thead th {\n",
       "        text-align: left;\n",
       "    }\n",
       "\n",
       "    .dataframe tbody tr th {\n",
       "        vertical-align: top;\n",
       "    }\n",
       "</style>\n",
       "<table border=\"1\" class=\"dataframe\">\n",
       "  <thead>\n",
       "    <tr style=\"text-align: right;\">\n",
       "      <th></th>\n",
       "      <th>author</th>\n",
       "      <th>dt</th>\n",
       "      <th>title</th>\n",
       "      <th>content</th>\n",
       "      <th>source</th>\n",
       "    </tr>\n",
       "  </thead>\n",
       "  <tbody>\n",
       "    <tr>\n",
       "      <th>0</th>\n",
       "      <td>kickingbird</td>\n",
       "      <td>2017-08-15 11:58:00</td>\n",
       "      <td>中國：湖南省湘西自治州報告一例人感染H7N9流感確診病例</td>\n",
       "      <td>2017年8月14日，湘西自治州報告一例人感染H7N9流感確診病例。患者莫某某，48歲，以收...</td>\n",
       "      <td>湖南省疾病預防控制中心</td>\n",
       "    </tr>\n",
       "    <tr>\n",
       "      <th>1</th>\n",
       "      <td>kickingbird</td>\n",
       "      <td>2017-08-05 19:19:00</td>\n",
       "      <td>中國：香港衛生防護中心獲通報福建人類感染甲型禽流感（H7N9）個案</td>\n",
       "      <td>衛生署衛生防護中心今日（八月四日）正監察國家衛生和計劃生育委員會通報在七月二十八日至八月三日...</td>\n",
       "      <td>香港衛生防護中心</td>\n",
       "    </tr>\n",
       "    <tr>\n",
       "      <th>2</th>\n",
       "      <td>kickingbird</td>\n",
       "      <td>2017-08-05 19:16:00</td>\n",
       "      <td>中國：內蒙古自治區通遼市科爾沁區發生一起家禽H5N1亞型高致病性禽流感疫情</td>\n",
       "      <td>農業部新聞辦公室8月1日發布，內蒙古自治區通遼市科爾沁區發生一起家禽H5N1亞型高致病性禽流...</td>\n",
       "      <td>中國農業部</td>\n",
       "    </tr>\n",
       "    <tr>\n",
       "      <th>3</th>\n",
       "      <td>kickingbird</td>\n",
       "      <td>2017-07-26 10:34:00</td>\n",
       "      <td>中國：2017年6月全國動物H7N9流感監測情況</td>\n",
       "      <td>有關陽性樣品說明：\\n　 　一、H7亞型禽流感血清學陽性樣品（3018份）\\n　　（一）北京...</td>\n",
       "      <td>中國農業部</td>\n",
       "    </tr>\n",
       "    <tr>\n",
       "      <th>4</th>\n",
       "      <td>kickingbird</td>\n",
       "      <td>2017-07-23 16:48:00</td>\n",
       "      <td>中國：香港衛生防護中心獲通報江蘇人類感染甲型禽流感(H7N9)個案</td>\n",
       "      <td>香港衛生署衛生防護中心（七月二十一日）正監察國家衛生和計劃生育委員會通報在七月十四至二十日期...</td>\n",
       "      <td>香港衛生防護中心</td>\n",
       "    </tr>\n",
       "  </tbody>\n",
       "</table>\n",
       "</div>"
      ],
      "text/plain": [
       "        author                  dt                                  title  \\\n",
       "0  kickingbird 2017-08-15 11:58:00           中國：湖南省湘西自治州報告一例人感染H7N9流感確診病例   \n",
       "1  kickingbird 2017-08-05 19:19:00      中國：香港衛生防護中心獲通報福建人類感染甲型禽流感（H7N9）個案   \n",
       "2  kickingbird 2017-08-05 19:16:00  中國：內蒙古自治區通遼市科爾沁區發生一起家禽H5N1亞型高致病性禽流感疫情   \n",
       "3  kickingbird 2017-07-26 10:34:00               中國：2017年6月全國動物H7N9流感監測情況   \n",
       "4  kickingbird 2017-07-23 16:48:00      中國：香港衛生防護中心獲通報江蘇人類感染甲型禽流感(H7N9)個案   \n",
       "\n",
       "                                             content       source  \n",
       "0  2017年8月14日，湘西自治州報告一例人感染H7N9流感確診病例。患者莫某某，48歲，以收...  湖南省疾病預防控制中心  \n",
       "1  衛生署衛生防護中心今日（八月四日）正監察國家衛生和計劃生育委員會通報在七月二十八日至八月三日...     香港衛生防護中心  \n",
       "2  農業部新聞辦公室8月1日發布，內蒙古自治區通遼市科爾沁區發生一起家禽H5N1亞型高致病性禽流...        中國農業部  \n",
       "3  有關陽性樣品說明：\\n　 　一、H7亞型禽流感血清學陽性樣品（3018份）\\n　　（一）北京...        中國農業部  \n",
       "4  香港衛生署衛生防護中心（七月二十一日）正監察國家衛生和計劃生育委員會通報在七月十四至二十日期...     香港衛生防護中心  "
      ]
     },
     "execution_count": 249,
     "metadata": {},
     "output_type": "execute_result"
    }
   ],
   "source": [
    "df[['author', 'dt', 'title', 'content',  'source']].head()"
   ]
  },
  {
   "cell_type": "code",
   "execution_count": 251,
   "metadata": {},
   "outputs": [
    {
     "data": {
      "text/html": [
       "<div>\n",
       "<style>\n",
       "    .dataframe thead tr:only-child th {\n",
       "        text-align: right;\n",
       "    }\n",
       "\n",
       "    .dataframe thead th {\n",
       "        text-align: left;\n",
       "    }\n",
       "\n",
       "    .dataframe tbody tr th {\n",
       "        vertical-align: top;\n",
       "    }\n",
       "</style>\n",
       "<table border=\"1\" class=\"dataframe\">\n",
       "  <thead>\n",
       "    <tr style=\"text-align: right;\">\n",
       "      <th></th>\n",
       "      <th>title</th>\n",
       "      <th>author</th>\n",
       "    </tr>\n",
       "  </thead>\n",
       "  <tbody>\n",
       "    <tr>\n",
       "      <th>0</th>\n",
       "      <td>中國：湖南省湘西自治州報告一例人感染H7N9流感確診病例</td>\n",
       "      <td>kickingbird</td>\n",
       "    </tr>\n",
       "    <tr>\n",
       "      <th>1</th>\n",
       "      <td>中國：香港衛生防護中心獲通報福建人類感染甲型禽流感（H7N9）個案</td>\n",
       "      <td>kickingbird</td>\n",
       "    </tr>\n",
       "    <tr>\n",
       "      <th>2</th>\n",
       "      <td>中國：內蒙古自治區通遼市科爾沁區發生一起家禽H5N1亞型高致病性禽流感疫情</td>\n",
       "      <td>kickingbird</td>\n",
       "    </tr>\n",
       "    <tr>\n",
       "      <th>3</th>\n",
       "      <td>中國：2017年6月全國動物H7N9流感監測情況</td>\n",
       "      <td>kickingbird</td>\n",
       "    </tr>\n",
       "    <tr>\n",
       "      <th>4</th>\n",
       "      <td>中國：香港衛生防護中心獲通報江蘇人類感染甲型禽流感(H7N9)個案</td>\n",
       "      <td>kickingbird</td>\n",
       "    </tr>\n",
       "  </tbody>\n",
       "</table>\n",
       "</div>"
      ],
      "text/plain": [
       "                                   title       author\n",
       "0           中國：湖南省湘西自治州報告一例人感染H7N9流感確診病例  kickingbird\n",
       "1      中國：香港衛生防護中心獲通報福建人類感染甲型禽流感（H7N9）個案  kickingbird\n",
       "2  中國：內蒙古自治區通遼市科爾沁區發生一起家禽H5N1亞型高致病性禽流感疫情  kickingbird\n",
       "3               中國：2017年6月全國動物H7N9流感監測情況  kickingbird\n",
       "4      中國：香港衛生防護中心獲通報江蘇人類感染甲型禽流感(H7N9)個案  kickingbird"
      ]
     },
     "execution_count": 251,
     "metadata": {},
     "output_type": "execute_result"
    }
   ],
   "source": [
    "df[['title', 'author']].head()"
   ]
  },
  {
   "cell_type": "code",
   "execution_count": 252,
   "metadata": {
    "collapsed": true
   },
   "outputs": [],
   "source": [
    "df = df[['author', 'dt', 'title', 'content',  'source']]"
   ]
  },
  {
   "cell_type": "code",
   "execution_count": 253,
   "metadata": {},
   "outputs": [
    {
     "data": {
      "text/html": [
       "<div>\n",
       "<style>\n",
       "    .dataframe thead tr:only-child th {\n",
       "        text-align: right;\n",
       "    }\n",
       "\n",
       "    .dataframe thead th {\n",
       "        text-align: left;\n",
       "    }\n",
       "\n",
       "    .dataframe tbody tr th {\n",
       "        vertical-align: top;\n",
       "    }\n",
       "</style>\n",
       "<table border=\"1\" class=\"dataframe\">\n",
       "  <thead>\n",
       "    <tr style=\"text-align: right;\">\n",
       "      <th></th>\n",
       "      <th>author</th>\n",
       "      <th>dt</th>\n",
       "      <th>title</th>\n",
       "      <th>content</th>\n",
       "      <th>source</th>\n",
       "    </tr>\n",
       "  </thead>\n",
       "  <tbody>\n",
       "    <tr>\n",
       "      <th>0</th>\n",
       "      <td>kickingbird</td>\n",
       "      <td>2017-08-15 11:58:00</td>\n",
       "      <td>中國：湖南省湘西自治州報告一例人感染H7N9流感確診病例</td>\n",
       "      <td>2017年8月14日，湘西自治州報告一例人感染H7N9流感確診病例。患者莫某某，48歲，以收...</td>\n",
       "      <td>湖南省疾病預防控制中心</td>\n",
       "    </tr>\n",
       "    <tr>\n",
       "      <th>1</th>\n",
       "      <td>kickingbird</td>\n",
       "      <td>2017-08-05 19:19:00</td>\n",
       "      <td>中國：香港衛生防護中心獲通報福建人類感染甲型禽流感（H7N9）個案</td>\n",
       "      <td>衛生署衛生防護中心今日（八月四日）正監察國家衛生和計劃生育委員會通報在七月二十八日至八月三日...</td>\n",
       "      <td>香港衛生防護中心</td>\n",
       "    </tr>\n",
       "    <tr>\n",
       "      <th>2</th>\n",
       "      <td>kickingbird</td>\n",
       "      <td>2017-08-05 19:16:00</td>\n",
       "      <td>中國：內蒙古自治區通遼市科爾沁區發生一起家禽H5N1亞型高致病性禽流感疫情</td>\n",
       "      <td>農業部新聞辦公室8月1日發布，內蒙古自治區通遼市科爾沁區發生一起家禽H5N1亞型高致病性禽流...</td>\n",
       "      <td>中國農業部</td>\n",
       "    </tr>\n",
       "    <tr>\n",
       "      <th>3</th>\n",
       "      <td>kickingbird</td>\n",
       "      <td>2017-07-26 10:34:00</td>\n",
       "      <td>中國：2017年6月全國動物H7N9流感監測情況</td>\n",
       "      <td>有關陽性樣品說明：\\n　 　一、H7亞型禽流感血清學陽性樣品（3018份）\\n　　（一）北京...</td>\n",
       "      <td>中國農業部</td>\n",
       "    </tr>\n",
       "    <tr>\n",
       "      <th>4</th>\n",
       "      <td>kickingbird</td>\n",
       "      <td>2017-07-23 16:48:00</td>\n",
       "      <td>中國：香港衛生防護中心獲通報江蘇人類感染甲型禽流感(H7N9)個案</td>\n",
       "      <td>香港衛生署衛生防護中心（七月二十一日）正監察國家衛生和計劃生育委員會通報在七月十四至二十日期...</td>\n",
       "      <td>香港衛生防護中心</td>\n",
       "    </tr>\n",
       "  </tbody>\n",
       "</table>\n",
       "</div>"
      ],
      "text/plain": [
       "        author                  dt                                  title  \\\n",
       "0  kickingbird 2017-08-15 11:58:00           中國：湖南省湘西自治州報告一例人感染H7N9流感確診病例   \n",
       "1  kickingbird 2017-08-05 19:19:00      中國：香港衛生防護中心獲通報福建人類感染甲型禽流感（H7N9）個案   \n",
       "2  kickingbird 2017-08-05 19:16:00  中國：內蒙古自治區通遼市科爾沁區發生一起家禽H5N1亞型高致病性禽流感疫情   \n",
       "3  kickingbird 2017-07-26 10:34:00               中國：2017年6月全國動物H7N9流感監測情況   \n",
       "4  kickingbird 2017-07-23 16:48:00      中國：香港衛生防護中心獲通報江蘇人類感染甲型禽流感(H7N9)個案   \n",
       "\n",
       "                                             content       source  \n",
       "0  2017年8月14日，湘西自治州報告一例人感染H7N9流感確診病例。患者莫某某，48歲，以收...  湖南省疾病預防控制中心  \n",
       "1  衛生署衛生防護中心今日（八月四日）正監察國家衛生和計劃生育委員會通報在七月二十八日至八月三日...     香港衛生防護中心  \n",
       "2  農業部新聞辦公室8月1日發布，內蒙古自治區通遼市科爾沁區發生一起家禽H5N1亞型高致病性禽流...        中國農業部  \n",
       "3  有關陽性樣品說明：\\n　 　一、H7亞型禽流感血清學陽性樣品（3018份）\\n　　（一）北京...        中國農業部  \n",
       "4  香港衛生署衛生防護中心（七月二十一日）正監察國家衛生和計劃生育委員會通報在七月十四至二十日期...     香港衛生防護中心  "
      ]
     },
     "execution_count": 253,
     "metadata": {},
     "output_type": "execute_result"
    }
   ],
   "source": [
    "df.head()"
   ]
  },
  {
   "cell_type": "code",
   "execution_count": 262,
   "metadata": {},
   "outputs": [
    {
     "data": {
      "text/plain": [
       "中國農業部       12\n",
       "河北省衛生計生委     9\n",
       "重慶市衛生計生委     6\n",
       "F.I.C        5\n",
       "四川省衛生計生委     5\n",
       "Name: source, dtype: int64"
      ]
     },
     "execution_count": 262,
     "metadata": {},
     "output_type": "execute_result"
    }
   ],
   "source": [
    "df['source'].value_counts().head()"
   ]
  },
  {
   "cell_type": "code",
   "execution_count": 263,
   "metadata": {},
   "outputs": [
    {
     "data": {
      "text/plain": [
       "source\n",
       "F.I.C       5\n",
       "中國農業部      12\n",
       "任丘市衛生局      1\n",
       "內蒙古疾控中心     1\n",
       "北京市疾控中心     3\n",
       "Name: title, dtype: int64"
      ]
     },
     "execution_count": 263,
     "metadata": {},
     "output_type": "execute_result"
    }
   ],
   "source": [
    "## SELECT source, count(*) FROM df GROUP BY source\n",
    "df.groupby('source')['title'].count().head()"
   ]
  },
  {
   "cell_type": "code",
   "execution_count": 265,
   "metadata": {},
   "outputs": [
    {
     "data": {
      "text/plain": [
       "author       source \n",
       "kickingbird  F.I.C       5\n",
       "             中國農業部      12\n",
       "             任丘市衛生局      1\n",
       "             內蒙古疾控中心     1\n",
       "             北京市疾控中心     3\n",
       "Name: author, dtype: int64"
      ]
     },
     "execution_count": 265,
     "metadata": {},
     "output_type": "execute_result"
    }
   ],
   "source": [
    "df.groupby(['author', 'source'])['author'].count().head()"
   ]
  },
  {
   "cell_type": "code",
   "execution_count": 266,
   "metadata": {
    "collapsed": true
   },
   "outputs": [],
   "source": [
    "df['month'] = df['dt'].dt.month"
   ]
  },
  {
   "cell_type": "code",
   "execution_count": 270,
   "metadata": {},
   "outputs": [
    {
     "data": {
      "text/plain": [
       "month  source  \n",
       "4      北京市疾控中心     2\n",
       "       吉林省衛生計生委    1\n",
       "       四川省衛生計生委    2\n",
       "       天津市衛生計生委    1\n",
       "       威海市衛生計生委    1\n",
       "Name: source, dtype: int64"
      ]
     },
     "execution_count": 270,
     "metadata": {},
     "output_type": "execute_result"
    }
   ],
   "source": [
    "df.groupby(['month', 'source'])['source'].count().head()"
   ]
  },
  {
   "cell_type": "code",
   "execution_count": 285,
   "metadata": {},
   "outputs": [
    {
     "data": {
      "text/html": [
       "<div>\n",
       "<style>\n",
       "    .dataframe thead tr:only-child th {\n",
       "        text-align: right;\n",
       "    }\n",
       "\n",
       "    .dataframe thead th {\n",
       "        text-align: left;\n",
       "    }\n",
       "\n",
       "    .dataframe tbody tr th {\n",
       "        vertical-align: top;\n",
       "    }\n",
       "</style>\n",
       "<table border=\"1\" class=\"dataframe\">\n",
       "  <thead>\n",
       "    <tr style=\"text-align: right;\">\n",
       "      <th>month</th>\n",
       "      <th>4</th>\n",
       "      <th>5</th>\n",
       "      <th>6</th>\n",
       "      <th>7</th>\n",
       "      <th>8</th>\n",
       "    </tr>\n",
       "    <tr>\n",
       "      <th>source</th>\n",
       "      <th></th>\n",
       "      <th></th>\n",
       "      <th></th>\n",
       "      <th></th>\n",
       "      <th></th>\n",
       "    </tr>\n",
       "  </thead>\n",
       "  <tbody>\n",
       "    <tr>\n",
       "      <th>F.I.C</th>\n",
       "      <td>NaN</td>\n",
       "      <td>NaN</td>\n",
       "      <td>1.0</td>\n",
       "      <td>1.0</td>\n",
       "      <td>NaN</td>\n",
       "    </tr>\n",
       "    <tr>\n",
       "      <th>中國農業部</th>\n",
       "      <td>NaN</td>\n",
       "      <td>1.0</td>\n",
       "      <td>1.0</td>\n",
       "      <td>1.0</td>\n",
       "      <td>1.0</td>\n",
       "    </tr>\n",
       "    <tr>\n",
       "      <th>任丘市衛生局</th>\n",
       "      <td>NaN</td>\n",
       "      <td>1.0</td>\n",
       "      <td>NaN</td>\n",
       "      <td>NaN</td>\n",
       "      <td>NaN</td>\n",
       "    </tr>\n",
       "    <tr>\n",
       "      <th>內蒙古疾控中心</th>\n",
       "      <td>NaN</td>\n",
       "      <td>1.0</td>\n",
       "      <td>NaN</td>\n",
       "      <td>NaN</td>\n",
       "      <td>NaN</td>\n",
       "    </tr>\n",
       "    <tr>\n",
       "      <th>北京市疾控中心</th>\n",
       "      <td>1.0</td>\n",
       "      <td>1.0</td>\n",
       "      <td>NaN</td>\n",
       "      <td>NaN</td>\n",
       "      <td>NaN</td>\n",
       "    </tr>\n",
       "  </tbody>\n",
       "</table>\n",
       "</div>"
      ],
      "text/plain": [
       "month      4    5    6    7    8\n",
       "source                          \n",
       "F.I.C    NaN  NaN  1.0  1.0  NaN\n",
       "中國農業部    NaN  1.0  1.0  1.0  1.0\n",
       "任丘市衛生局   NaN  1.0  NaN  NaN  NaN\n",
       "內蒙古疾控中心  NaN  1.0  NaN  NaN  NaN\n",
       "北京市疾控中心  1.0  1.0  NaN  NaN  NaN"
      ]
     },
     "execution_count": 285,
     "metadata": {},
     "output_type": "execute_result"
    }
   ],
   "source": [
    "cnt=df.groupby(['month', 'source'])['title'].count().to_frame()\n",
    "\n",
    "#?pandas.pivot_table\n",
    "#pandas.pivot_table(cnt.to_frame())\n",
    "pandas.pivot_table(cnt, index='month', values='title', columns='source')\n",
    "pandas.pivot_table(cnt, index='source', values='title', columns='month',aggfunc='count').head()\n"
   ]
  },
  {
   "cell_type": "markdown",
   "metadata": {},
   "source": [
    "## 正規表達法"
   ]
  },
  {
   "cell_type": "code",
   "execution_count": 286,
   "metadata": {},
   "outputs": [
    {
     "data": {
      "text/plain": [
       "True"
      ]
     },
     "execution_count": 286,
     "metadata": {},
     "output_type": "execute_result"
    }
   ],
   "source": [
    "import re\n",
    "p = '0912345678'\n",
    "s = 'my phone number is 0912345678'\n",
    "p in s"
   ]
  },
  {
   "cell_type": "markdown",
   "metadata": {},
   "source": [
    "### 比對數字"
   ]
  },
  {
   "cell_type": "code",
   "execution_count": 290,
   "metadata": {},
   "outputs": [
    {
     "data": {
      "text/plain": [
       "<_sre.SRE_Match object; span=(0, 1), match='6'>"
      ]
     },
     "execution_count": 290,
     "metadata": {},
     "output_type": "execute_result"
    }
   ],
   "source": [
    "a = '6'\n",
    "\n",
    "import re\n",
    "re.match('6', a)\n",
    "\n",
    "# []: 可以比對在[]內的任意字元\n",
    "re.match('[0123456789]', a)\n",
    "\n",
    "# - : 連續 [0-9]: [0123456789]\n",
    "re.match('[0-9]', a)\n",
    "\n",
    "# \\d : [0-9]\n",
    "re.match('\\d', a)"
   ]
  },
  {
   "cell_type": "markdown",
   "metadata": {},
   "source": [
    "### 比對字元"
   ]
  },
  {
   "cell_type": "code",
   "execution_count": 296,
   "metadata": {},
   "outputs": [
    {
     "data": {
      "text/plain": [
       "<_sre.SRE_Match object; span=(0, 1), match='L'>"
      ]
     },
     "execution_count": 296,
     "metadata": {},
     "output_type": "execute_result"
    }
   ],
   "source": [
    "s = 'k'\n",
    "\n",
    "import re\n",
    "\n",
    "re.match('[abcdefghijllmnopqrstuvwxyz]', s)\n",
    "\n",
    "# [a-z] = [abcdefghijklmnopqrstuvwxyz]\n",
    "re.match('[a-z]', s)\n",
    "\n",
    "s = 'L'\n",
    "# 無法比對大寫英文字母\n",
    "re.match('[a-z]', s)\n",
    "\n",
    "re.match('[a-zA-Z]', s)\n",
    "\n",
    "\n",
    "# 比對數字及英文字母\n",
    "re.match('[a-zA-Z0-9]', s)\n",
    "\n",
    "# \\w = [a-zA-Z0-9]\n",
    "re.match('\\w', s)"
   ]
  },
  {
   "cell_type": "markdown",
   "metadata": {},
   "source": [
    "### 比對任意字元"
   ]
  },
  {
   "cell_type": "code",
   "execution_count": 298,
   "metadata": {},
   "outputs": [
    {
     "data": {
      "text/plain": [
       "<_sre.SRE_Match object; span=(0, 1), match='$'>"
      ]
     },
     "execution_count": 298,
     "metadata": {},
     "output_type": "execute_result"
    }
   ],
   "source": [
    "s = '$'\n",
    "re.match('\\w', s)\n",
    "\n",
    "# . = 比對任意字元\n",
    "re.match('.', s)"
   ]
  },
  {
   "cell_type": "markdown",
   "metadata": {},
   "source": [
    "### 比對多個字元"
   ]
  },
  {
   "cell_type": "code",
   "execution_count": 304,
   "metadata": {},
   "outputs": [
    {
     "data": {
      "text/plain": [
       "<_sre.SRE_Match object; span=(0, 4), match='8888'>"
      ]
     },
     "execution_count": 304,
     "metadata": {},
     "output_type": "execute_result"
    }
   ],
   "source": [
    "s = '8888'\n",
    "\n",
    "# {4} = 比對到四個字元\n",
    "re.match('\\d{4}', s)\n",
    "\n",
    "# {3,5} = 比對到 3 ~ 5 個字元\n",
    "re.match('\\d{3,5}', s)\n",
    "\n",
    "# {1,} = 比對到一個以上字元\n",
    "re.match('\\d{1,}', s)\n",
    "\n",
    "# + = {1,}\n",
    "re.match('\\d+', s)\n",
    "\n",
    "# {0,} = 比對到零個以上字元\n",
    "re.match('\\d{0,}', s)\n",
    "\n",
    "# * = {0,}\n",
    "re.match('\\d*', s)"
   ]
  },
  {
   "cell_type": "markdown",
   "metadata": {},
   "source": [
    "### 比對電話號碼"
   ]
  },
  {
   "cell_type": "code",
   "execution_count": 308,
   "metadata": {},
   "outputs": [
    {
     "data": {
      "text/plain": [
       "('0912345678',)"
      ]
     },
     "execution_count": 308,
     "metadata": {},
     "output_type": "execute_result"
    }
   ],
   "source": [
    "p = '0912345678'\n",
    "# () 可以將比對到的物件放置到tuple\n",
    "m = re.match('(\\d{10})', p)\n",
    "m.groups()"
   ]
  },
  {
   "cell_type": "code",
   "execution_count": 316,
   "metadata": {},
   "outputs": [
    {
     "name": "stdout",
     "output_type": "stream",
     "text": [
      "('0912345678',)\n",
      "('0912-345678',)\n",
      "('0912-345-678',)\n",
      "('0277458421',)\n"
     ]
    }
   ],
   "source": [
    "phones = ['0912345678', '0912-345678', '0912-345-678','0277458421','0932291928492']\n",
    "for p in phones:\n",
    "    # 比對到有連續10個數字\n",
    "    m = re.match('(\\d{10})', p )\n",
    "    # 比對09 開頭的數字\n",
    "    m = re.match('(09\\d{8})', p )\n",
    "    # 比對中間或有- 或無- 的電話\n",
    "    m = re.match('(09\\d{2}-{0,1}\\d{3}-{0,1}\\d{3})', p )\n",
    "    # {0,1} = ?\n",
    "    m = re.match('(09\\d{2}-?\\d{3}-?\\d{3})', p )\n",
    "    # ^ 代表限制開頭, $強制結尾\n",
    "    m = re.match('(^09\\d{2}-?\\d{3}-?\\d{3}$)', p )\n",
    "    # 比對02 或 09開頭的電話\n",
    "    m = re.match('(^0[29]\\d{2}-?\\d{3}-?\\d{3}$)', p )\n",
    "    if m:\n",
    "        print(m.groups())"
   ]
  },
  {
   "cell_type": "markdown",
   "metadata": {},
   "source": [
    "### 身分證字號比對"
   ]
  },
  {
   "cell_type": "code",
   "execution_count": 318,
   "metadata": {},
   "outputs": [
    {
     "data": {
      "text/plain": [
       "16"
      ]
     },
     "execution_count": 318,
     "metadata": {},
     "output_type": "execute_result"
    }
   ],
   "source": [
    "ID = 'A140990066'\n",
    "import re\n",
    "re.match('[A-Z][12]\\d{8}', ID)\n",
    "\n",
    "VISA = '4123122412341234'\n",
    "re.match('^4\\d{15}', VISA)\n",
    "\n",
    "MASTER = '5123122412341234'\n",
    "re.match('^5\\d{15}', MASTER)"
   ]
  },
  {
   "cell_type": "code",
   "execution_count": 319,
   "metadata": {},
   "outputs": [
    {
     "data": {
      "text/plain": [
       "<_sre.SRE_Match object; span=(0, 3), match='王大明'>"
      ]
     },
     "execution_count": 319,
     "metadata": {},
     "output_type": "execute_result"
    }
   ],
   "source": [
    "name = '王大明'\n",
    "re.match('^[趙錢孫李周吳鄭王馮陳褚衛蔣沈韓楊][\\u4e00-\\u9fa5]{1,3}', name)"
   ]
  },
  {
   "cell_type": "markdown",
   "metadata": {},
   "source": [
    "## 正規表達法範例"
   ]
  },
  {
   "cell_type": "code",
   "execution_count": 324,
   "metadata": {},
   "outputs": [
    {
     "name": "stdout",
     "output_type": "stream",
     "text": [
      "david\n",
      "largitdata\n",
      "largitdata.com\n"
     ]
    }
   ],
   "source": [
    "email = 'david@largitdata.com'\n",
    "# () 可以將比對到的樣式放成一個群組\n",
    "m = re.match('(\\w+)@(\\w+)', email)\n",
    "# group(1) 將第一個小括號對到的取出\n",
    "print(m.group(1))\n",
    "# group(2) 將第二個小括號對到的取出\n",
    "print(m.group(2))\n",
    "\n",
    "# [\\w.] 比對 [a-zA-Z0-9.] 包含英文 數字 還有句號\n",
    "m = re.match('(\\w+)@([\\w.]+)', email)\n",
    "print(m.group(2))"
   ]
  },
  {
   "cell_type": "code",
   "execution_count": 328,
   "metadata": {},
   "outputs": [
    {
     "data": {
      "text/plain": [
       "('1999', '5')"
      ]
     },
     "execution_count": 328,
     "metadata": {},
     "output_type": "execute_result"
    }
   ],
   "source": [
    "n = '1999.5'\n",
    "# 特殊符號 ()[]{}.^$\n",
    "# . 代表任意字元 , 假設我只想單純比對句號 \\.\n",
    "m = re.match('(\\d+)\\.(\\d+)', n )\n",
    "m.groups()"
   ]
  },
  {
   "cell_type": "code",
   "execution_count": 333,
   "metadata": {},
   "outputs": [
    {
     "name": "stdout",
     "output_type": "stream",
     "text": [
      "('David', 'Chiu')\n",
      "David\n",
      "Chiu\n",
      "David\n",
      "Chiu\n"
     ]
    }
   ],
   "source": [
    "name = 'David Chiu'\n",
    "m = re.match('(\\w+) (\\w+)', name)\n",
    "print(m.groups())\n",
    "print(m.group(1))\n",
    "print(m.group(2))\n",
    "\n",
    "\n",
    "m = re.match('(?P<first_name>\\w+) (?P<last_name>\\w+)', name)\n",
    "print(m.group('first_name'))\n",
    "print(m.group('last_name'))"
   ]
  },
  {
   "cell_type": "code",
   "execution_count": 335,
   "metadata": {},
   "outputs": [
    {
     "name": "stdout",
     "output_type": "stream",
     "text": [
      "file.txt root 10.0.0.1 ./\n"
     ]
    }
   ],
   "source": [
    "str1='scp file.txt root@10.0.0.1:./'\n",
    "m=re.match('^scp ([\\w.]+) (\\w+)@([\\d.]+):(.+)',str1)\n",
    "if m:\n",
    "    print(m.group(1),m.group(2),m.group(3),m.group(4))"
   ]
  },
  {
   "cell_type": "markdown",
   "metadata": {},
   "source": [
    "### 搜尋電話號碼"
   ]
  },
  {
   "cell_type": "code",
   "execution_count": 342,
   "metadata": {},
   "outputs": [
    {
     "data": {
      "text/plain": [
       "'0809-005-237'"
      ]
     },
     "execution_count": 342,
     "metadata": {},
     "output_type": "execute_result"
    }
   ],
   "source": [
    "a = ' 商用產品服務支援. 聯絡電話: 企業客戶免付費服務專線 0809-005-237. 聯絡信箱: 產品諮詢信箱. Email. 售後服務信箱. Email. 一般問題'\n",
    "# match 是需要比對到整個字串\n",
    "m = re.match('(08\\d{2}-?\\d{3}-?\\d{3})', a )\n",
    "#m.groups()\n",
    "\n",
    "# search 只需要比對到部分字串\n",
    "m = re.search('08\\d{2}-?\\d{3}-?\\d{3}', a )\n",
    "m.group(0)"
   ]
  },
  {
   "cell_type": "code",
   "execution_count": 345,
   "metadata": {},
   "outputs": [
    {
     "data": {
      "text/plain": [
       "['0809-090-166', '02-2162-6788']"
      ]
     },
     "execution_count": 345,
     "metadata": {},
     "output_type": "execute_result"
    }
   ],
   "source": [
    "HTC = '客服專線: 0809-090-166 手機請直撥: 02-2162-6788 . 週一至週六10AM-7PM Monday to Sat 10AM-7PM . 支援. 電話. 台灣. © 2017 宏達國際電子股份有限公司'\n",
    "# 使用findall 找尋所有能比對到的樣式\n",
    "m = re.findall('0[\\d-]{10,12}', HTC)\n",
    "m"
   ]
  },
  {
   "cell_type": "code",
   "execution_count": 349,
   "metadata": {},
   "outputs": [
    {
     "name": "stdout",
     "output_type": "stream",
     "text": [
      "\"/wahis_2/public/wahid.php/Reviewreport/Review?page_refer=MapFullEventReport&amp;\"\n",
      "21433\n",
      "\"/wahis_2/public/wahid.php/Reviewreport/Review?page_refer=MapFullEventReport&amp;\"\n",
      "21433\n"
     ]
    }
   ],
   "source": [
    "report ='''\n",
    "<a href='javascript: open_report(\"/wahis_2/public/wahid.php/Reviewreport/Review?page_refer=MapFullEventReport&amp;\",21433);'>\n",
    "                            <img height=\"16px\" width=\"16px\" src=\"/wahis_2/public/images/view.gif\" border=\"0\">\n",
    "                            Full report\n",
    "                             </a>\n",
    "'''\n",
    "\n",
    "m = re.search('open_report\\((.*?),(\\d+)\\);', report)\n",
    "#m = re.search('open_report\\((.*),(.+)\\);', report)\n",
    "print(m.group(1))\n",
    "print(m.group(2))\n",
    "\n",
    "\n",
    "m = re.search('open_report\\((?P<URL>.*?),(?P<REPORTID>\\d+)\\);', report)\n",
    "print(m.group('URL'))\n",
    "print(m.group('REPORTID'))"
   ]
  },
  {
   "cell_type": "markdown",
   "metadata": {},
   "source": [
    "## 將正規表達法套用到DataFrame 上"
   ]
  },
  {
   "cell_type": "code",
   "execution_count": 1,
   "metadata": {},
   "outputs": [
    {
     "data": {
      "text/html": [
       "<div>\n",
       "<style>\n",
       "    .dataframe thead tr:only-child th {\n",
       "        text-align: right;\n",
       "    }\n",
       "\n",
       "    .dataframe thead th {\n",
       "        text-align: left;\n",
       "    }\n",
       "\n",
       "    .dataframe tbody tr th {\n",
       "        vertical-align: top;\n",
       "    }\n",
       "</style>\n",
       "<table border=\"1\" class=\"dataframe\">\n",
       "  <thead>\n",
       "    <tr style=\"text-align: right;\">\n",
       "      <th></th>\n",
       "      <th>author</th>\n",
       "      <th>content</th>\n",
       "      <th>dt</th>\n",
       "      <th>source</th>\n",
       "      <th>title</th>\n",
       "    </tr>\n",
       "  </thead>\n",
       "  <tbody>\n",
       "    <tr>\n",
       "      <th>0</th>\n",
       "      <td>kickingbird</td>\n",
       "      <td>2017年8月14日，湘西自治州報告一例人感染H7N9流感確診病例。患者莫某某，48歲，以收...</td>\n",
       "      <td>2017-08-15 11:58:00</td>\n",
       "      <td>湖南省疾病預防控制中心</td>\n",
       "      <td>中國：湖南省湘西自治州報告一例人感染H7N9流感確診病例</td>\n",
       "    </tr>\n",
       "    <tr>\n",
       "      <th>1</th>\n",
       "      <td>kickingbird</td>\n",
       "      <td>衛生署衛生防護中心今日（八月四日）正監察國家衛生和計劃生育委員會通報在七月二十八日至八月三日...</td>\n",
       "      <td>2017-08-05 19:19:00</td>\n",
       "      <td>香港衛生防護中心</td>\n",
       "      <td>中國：香港衛生防護中心獲通報福建人類感染甲型禽流感（H7N9）個案</td>\n",
       "    </tr>\n",
       "    <tr>\n",
       "      <th>2</th>\n",
       "      <td>kickingbird</td>\n",
       "      <td>農業部新聞辦公室8月1日發布，內蒙古自治區通遼市科爾沁區發生一起家禽H5N1亞型高致病性禽流...</td>\n",
       "      <td>2017-08-05 19:16:00</td>\n",
       "      <td>中國農業部</td>\n",
       "      <td>中國：內蒙古自治區通遼市科爾沁區發生一起家禽H5N1亞型高致病性禽流感疫情</td>\n",
       "    </tr>\n",
       "    <tr>\n",
       "      <th>3</th>\n",
       "      <td>kickingbird</td>\n",
       "      <td>有關陽性樣品說明：\\n　 　一、H7亞型禽流感血清學陽性樣品（3018份）\\n　　（一）北京...</td>\n",
       "      <td>2017-07-26 10:34:00</td>\n",
       "      <td>中國農業部</td>\n",
       "      <td>中國：2017年6月全國動物H7N9流感監測情況</td>\n",
       "    </tr>\n",
       "    <tr>\n",
       "      <th>4</th>\n",
       "      <td>kickingbird</td>\n",
       "      <td>香港衛生署衛生防護中心（七月二十一日）正監察國家衛生和計劃生育委員會通報在七月十四至二十日期...</td>\n",
       "      <td>2017-07-23 16:48:00</td>\n",
       "      <td>香港衛生防護中心</td>\n",
       "      <td>中國：香港衛生防護中心獲通報江蘇人類感染甲型禽流感(H7N9)個案</td>\n",
       "    </tr>\n",
       "  </tbody>\n",
       "</table>\n",
       "</div>"
      ],
      "text/plain": [
       "        author                                            content  \\\n",
       "0  kickingbird  2017年8月14日，湘西自治州報告一例人感染H7N9流感確診病例。患者莫某某，48歲，以收...   \n",
       "1  kickingbird  衛生署衛生防護中心今日（八月四日）正監察國家衛生和計劃生育委員會通報在七月二十八日至八月三日...   \n",
       "2  kickingbird  農業部新聞辦公室8月1日發布，內蒙古自治區通遼市科爾沁區發生一起家禽H5N1亞型高致病性禽流...   \n",
       "3  kickingbird  有關陽性樣品說明：\\n　 　一、H7亞型禽流感血清學陽性樣品（3018份）\\n　　（一）北京...   \n",
       "4  kickingbird  香港衛生署衛生防護中心（七月二十一日）正監察國家衛生和計劃生育委員會通報在七月十四至二十日期...   \n",
       "\n",
       "                   dt       source                                  title  \n",
       "0 2017-08-15 11:58:00  湖南省疾病預防控制中心           中國：湖南省湘西自治州報告一例人感染H7N9流感確診病例  \n",
       "1 2017-08-05 19:19:00     香港衛生防護中心      中國：香港衛生防護中心獲通報福建人類感染甲型禽流感（H7N9）個案  \n",
       "2 2017-08-05 19:16:00        中國農業部  中國：內蒙古自治區通遼市科爾沁區發生一起家禽H5N1亞型高致病性禽流感疫情  \n",
       "3 2017-07-26 10:34:00        中國農業部               中國：2017年6月全國動物H7N9流感監測情況  \n",
       "4 2017-07-23 16:48:00     香港衛生防護中心      中國：香港衛生防護中心獲通報江蘇人類感染甲型禽流感(H7N9)個案  "
      ]
     },
     "execution_count": 1,
     "metadata": {},
     "output_type": "execute_result"
    }
   ],
   "source": [
    "import pandas\n",
    "df = pandas.read_excel('https://raw.githubusercontent.com/ywchiu/cdc_course/master/data/fic.xlsx')\n",
    "df.head()"
   ]
  },
  {
   "cell_type": "code",
   "execution_count": 2,
   "metadata": {},
   "outputs": [
    {
     "name": "stderr",
     "output_type": "stream",
     "text": [
      "C:\\ProgramData\\Anaconda3\\lib\\site-packages\\ipykernel_launcher.py:1: FutureWarning: currently extract(expand=None) means expand=False (return Index/Series/DataFrame) but in a future version of pandas this will be changed to expand=True (return DataFrame)\n",
      "  \"\"\"Entry point for launching an IPython kernel.\n"
     ]
    }
   ],
   "source": [
    "df['province'] = df['source'].str.extract('(.+)[省市]')"
   ]
  },
  {
   "cell_type": "code",
   "execution_count": 3,
   "metadata": {},
   "outputs": [
    {
     "data": {
      "text/plain": [
       "province\n",
       "河北     9\n",
       "重慶     6\n",
       "江蘇     5\n",
       "河南     5\n",
       "四川     5\n",
       "安徽     4\n",
       "北京     4\n",
       "湖南     3\n",
       "山西     3\n",
       "天津     2\n",
       "自貢     2\n",
       "淄博     2\n",
       "陝西     2\n",
       "榆林     2\n",
       "成都     1\n",
       "吉林     1\n",
       "寶雞     1\n",
       "山東     1\n",
       "威海     1\n",
       "鹹陽     1\n",
       "攀枝花    1\n",
       "武漢     1\n",
       "雲南     1\n",
       "濱州     1\n",
       "甘肅     1\n",
       "眉山     1\n",
       "西安     1\n",
       "貴州     1\n",
       "遼寧     1\n",
       "任丘     1\n",
       "Name: province, dtype: int64"
      ]
     },
     "execution_count": 3,
     "metadata": {},
     "output_type": "execute_result"
    }
   ],
   "source": [
    "df.groupby('province')['province'].count().sort_values(ascending = False)"
   ]
  },
  {
   "cell_type": "markdown",
   "metadata": {},
   "source": [
    "1. 先切換到 matplotlib 路徑\n",
    "- cd C:\\ProgramData\\Anaconda3\\Lib\\site-packages\\matplotlib\\mpl-data\n",
    "\n",
    "2. 用筆記本打開 matplotlibrc\n",
    "\n",
    "3. 找到 font.family         : sans-serif, 將# 拿掉\n",
    "    \n",
    "4. 找到 font.sans-serif, 將 # 拿掉\n",
    "\n",
    "5. 在 font.sans-serif 後面加入 Microsoft YaHei\n"
   ]
  },
  {
   "cell_type": "code",
   "execution_count": 4,
   "metadata": {},
   "outputs": [
    {
     "name": "stdout",
     "output_type": "stream",
     "text": [
      "Populating the interactive namespace from numpy and matplotlib\n"
     ]
    },
    {
     "data": {
      "text/plain": [
       "<matplotlib.axes._subplots.AxesSubplot at 0xa370668>"
      ]
     },
     "execution_count": 4,
     "metadata": {},
     "output_type": "execute_result"
    },
    {
     "data": {
      "image/png": "[encoded data removed]",
      "text/plain": [
       "<matplotlib.figure.Figure at 0x4e3ae48>"
      ]
     },
     "metadata": {},
     "output_type": "display_data"
    }
   ],
   "source": [
    "% pylab inline\n",
    "df.groupby('province')['province'].count().sort_values(ascending = False).plot(kind = 'bar')"
   ]
  },
  {
   "cell_type": "markdown",
   "metadata": {},
   "source": [
    "## 591租屋網處理"
   ]
  },
  {
   "cell_type": "code",
   "execution_count": 3,
   "metadata": {},
   "outputs": [
    {
     "data": {
      "text/html": [
       "<div>\n",
       "<style>\n",
       "    .dataframe thead tr:only-child th {\n",
       "        text-align: right;\n",
       "    }\n",
       "\n",
       "    .dataframe thead th {\n",
       "        text-align: left;\n",
       "    }\n",
       "\n",
       "    .dataframe tbody tr th {\n",
       "        vertical-align: top;\n",
       "    }\n",
       "</style>\n",
       "<table border=\"1\" class=\"dataframe\">\n",
       "  <thead>\n",
       "    <tr style=\"text-align: right;\">\n",
       "      <th></th>\n",
       "      <th>detail_url</th>\n",
       "      <th>search_date</th>\n",
       "      <th>title</th>\n",
       "      <th>address</th>\n",
       "      <th>floor_info</th>\n",
       "      <th>price</th>\n",
       "      <th>layout</th>\n",
       "      <th>building_area</th>\n",
       "      <th>building_use</th>\n",
       "      <th>latitude</th>\n",
       "      <th>longitude</th>\n",
       "    </tr>\n",
       "  </thead>\n",
       "  <tbody>\n",
       "    <tr>\n",
       "      <th>0</th>\n",
       "      <td>https://rent.591.com.tw/rent-detail-1050934.html</td>\n",
       "      <td>2017-05-14</td>\n",
       "      <td>套房出租-近東方學院(六~八月可入住)</td>\n",
       "      <td>高雄市湖內區民生街</td>\n",
       "      <td>3F/3F</td>\n",
       "      <td>4,500元/月</td>\n",
       "      <td>NaN</td>\n",
       "      <td>6.0</td>\n",
       "      <td>透天厝/獨立套房</td>\n",
       "      <td>22.878436</td>\n",
       "      <td>120.250810</td>\n",
       "    </tr>\n",
       "    <tr>\n",
       "      <th>1</th>\n",
       "      <td>https://rent.591.com.tw/rent-detail-1008046.html</td>\n",
       "      <td>2017-05-14</td>\n",
       "      <td>好房子【聰明的你、妳快來租吧】</td>\n",
       "      <td>新北市蘆洲區長安街</td>\n",
       "      <td>4F/5F</td>\n",
       "      <td>7,500元/月</td>\n",
       "      <td>NaN</td>\n",
       "      <td>10.0</td>\n",
       "      <td>透天厝/獨立套房</td>\n",
       "      <td>25.081558</td>\n",
       "      <td>121.461868</td>\n",
       "    </tr>\n",
       "    <tr>\n",
       "      <th>2</th>\n",
       "      <td>https://rent.591.com.tw/rent-detail-1586266.html</td>\n",
       "      <td>2017-05-12</td>\n",
       "      <td>陽台大套房(獨立洗衣機)近頂溪捷運站</td>\n",
       "      <td>新北市永和區中山路一段</td>\n",
       "      <td>8F/12F</td>\n",
       "      <td>11,000元/月</td>\n",
       "      <td>NaN</td>\n",
       "      <td>8.0</td>\n",
       "      <td>電梯大樓/分租套房</td>\n",
       "      <td>25.010293</td>\n",
       "      <td>121.511328</td>\n",
       "    </tr>\n",
       "    <tr>\n",
       "      <th>3</th>\n",
       "      <td>https://rent.591.com.tw/rent-detail-1699948.html</td>\n",
       "      <td>2017-05-13</td>\n",
       "      <td>火車站附近~~優質套房</td>\n",
       "      <td>屏東縣潮州鎮六合路</td>\n",
       "      <td>3F/3F</td>\n",
       "      <td>5,000元/月</td>\n",
       "      <td>NaN</td>\n",
       "      <td>8.0</td>\n",
       "      <td>透天厝/獨立套房</td>\n",
       "      <td>22.551346</td>\n",
       "      <td>120.538032</td>\n",
       "    </tr>\n",
       "    <tr>\n",
       "      <th>4</th>\n",
       "      <td>https://rent.591.com.tw/rent-detail-1404725.html</td>\n",
       "      <td>2017-05-12</td>\n",
       "      <td>觀音四維路優質陽台套房</td>\n",
       "      <td>桃園市觀音區四維路</td>\n",
       "      <td>4F/5F</td>\n",
       "      <td>5,000元/月</td>\n",
       "      <td>NaN</td>\n",
       "      <td>7.0</td>\n",
       "      <td>透天厝/分租套房</td>\n",
       "      <td>25.043652</td>\n",
       "      <td>121.141518</td>\n",
       "    </tr>\n",
       "  </tbody>\n",
       "</table>\n",
       "</div>"
      ],
      "text/plain": [
       "                                         detail_url search_date  \\\n",
       "0  https://rent.591.com.tw/rent-detail-1050934.html  2017-05-14   \n",
       "1  https://rent.591.com.tw/rent-detail-1008046.html  2017-05-14   \n",
       "2  https://rent.591.com.tw/rent-detail-1586266.html  2017-05-12   \n",
       "3  https://rent.591.com.tw/rent-detail-1699948.html  2017-05-13   \n",
       "4  https://rent.591.com.tw/rent-detail-1404725.html  2017-05-12   \n",
       "\n",
       "                 title      address floor_info      price layout  \\\n",
       "0  套房出租-近東方學院(六~八月可入住)    高雄市湖內區民生街      3F/3F   4,500元/月    NaN   \n",
       "1      好房子【聰明的你、妳快來租吧】    新北市蘆洲區長安街      4F/5F   7,500元/月    NaN   \n",
       "2   陽台大套房(獨立洗衣機)近頂溪捷運站  新北市永和區中山路一段     8F/12F  11,000元/月    NaN   \n",
       "3          火車站附近~~優質套房    屏東縣潮州鎮六合路      3F/3F   5,000元/月    NaN   \n",
       "4          觀音四維路優質陽台套房    桃園市觀音區四維路      4F/5F   5,000元/月    NaN   \n",
       "\n",
       "   building_area building_use   latitude   longitude  \n",
       "0            6.0     透天厝/獨立套房  22.878436  120.250810  \n",
       "1           10.0     透天厝/獨立套房  25.081558  121.461868  \n",
       "2            8.0    電梯大樓/分租套房  25.010293  121.511328  \n",
       "3            8.0     透天厝/獨立套房  22.551346  120.538032  \n",
       "4            7.0     透天厝/分租套房  25.043652  121.141518  "
      ]
     },
     "execution_count": 3,
     "metadata": {},
     "output_type": "execute_result"
    }
   ],
   "source": [
    "import pandas\n",
    "df = pandas.read_csv('https://raw.githubusercontent.com/ywchiu/tibamepy/master/data/rent_591_sample.csv', encoding = 'utf-8', index_col= 0 )\n",
    "df.head()"
   ]
  },
  {
   "cell_type": "code",
   "execution_count": 32,
   "metadata": {},
   "outputs": [],
   "source": [
    "df['city'] = df['address'].str.extract('(.+[市縣]).+[區鎮鄉市].+', expand=False )\n",
    "df['area'] = df['address'].str.extract('.+[市縣](.+[區鎮鄉市]).+', expand=False )\n",
    "df['road'] = df['address'].str.extract('.+[區鎮鄉市村](.+[路巷弄街道])', expand=False )"
   ]
  },
  {
   "cell_type": "code",
   "execution_count": 37,
   "metadata": {},
   "outputs": [
    {
     "data": {
      "text/html": [
       "<div>\n",
       "<style>\n",
       "    .dataframe thead tr:only-child th {\n",
       "        text-align: right;\n",
       "    }\n",
       "\n",
       "    .dataframe thead th {\n",
       "        text-align: left;\n",
       "    }\n",
       "\n",
       "    .dataframe tbody tr th {\n",
       "        vertical-align: top;\n",
       "    }\n",
       "</style>\n",
       "<table border=\"1\" class=\"dataframe\">\n",
       "  <thead>\n",
       "    <tr style=\"text-align: right;\">\n",
       "      <th></th>\n",
       "      <th>address</th>\n",
       "      <th>city</th>\n",
       "      <th>area</th>\n",
       "      <th>road</th>\n",
       "    </tr>\n",
       "  </thead>\n",
       "  <tbody>\n",
       "    <tr>\n",
       "      <th>100</th>\n",
       "      <td>台北市中山區天祥路</td>\n",
       "      <td>台北市</td>\n",
       "      <td>中山區</td>\n",
       "      <td>天祥路</td>\n",
       "    </tr>\n",
       "    <tr>\n",
       "      <th>101</th>\n",
       "      <td>台北市信義區吳興街</td>\n",
       "      <td>台北市</td>\n",
       "      <td>信義區</td>\n",
       "      <td>吳興街</td>\n",
       "    </tr>\n",
       "    <tr>\n",
       "      <th>102</th>\n",
       "      <td>台南市永康區永安路</td>\n",
       "      <td>台南市</td>\n",
       "      <td>永康區</td>\n",
       "      <td>永安路</td>\n",
       "    </tr>\n",
       "    <tr>\n",
       "      <th>103</th>\n",
       "      <td>屏東縣屏東市瑞光路</td>\n",
       "      <td>屏東縣</td>\n",
       "      <td>屏東市</td>\n",
       "      <td>瑞光路</td>\n",
       "    </tr>\n",
       "    <tr>\n",
       "      <th>104</th>\n",
       "      <td>彰化縣員林市莒光路</td>\n",
       "      <td>彰化縣</td>\n",
       "      <td>員林市</td>\n",
       "      <td>莒光路</td>\n",
       "    </tr>\n",
       "  </tbody>\n",
       "</table>\n",
       "</div>"
      ],
      "text/plain": [
       "       address city area road\n",
       "100  台北市中山區天祥路  台北市  中山區  天祥路\n",
       "101  台北市信義區吳興街  台北市  信義區  吳興街\n",
       "102  台南市永康區永安路  台南市  永康區  永安路\n",
       "103  屏東縣屏東市瑞光路  屏東縣  屏東市  瑞光路\n",
       "104  彰化縣員林市莒光路  彰化縣  員林市  莒光路"
      ]
     },
     "execution_count": 37,
     "metadata": {},
     "output_type": "execute_result"
    }
   ],
   "source": [
    "df.loc[100:300,['address', 'city', 'area','road']].head()"
   ]
  },
  {
   "cell_type": "code",
   "execution_count": 38,
   "metadata": {},
   "outputs": [
    {
     "data": {
      "text/html": [
       "<div>\n",
       "<style>\n",
       "    .dataframe thead tr:only-child th {\n",
       "        text-align: right;\n",
       "    }\n",
       "\n",
       "    .dataframe thead th {\n",
       "        text-align: left;\n",
       "    }\n",
       "\n",
       "    .dataframe tbody tr th {\n",
       "        vertical-align: top;\n",
       "    }\n",
       "</style>\n",
       "<table border=\"1\" class=\"dataframe\">\n",
       "  <thead>\n",
       "    <tr style=\"text-align: right;\">\n",
       "      <th></th>\n",
       "      <th>address</th>\n",
       "      <th>city</th>\n",
       "      <th>area</th>\n",
       "      <th>road</th>\n",
       "    </tr>\n",
       "  </thead>\n",
       "  <tbody>\n",
       "    <tr>\n",
       "      <th>49</th>\n",
       "      <td>桃園市平鎮區環南路三段</td>\n",
       "      <td>桃園市</td>\n",
       "      <td>平鎮區</td>\n",
       "      <td>環南路</td>\n",
       "    </tr>\n",
       "    <tr>\n",
       "      <th>54</th>\n",
       "      <td>桃園市平鎮區大興路</td>\n",
       "      <td>桃園市</td>\n",
       "      <td>平鎮區</td>\n",
       "      <td>大興路</td>\n",
       "    </tr>\n",
       "    <tr>\n",
       "      <th>197</th>\n",
       "      <td>桃園市平鎮區上海路</td>\n",
       "      <td>桃園市</td>\n",
       "      <td>平鎮區</td>\n",
       "      <td>上海路</td>\n",
       "    </tr>\n",
       "    <tr>\n",
       "      <th>332</th>\n",
       "      <td>桃園市平鎮區湧安路</td>\n",
       "      <td>桃園市</td>\n",
       "      <td>平鎮區</td>\n",
       "      <td>湧安路</td>\n",
       "    </tr>\n",
       "    <tr>\n",
       "      <th>371</th>\n",
       "      <td>桃園市平鎮區龍德路</td>\n",
       "      <td>桃園市</td>\n",
       "      <td>平鎮區</td>\n",
       "      <td>龍德路</td>\n",
       "    </tr>\n",
       "  </tbody>\n",
       "</table>\n",
       "</div>"
      ],
      "text/plain": [
       "         address city area road\n",
       "49   桃園市平鎮區環南路三段  桃園市  平鎮區  環南路\n",
       "54     桃園市平鎮區大興路  桃園市  平鎮區  大興路\n",
       "197    桃園市平鎮區上海路  桃園市  平鎮區  上海路\n",
       "332    桃園市平鎮區湧安路  桃園市  平鎮區  湧安路\n",
       "371    桃園市平鎮區龍德路  桃園市  平鎮區  龍德路"
      ]
     },
     "execution_count": 38,
     "metadata": {},
     "output_type": "execute_result"
    }
   ],
   "source": [
    "df[df['address'].str.contains('平鎮')][['address', 'city', 'area', 'road']].head()"
   ]
  },
  {
   "cell_type": "code",
   "execution_count": 43,
   "metadata": {},
   "outputs": [],
   "source": [
    "def normalizePrice(price):\n",
    "    return int(price.replace('元/月','').replace(',',''))\n",
    "df['price'] = df['price'].map(normalizePrice)"
   ]
  },
  {
   "cell_type": "code",
   "execution_count": 47,
   "metadata": {},
   "outputs": [
    {
     "data": {
      "text/plain": [
       "city  building_use\n",
       "台北市   別墅/住辦           415000.000000\n",
       "金門縣   電梯大樓/店面         350000.000000\n",
       "台中市   廠辦/其他           320500.000000\n",
       "新竹市   電梯大樓/辦公         276105.754902\n",
       "台北市   電梯大樓/店面         191418.330827\n",
       "Name: price, dtype: float64"
      ]
     },
     "execution_count": 47,
     "metadata": {},
     "output_type": "execute_result"
    }
   ],
   "source": [
    "df.groupby(['city','building_use'])['price'].mean().sort_values(ascending = False).head()"
   ]
  },
  {
   "cell_type": "code",
   "execution_count": 49,
   "metadata": {},
   "outputs": [
    {
     "data": {
      "text/html": [
       "<div>\n",
       "<style>\n",
       "    .dataframe thead tr:only-child th {\n",
       "        text-align: right;\n",
       "    }\n",
       "\n",
       "    .dataframe thead th {\n",
       "        text-align: left;\n",
       "    }\n",
       "\n",
       "    .dataframe tbody tr th {\n",
       "        vertical-align: top;\n",
       "    }\n",
       "</style>\n",
       "<table border=\"1\" class=\"dataframe\">\n",
       "  <thead>\n",
       "    <tr style=\"text-align: right;\">\n",
       "      <th>building_use</th>\n",
       "      <th>倉庫/其他</th>\n",
       "      <th>公寓/住辦</th>\n",
       "      <th>公寓/其他</th>\n",
       "      <th>公寓/分租套房</th>\n",
       "      <th>公寓/店面</th>\n",
       "      <th>公寓/整層住家</th>\n",
       "      <th>公寓/獨立套房</th>\n",
       "      <th>公寓/辦公</th>\n",
       "      <th>公寓/雅房</th>\n",
       "      <th>其他/其他</th>\n",
       "      <th>...</th>\n",
       "      <th>透天厝/辦公</th>\n",
       "      <th>透天厝/雅房</th>\n",
       "      <th>電梯大樓/住辦</th>\n",
       "      <th>電梯大樓/其他</th>\n",
       "      <th>電梯大樓/分租套房</th>\n",
       "      <th>電梯大樓/店面</th>\n",
       "      <th>電梯大樓/整層住家</th>\n",
       "      <th>電梯大樓/獨立套房</th>\n",
       "      <th>電梯大樓/辦公</th>\n",
       "      <th>電梯大樓/雅房</th>\n",
       "    </tr>\n",
       "    <tr>\n",
       "      <th>city</th>\n",
       "      <th></th>\n",
       "      <th></th>\n",
       "      <th></th>\n",
       "      <th></th>\n",
       "      <th></th>\n",
       "      <th></th>\n",
       "      <th></th>\n",
       "      <th></th>\n",
       "      <th></th>\n",
       "      <th></th>\n",
       "      <th></th>\n",
       "      <th></th>\n",
       "      <th></th>\n",
       "      <th></th>\n",
       "      <th></th>\n",
       "      <th></th>\n",
       "      <th></th>\n",
       "      <th></th>\n",
       "      <th></th>\n",
       "      <th></th>\n",
       "      <th></th>\n",
       "    </tr>\n",
       "  </thead>\n",
       "  <tbody>\n",
       "    <tr>\n",
       "      <th>南投縣</th>\n",
       "      <td>NaN</td>\n",
       "      <td>5000.000000</td>\n",
       "      <td>NaN</td>\n",
       "      <td>5750.000000</td>\n",
       "      <td>NaN</td>\n",
       "      <td>8500.000000</td>\n",
       "      <td>5535.714286</td>\n",
       "      <td>NaN</td>\n",
       "      <td>3500.000000</td>\n",
       "      <td>NaN</td>\n",
       "      <td>...</td>\n",
       "      <td>13000.000000</td>\n",
       "      <td>4230.000000</td>\n",
       "      <td>27000.000000</td>\n",
       "      <td>NaN</td>\n",
       "      <td>6000.000000</td>\n",
       "      <td>56666.666667</td>\n",
       "      <td>12666.666667</td>\n",
       "      <td>5720.588235</td>\n",
       "      <td>50500.000000</td>\n",
       "      <td>3000.000000</td>\n",
       "    </tr>\n",
       "    <tr>\n",
       "      <th>台中市</th>\n",
       "      <td>41178.571429</td>\n",
       "      <td>16837.500000</td>\n",
       "      <td>19000.000000</td>\n",
       "      <td>5726.539823</td>\n",
       "      <td>40546.875000</td>\n",
       "      <td>16119.298113</td>\n",
       "      <td>6542.905563</td>\n",
       "      <td>20556.250000</td>\n",
       "      <td>3922.704545</td>\n",
       "      <td>NaN</td>\n",
       "      <td>...</td>\n",
       "      <td>27675.000000</td>\n",
       "      <td>3974.524823</td>\n",
       "      <td>47771.052632</td>\n",
       "      <td>75263.607143</td>\n",
       "      <td>6825.000000</td>\n",
       "      <td>90288.017467</td>\n",
       "      <td>26273.275725</td>\n",
       "      <td>7927.451311</td>\n",
       "      <td>57332.549918</td>\n",
       "      <td>4558.750000</td>\n",
       "    </tr>\n",
       "    <tr>\n",
       "      <th>台北市</th>\n",
       "      <td>15748.888889</td>\n",
       "      <td>34985.252632</td>\n",
       "      <td>24255.444444</td>\n",
       "      <td>10483.768595</td>\n",
       "      <td>84028.315878</td>\n",
       "      <td>29103.239535</td>\n",
       "      <td>11685.724719</td>\n",
       "      <td>55372.391026</td>\n",
       "      <td>6621.349515</td>\n",
       "      <td>NaN</td>\n",
       "      <td>...</td>\n",
       "      <td>40289.473684</td>\n",
       "      <td>6358.142857</td>\n",
       "      <td>52827.219931</td>\n",
       "      <td>132677.964706</td>\n",
       "      <td>12608.626087</td>\n",
       "      <td>191418.330827</td>\n",
       "      <td>64714.588389</td>\n",
       "      <td>20917.632911</td>\n",
       "      <td>165144.147224</td>\n",
       "      <td>7645.088496</td>\n",
       "    </tr>\n",
       "    <tr>\n",
       "      <th>台南市</th>\n",
       "      <td>6500.000000</td>\n",
       "      <td>15000.000000</td>\n",
       "      <td>NaN</td>\n",
       "      <td>5466.666667</td>\n",
       "      <td>58772.727273</td>\n",
       "      <td>14885.148515</td>\n",
       "      <td>5483.042945</td>\n",
       "      <td>109333.333333</td>\n",
       "      <td>3253.266667</td>\n",
       "      <td>3500.0</td>\n",
       "      <td>...</td>\n",
       "      <td>18700.000000</td>\n",
       "      <td>3497.950820</td>\n",
       "      <td>20763.545455</td>\n",
       "      <td>25100.000000</td>\n",
       "      <td>5671.960000</td>\n",
       "      <td>60131.700000</td>\n",
       "      <td>18878.738189</td>\n",
       "      <td>6570.472897</td>\n",
       "      <td>24091.724138</td>\n",
       "      <td>3631.818182</td>\n",
       "    </tr>\n",
       "    <tr>\n",
       "      <th>台東縣</th>\n",
       "      <td>NaN</td>\n",
       "      <td>NaN</td>\n",
       "      <td>NaN</td>\n",
       "      <td>6000.000000</td>\n",
       "      <td>NaN</td>\n",
       "      <td>NaN</td>\n",
       "      <td>6000.000000</td>\n",
       "      <td>NaN</td>\n",
       "      <td>4750.000000</td>\n",
       "      <td>NaN</td>\n",
       "      <td>...</td>\n",
       "      <td>NaN</td>\n",
       "      <td>3811.111111</td>\n",
       "      <td>NaN</td>\n",
       "      <td>NaN</td>\n",
       "      <td>5500.000000</td>\n",
       "      <td>NaN</td>\n",
       "      <td>NaN</td>\n",
       "      <td>5933.333333</td>\n",
       "      <td>30000.000000</td>\n",
       "      <td>4500.000000</td>\n",
       "    </tr>\n",
       "    <tr>\n",
       "      <th>嘉義市</th>\n",
       "      <td>NaN</td>\n",
       "      <td>NaN</td>\n",
       "      <td>NaN</td>\n",
       "      <td>4460.000000</td>\n",
       "      <td>16000.000000</td>\n",
       "      <td>9111.111111</td>\n",
       "      <td>5491.173913</td>\n",
       "      <td>4500.000000</td>\n",
       "      <td>3216.666667</td>\n",
       "      <td>NaN</td>\n",
       "      <td>...</td>\n",
       "      <td>32500.000000</td>\n",
       "      <td>3077.000000</td>\n",
       "      <td>16500.000000</td>\n",
       "      <td>9000.000000</td>\n",
       "      <td>5172.727273</td>\n",
       "      <td>22780.000000</td>\n",
       "      <td>12920.000000</td>\n",
       "      <td>5672.506667</td>\n",
       "      <td>28000.000000</td>\n",
       "      <td>2462.500000</td>\n",
       "    </tr>\n",
       "    <tr>\n",
       "      <th>嘉義縣</th>\n",
       "      <td>NaN</td>\n",
       "      <td>NaN</td>\n",
       "      <td>NaN</td>\n",
       "      <td>3150.000000</td>\n",
       "      <td>25000.000000</td>\n",
       "      <td>5500.000000</td>\n",
       "      <td>5350.000000</td>\n",
       "      <td>NaN</td>\n",
       "      <td>2500.000000</td>\n",
       "      <td>NaN</td>\n",
       "      <td>...</td>\n",
       "      <td>23500.000000</td>\n",
       "      <td>2175.000000</td>\n",
       "      <td>NaN</td>\n",
       "      <td>NaN</td>\n",
       "      <td>6256.666667</td>\n",
       "      <td>9750.000000</td>\n",
       "      <td>14166.666667</td>\n",
       "      <td>4047.518519</td>\n",
       "      <td>NaN</td>\n",
       "      <td>2500.000000</td>\n",
       "    </tr>\n",
       "    <tr>\n",
       "      <th>基隆市</th>\n",
       "      <td>NaN</td>\n",
       "      <td>10000.000000</td>\n",
       "      <td>9000.000000</td>\n",
       "      <td>5727.392857</td>\n",
       "      <td>40951.612903</td>\n",
       "      <td>11327.536232</td>\n",
       "      <td>6290.625000</td>\n",
       "      <td>17500.000000</td>\n",
       "      <td>3841.666667</td>\n",
       "      <td>NaN</td>\n",
       "      <td>...</td>\n",
       "      <td>15750.000000</td>\n",
       "      <td>6833.333333</td>\n",
       "      <td>26280.000000</td>\n",
       "      <td>12000.000000</td>\n",
       "      <td>6836.363636</td>\n",
       "      <td>64842.105263</td>\n",
       "      <td>16079.371134</td>\n",
       "      <td>8044.680851</td>\n",
       "      <td>67214.538462</td>\n",
       "      <td>4000.000000</td>\n",
       "    </tr>\n",
       "    <tr>\n",
       "      <th>宜蘭縣</th>\n",
       "      <td>8000.000000</td>\n",
       "      <td>8000.000000</td>\n",
       "      <td>NaN</td>\n",
       "      <td>5481.818182</td>\n",
       "      <td>17666.666667</td>\n",
       "      <td>11938.461538</td>\n",
       "      <td>6988.888889</td>\n",
       "      <td>15000.000000</td>\n",
       "      <td>4875.000000</td>\n",
       "      <td>NaN</td>\n",
       "      <td>...</td>\n",
       "      <td>20000.000000</td>\n",
       "      <td>4216.666667</td>\n",
       "      <td>45000.000000</td>\n",
       "      <td>NaN</td>\n",
       "      <td>7071.428571</td>\n",
       "      <td>56749.750000</td>\n",
       "      <td>16937.142857</td>\n",
       "      <td>8781.309735</td>\n",
       "      <td>39166.666667</td>\n",
       "      <td>4250.000000</td>\n",
       "    </tr>\n",
       "    <tr>\n",
       "      <th>屏東縣</th>\n",
       "      <td>NaN</td>\n",
       "      <td>NaN</td>\n",
       "      <td>NaN</td>\n",
       "      <td>3745.750000</td>\n",
       "      <td>8000.000000</td>\n",
       "      <td>11600.000000</td>\n",
       "      <td>4691.750000</td>\n",
       "      <td>NaN</td>\n",
       "      <td>3000.000000</td>\n",
       "      <td>NaN</td>\n",
       "      <td>...</td>\n",
       "      <td>7200.000000</td>\n",
       "      <td>3674.193548</td>\n",
       "      <td>NaN</td>\n",
       "      <td>10875.000000</td>\n",
       "      <td>4900.000000</td>\n",
       "      <td>19000.000000</td>\n",
       "      <td>11272.727273</td>\n",
       "      <td>5312.000000</td>\n",
       "      <td>21050.000000</td>\n",
       "      <td>3500.000000</td>\n",
       "    </tr>\n",
       "    <tr>\n",
       "      <th>彰化縣</th>\n",
       "      <td>14000.000000</td>\n",
       "      <td>6433.333333</td>\n",
       "      <td>NaN</td>\n",
       "      <td>5764.285714</td>\n",
       "      <td>31500.000000</td>\n",
       "      <td>12142.105263</td>\n",
       "      <td>5569.696970</td>\n",
       "      <td>NaN</td>\n",
       "      <td>3854.545455</td>\n",
       "      <td>6800.0</td>\n",
       "      <td>...</td>\n",
       "      <td>13862.500000</td>\n",
       "      <td>3726.666667</td>\n",
       "      <td>NaN</td>\n",
       "      <td>NaN</td>\n",
       "      <td>7100.000000</td>\n",
       "      <td>46888.888889</td>\n",
       "      <td>14884.857143</td>\n",
       "      <td>5747.272727</td>\n",
       "      <td>46960.000000</td>\n",
       "      <td>3750.000000</td>\n",
       "    </tr>\n",
       "    <tr>\n",
       "      <th>新北市</th>\n",
       "      <td>12654.411765</td>\n",
       "      <td>25732.467532</td>\n",
       "      <td>18875.000000</td>\n",
       "      <td>7704.309190</td>\n",
       "      <td>54573.420479</td>\n",
       "      <td>17831.991337</td>\n",
       "      <td>8771.919139</td>\n",
       "      <td>30236.708861</td>\n",
       "      <td>5129.363095</td>\n",
       "      <td>NaN</td>\n",
       "      <td>...</td>\n",
       "      <td>27660.000000</td>\n",
       "      <td>4777.083333</td>\n",
       "      <td>35331.748092</td>\n",
       "      <td>35153.806452</td>\n",
       "      <td>8352.653696</td>\n",
       "      <td>71333.706263</td>\n",
       "      <td>27452.717103</td>\n",
       "      <td>26665.505760</td>\n",
       "      <td>95069.970266</td>\n",
       "      <td>6195.412844</td>\n",
       "    </tr>\n",
       "    <tr>\n",
       "      <th>新竹市</th>\n",
       "      <td>32500.000000</td>\n",
       "      <td>10000.000000</td>\n",
       "      <td>NaN</td>\n",
       "      <td>5784.694118</td>\n",
       "      <td>41166.666667</td>\n",
       "      <td>15069.496454</td>\n",
       "      <td>6571.968750</td>\n",
       "      <td>21000.000000</td>\n",
       "      <td>3948.484848</td>\n",
       "      <td>NaN</td>\n",
       "      <td>...</td>\n",
       "      <td>32777.777778</td>\n",
       "      <td>3945.000000</td>\n",
       "      <td>47777.777778</td>\n",
       "      <td>56399.800000</td>\n",
       "      <td>7066.250000</td>\n",
       "      <td>61862.790698</td>\n",
       "      <td>21816.702270</td>\n",
       "      <td>8248.243675</td>\n",
       "      <td>276105.754902</td>\n",
       "      <td>4683.333333</td>\n",
       "    </tr>\n",
       "    <tr>\n",
       "      <th>新竹縣</th>\n",
       "      <td>8000.000000</td>\n",
       "      <td>20000.000000</td>\n",
       "      <td>NaN</td>\n",
       "      <td>5500.000000</td>\n",
       "      <td>44100.000000</td>\n",
       "      <td>14874.576271</td>\n",
       "      <td>7081.250000</td>\n",
       "      <td>44490.909091</td>\n",
       "      <td>3275.000000</td>\n",
       "      <td>NaN</td>\n",
       "      <td>...</td>\n",
       "      <td>46014.705882</td>\n",
       "      <td>4392.307692</td>\n",
       "      <td>14857.142857</td>\n",
       "      <td>18500.000000</td>\n",
       "      <td>7773.076923</td>\n",
       "      <td>89257.482353</td>\n",
       "      <td>23111.333333</td>\n",
       "      <td>9620.294785</td>\n",
       "      <td>78100.814433</td>\n",
       "      <td>5500.000000</td>\n",
       "    </tr>\n",
       "    <tr>\n",
       "      <th>桃園市</th>\n",
       "      <td>57225.000000</td>\n",
       "      <td>21409.090909</td>\n",
       "      <td>16700.000000</td>\n",
       "      <td>5659.987500</td>\n",
       "      <td>31789.130435</td>\n",
       "      <td>12896.543919</td>\n",
       "      <td>6131.397059</td>\n",
       "      <td>21299.538462</td>\n",
       "      <td>4720.833333</td>\n",
       "      <td>NaN</td>\n",
       "      <td>...</td>\n",
       "      <td>37872.000000</td>\n",
       "      <td>4484.057971</td>\n",
       "      <td>26321.568627</td>\n",
       "      <td>42377.461538</td>\n",
       "      <td>6294.071006</td>\n",
       "      <td>64776.190476</td>\n",
       "      <td>18227.310618</td>\n",
       "      <td>8027.433121</td>\n",
       "      <td>49826.036232</td>\n",
       "      <td>5441.903846</td>\n",
       "    </tr>\n",
       "    <tr>\n",
       "      <th>澎湖縣</th>\n",
       "      <td>NaN</td>\n",
       "      <td>NaN</td>\n",
       "      <td>NaN</td>\n",
       "      <td>NaN</td>\n",
       "      <td>NaN</td>\n",
       "      <td>NaN</td>\n",
       "      <td>NaN</td>\n",
       "      <td>NaN</td>\n",
       "      <td>4000.000000</td>\n",
       "      <td>NaN</td>\n",
       "      <td>...</td>\n",
       "      <td>NaN</td>\n",
       "      <td>NaN</td>\n",
       "      <td>NaN</td>\n",
       "      <td>NaN</td>\n",
       "      <td>NaN</td>\n",
       "      <td>114000.000000</td>\n",
       "      <td>NaN</td>\n",
       "      <td>NaN</td>\n",
       "      <td>NaN</td>\n",
       "      <td>NaN</td>\n",
       "    </tr>\n",
       "    <tr>\n",
       "      <th>花蓮縣</th>\n",
       "      <td>NaN</td>\n",
       "      <td>6000.000000</td>\n",
       "      <td>8000.000000</td>\n",
       "      <td>5700.000000</td>\n",
       "      <td>NaN</td>\n",
       "      <td>13144.444444</td>\n",
       "      <td>5233.333333</td>\n",
       "      <td>NaN</td>\n",
       "      <td>3300.000000</td>\n",
       "      <td>NaN</td>\n",
       "      <td>...</td>\n",
       "      <td>12500.000000</td>\n",
       "      <td>3900.000000</td>\n",
       "      <td>15500.000000</td>\n",
       "      <td>NaN</td>\n",
       "      <td>6166.666667</td>\n",
       "      <td>19333.333333</td>\n",
       "      <td>13781.250000</td>\n",
       "      <td>6992.000000</td>\n",
       "      <td>34000.000000</td>\n",
       "      <td>5000.000000</td>\n",
       "    </tr>\n",
       "    <tr>\n",
       "      <th>苗栗縣</th>\n",
       "      <td>110000.000000</td>\n",
       "      <td>NaN</td>\n",
       "      <td>NaN</td>\n",
       "      <td>3780.000000</td>\n",
       "      <td>25666.666667</td>\n",
       "      <td>12641.600000</td>\n",
       "      <td>5067.500000</td>\n",
       "      <td>NaN</td>\n",
       "      <td>3166.666667</td>\n",
       "      <td>NaN</td>\n",
       "      <td>...</td>\n",
       "      <td>35000.000000</td>\n",
       "      <td>3156.916667</td>\n",
       "      <td>24000.000000</td>\n",
       "      <td>21000.000000</td>\n",
       "      <td>4920.000000</td>\n",
       "      <td>89814.666667</td>\n",
       "      <td>13703.873786</td>\n",
       "      <td>5621.037975</td>\n",
       "      <td>43750.000000</td>\n",
       "      <td>4350.000000</td>\n",
       "    </tr>\n",
       "    <tr>\n",
       "      <th>苗栗縣苗栗市</th>\n",
       "      <td>NaN</td>\n",
       "      <td>NaN</td>\n",
       "      <td>NaN</td>\n",
       "      <td>NaN</td>\n",
       "      <td>NaN</td>\n",
       "      <td>NaN</td>\n",
       "      <td>NaN</td>\n",
       "      <td>NaN</td>\n",
       "      <td>NaN</td>\n",
       "      <td>NaN</td>\n",
       "      <td>...</td>\n",
       "      <td>NaN</td>\n",
       "      <td>NaN</td>\n",
       "      <td>NaN</td>\n",
       "      <td>NaN</td>\n",
       "      <td>NaN</td>\n",
       "      <td>NaN</td>\n",
       "      <td>NaN</td>\n",
       "      <td>NaN</td>\n",
       "      <td>NaN</td>\n",
       "      <td>NaN</td>\n",
       "    </tr>\n",
       "    <tr>\n",
       "      <th>金門縣</th>\n",
       "      <td>NaN</td>\n",
       "      <td>NaN</td>\n",
       "      <td>NaN</td>\n",
       "      <td>5166.666667</td>\n",
       "      <td>NaN</td>\n",
       "      <td>12958.333333</td>\n",
       "      <td>7216.666667</td>\n",
       "      <td>NaN</td>\n",
       "      <td>NaN</td>\n",
       "      <td>NaN</td>\n",
       "      <td>...</td>\n",
       "      <td>15000.000000</td>\n",
       "      <td>7000.000000</td>\n",
       "      <td>NaN</td>\n",
       "      <td>NaN</td>\n",
       "      <td>NaN</td>\n",
       "      <td>350000.000000</td>\n",
       "      <td>NaN</td>\n",
       "      <td>8400.000000</td>\n",
       "      <td>NaN</td>\n",
       "      <td>NaN</td>\n",
       "    </tr>\n",
       "    <tr>\n",
       "      <th>雲林縣</th>\n",
       "      <td>NaN</td>\n",
       "      <td>NaN</td>\n",
       "      <td>NaN</td>\n",
       "      <td>5000.000000</td>\n",
       "      <td>12000.000000</td>\n",
       "      <td>10125.000000</td>\n",
       "      <td>4488.888889</td>\n",
       "      <td>2000.000000</td>\n",
       "      <td>2500.000000</td>\n",
       "      <td>NaN</td>\n",
       "      <td>...</td>\n",
       "      <td>60000.000000</td>\n",
       "      <td>3008.333333</td>\n",
       "      <td>NaN</td>\n",
       "      <td>NaN</td>\n",
       "      <td>3300.000000</td>\n",
       "      <td>37150.000000</td>\n",
       "      <td>10083.333333</td>\n",
       "      <td>5018.718750</td>\n",
       "      <td>40000.000000</td>\n",
       "      <td>3900.000000</td>\n",
       "    </tr>\n",
       "    <tr>\n",
       "      <th>高雄市</th>\n",
       "      <td>6833.333333</td>\n",
       "      <td>14250.000000</td>\n",
       "      <td>6333.333333</td>\n",
       "      <td>5140.526627</td>\n",
       "      <td>32961.538462</td>\n",
       "      <td>12569.302041</td>\n",
       "      <td>5820.570248</td>\n",
       "      <td>34900.000000</td>\n",
       "      <td>3522.500000</td>\n",
       "      <td>NaN</td>\n",
       "      <td>...</td>\n",
       "      <td>36260.714286</td>\n",
       "      <td>3933.262097</td>\n",
       "      <td>26679.245283</td>\n",
       "      <td>12750.000000</td>\n",
       "      <td>6271.991304</td>\n",
       "      <td>87910.810811</td>\n",
       "      <td>22139.251501</td>\n",
       "      <td>7387.489697</td>\n",
       "      <td>48851.674912</td>\n",
       "      <td>4382.954545</td>\n",
       "    </tr>\n",
       "  </tbody>\n",
       "</table>\n",
       "<p>22 rows × 36 columns</p>\n",
       "</div>"
      ],
      "text/plain": [
       "building_use          倉庫/其他         公寓/住辦         公寓/其他       公寓/分租套房  \\\n",
       "city                                                                    \n",
       "南投縣                     NaN   5000.000000           NaN   5750.000000   \n",
       "台中市            41178.571429  16837.500000  19000.000000   5726.539823   \n",
       "台北市            15748.888889  34985.252632  24255.444444  10483.768595   \n",
       "台南市             6500.000000  15000.000000           NaN   5466.666667   \n",
       "台東縣                     NaN           NaN           NaN   6000.000000   \n",
       "嘉義市                     NaN           NaN           NaN   4460.000000   \n",
       "嘉義縣                     NaN           NaN           NaN   3150.000000   \n",
       "基隆市                     NaN  10000.000000   9000.000000   5727.392857   \n",
       "宜蘭縣             8000.000000   8000.000000           NaN   5481.818182   \n",
       "屏東縣                     NaN           NaN           NaN   3745.750000   \n",
       "彰化縣            14000.000000   6433.333333           NaN   5764.285714   \n",
       "新北市            12654.411765  25732.467532  18875.000000   7704.309190   \n",
       "新竹市            32500.000000  10000.000000           NaN   5784.694118   \n",
       "新竹縣             8000.000000  20000.000000           NaN   5500.000000   \n",
       "桃園市            57225.000000  21409.090909  16700.000000   5659.987500   \n",
       "澎湖縣                     NaN           NaN           NaN           NaN   \n",
       "花蓮縣                     NaN   6000.000000   8000.000000   5700.000000   \n",
       "苗栗縣           110000.000000           NaN           NaN   3780.000000   \n",
       "苗栗縣苗栗市                  NaN           NaN           NaN           NaN   \n",
       "金門縣                     NaN           NaN           NaN   5166.666667   \n",
       "雲林縣                     NaN           NaN           NaN   5000.000000   \n",
       "高雄市             6833.333333  14250.000000   6333.333333   5140.526627   \n",
       "\n",
       "building_use         公寓/店面       公寓/整層住家       公寓/獨立套房          公寓/辦公  \\\n",
       "city                                                                    \n",
       "南投縣                    NaN   8500.000000   5535.714286            NaN   \n",
       "台中市           40546.875000  16119.298113   6542.905563   20556.250000   \n",
       "台北市           84028.315878  29103.239535  11685.724719   55372.391026   \n",
       "台南市           58772.727273  14885.148515   5483.042945  109333.333333   \n",
       "台東縣                    NaN           NaN   6000.000000            NaN   \n",
       "嘉義市           16000.000000   9111.111111   5491.173913    4500.000000   \n",
       "嘉義縣           25000.000000   5500.000000   5350.000000            NaN   \n",
       "基隆市           40951.612903  11327.536232   6290.625000   17500.000000   \n",
       "宜蘭縣           17666.666667  11938.461538   6988.888889   15000.000000   \n",
       "屏東縣            8000.000000  11600.000000   4691.750000            NaN   \n",
       "彰化縣           31500.000000  12142.105263   5569.696970            NaN   \n",
       "新北市           54573.420479  17831.991337   8771.919139   30236.708861   \n",
       "新竹市           41166.666667  15069.496454   6571.968750   21000.000000   \n",
       "新竹縣           44100.000000  14874.576271   7081.250000   44490.909091   \n",
       "桃園市           31789.130435  12896.543919   6131.397059   21299.538462   \n",
       "澎湖縣                    NaN           NaN           NaN            NaN   \n",
       "花蓮縣                    NaN  13144.444444   5233.333333            NaN   \n",
       "苗栗縣           25666.666667  12641.600000   5067.500000            NaN   \n",
       "苗栗縣苗栗市                 NaN           NaN           NaN            NaN   \n",
       "金門縣                    NaN  12958.333333   7216.666667            NaN   \n",
       "雲林縣           12000.000000  10125.000000   4488.888889    2000.000000   \n",
       "高雄市           32961.538462  12569.302041   5820.570248   34900.000000   \n",
       "\n",
       "building_use        公寓/雅房   其他/其他     ...             透天厝/辦公       透天厝/雅房  \\\n",
       "city                                  ...                                   \n",
       "南投縣           3500.000000     NaN     ...       13000.000000  4230.000000   \n",
       "台中市           3922.704545     NaN     ...       27675.000000  3974.524823   \n",
       "台北市           6621.349515     NaN     ...       40289.473684  6358.142857   \n",
       "台南市           3253.266667  3500.0     ...       18700.000000  3497.950820   \n",
       "台東縣           4750.000000     NaN     ...                NaN  3811.111111   \n",
       "嘉義市           3216.666667     NaN     ...       32500.000000  3077.000000   \n",
       "嘉義縣           2500.000000     NaN     ...       23500.000000  2175.000000   \n",
       "基隆市           3841.666667     NaN     ...       15750.000000  6833.333333   \n",
       "宜蘭縣           4875.000000     NaN     ...       20000.000000  4216.666667   \n",
       "屏東縣           3000.000000     NaN     ...        7200.000000  3674.193548   \n",
       "彰化縣           3854.545455  6800.0     ...       13862.500000  3726.666667   \n",
       "新北市           5129.363095     NaN     ...       27660.000000  4777.083333   \n",
       "新竹市           3948.484848     NaN     ...       32777.777778  3945.000000   \n",
       "新竹縣           3275.000000     NaN     ...       46014.705882  4392.307692   \n",
       "桃園市           4720.833333     NaN     ...       37872.000000  4484.057971   \n",
       "澎湖縣           4000.000000     NaN     ...                NaN          NaN   \n",
       "花蓮縣           3300.000000     NaN     ...       12500.000000  3900.000000   \n",
       "苗栗縣           3166.666667     NaN     ...       35000.000000  3156.916667   \n",
       "苗栗縣苗栗市                NaN     NaN     ...                NaN          NaN   \n",
       "金門縣                   NaN     NaN     ...       15000.000000  7000.000000   \n",
       "雲林縣           2500.000000     NaN     ...       60000.000000  3008.333333   \n",
       "高雄市           3522.500000     NaN     ...       36260.714286  3933.262097   \n",
       "\n",
       "building_use       電梯大樓/住辦        電梯大樓/其他     電梯大樓/分租套房        電梯大樓/店面  \\\n",
       "city                                                                     \n",
       "南投縣           27000.000000            NaN   6000.000000   56666.666667   \n",
       "台中市           47771.052632   75263.607143   6825.000000   90288.017467   \n",
       "台北市           52827.219931  132677.964706  12608.626087  191418.330827   \n",
       "台南市           20763.545455   25100.000000   5671.960000   60131.700000   \n",
       "台東縣                    NaN            NaN   5500.000000            NaN   \n",
       "嘉義市           16500.000000    9000.000000   5172.727273   22780.000000   \n",
       "嘉義縣                    NaN            NaN   6256.666667    9750.000000   \n",
       "基隆市           26280.000000   12000.000000   6836.363636   64842.105263   \n",
       "宜蘭縣           45000.000000            NaN   7071.428571   56749.750000   \n",
       "屏東縣                    NaN   10875.000000   4900.000000   19000.000000   \n",
       "彰化縣                    NaN            NaN   7100.000000   46888.888889   \n",
       "新北市           35331.748092   35153.806452   8352.653696   71333.706263   \n",
       "新竹市           47777.777778   56399.800000   7066.250000   61862.790698   \n",
       "新竹縣           14857.142857   18500.000000   7773.076923   89257.482353   \n",
       "桃園市           26321.568627   42377.461538   6294.071006   64776.190476   \n",
       "澎湖縣                    NaN            NaN           NaN  114000.000000   \n",
       "花蓮縣           15500.000000            NaN   6166.666667   19333.333333   \n",
       "苗栗縣           24000.000000   21000.000000   4920.000000   89814.666667   \n",
       "苗栗縣苗栗市                 NaN            NaN           NaN            NaN   \n",
       "金門縣                    NaN            NaN           NaN  350000.000000   \n",
       "雲林縣                    NaN            NaN   3300.000000   37150.000000   \n",
       "高雄市           26679.245283   12750.000000   6271.991304   87910.810811   \n",
       "\n",
       "building_use     電梯大樓/整層住家     電梯大樓/獨立套房        電梯大樓/辦公      電梯大樓/雅房  \n",
       "city                                                                  \n",
       "南投縣           12666.666667   5720.588235   50500.000000  3000.000000  \n",
       "台中市           26273.275725   7927.451311   57332.549918  4558.750000  \n",
       "台北市           64714.588389  20917.632911  165144.147224  7645.088496  \n",
       "台南市           18878.738189   6570.472897   24091.724138  3631.818182  \n",
       "台東縣                    NaN   5933.333333   30000.000000  4500.000000  \n",
       "嘉義市           12920.000000   5672.506667   28000.000000  2462.500000  \n",
       "嘉義縣           14166.666667   4047.518519            NaN  2500.000000  \n",
       "基隆市           16079.371134   8044.680851   67214.538462  4000.000000  \n",
       "宜蘭縣           16937.142857   8781.309735   39166.666667  4250.000000  \n",
       "屏東縣           11272.727273   5312.000000   21050.000000  3500.000000  \n",
       "彰化縣           14884.857143   5747.272727   46960.000000  3750.000000  \n",
       "新北市           27452.717103  26665.505760   95069.970266  6195.412844  \n",
       "新竹市           21816.702270   8248.243675  276105.754902  4683.333333  \n",
       "新竹縣           23111.333333   9620.294785   78100.814433  5500.000000  \n",
       "桃園市           18227.310618   8027.433121   49826.036232  5441.903846  \n",
       "澎湖縣                    NaN           NaN            NaN          NaN  \n",
       "花蓮縣           13781.250000   6992.000000   34000.000000  5000.000000  \n",
       "苗栗縣           13703.873786   5621.037975   43750.000000  4350.000000  \n",
       "苗栗縣苗栗市                 NaN           NaN            NaN          NaN  \n",
       "金門縣                    NaN   8400.000000            NaN          NaN  \n",
       "雲林縣           10083.333333   5018.718750   40000.000000  3900.000000  \n",
       "高雄市           22139.251501   7387.489697   48851.674912  4382.954545  \n",
       "\n",
       "[22 rows x 36 columns]"
      ]
     },
     "execution_count": 49,
     "metadata": {},
     "output_type": "execute_result"
    }
   ],
   "source": [
    "#df.groupby(['city','building_use'])['price'].mean()\n",
    "pandas.pivot_table(df, index='city', columns='building_use', values='price', aggfunc='mean')"
   ]
  },
  {
   "cell_type": "code",
   "execution_count": 52,
   "metadata": {},
   "outputs": [
    {
     "name": "stdout",
     "output_type": "stream",
     "text": [
      "Populating the interactive namespace from numpy and matplotlib\n"
     ]
    },
    {
     "data": {
      "text/plain": [
       "<matplotlib.axes._subplots.AxesSubplot at 0x1d510eb8>"
      ]
     },
     "execution_count": 52,
     "metadata": {},
     "output_type": "execute_result"
    },
    {
     "data": {
      "image/png": "[encoded data removed]",
      "text/plain": [
       "<matplotlib.figure.Figure at 0xaf40c18>"
      ]
     },
     "metadata": {},
     "output_type": "display_data"
    }
   ],
   "source": [
    "%pylab inline\n",
    "df[df['building_use'] == '公寓/分租套房'].boxplot(column='price',by='city')"
   ]
  }
 ],
 "metadata": {
  "kernelspec": {
   "display_name": "Python 3",
   "language": "python",
   "name": "python3"
  },
  "language_info": {
   "codemirror_mode": {
    "name": "ipython",
    "version": 3
   },
   "file_extension": ".py",
   "mimetype": "text/x-python",
   "name": "python",
   "nbconvert_exporter": "python",
   "pygments_lexer": "ipython3",
   "version": "3.6.1"
  }
 },
 "nbformat": 4,
 "nbformat_minor": 2
}
