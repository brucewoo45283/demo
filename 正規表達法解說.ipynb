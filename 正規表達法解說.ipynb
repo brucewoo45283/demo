{
 "cells": [
  {
   "cell_type": "code",
   "execution_count": 1,
   "id": "dba850d1",
   "metadata": {},
   "outputs": [],
   "source": [
    "import re #比對"
   ]
  },
  {
   "cell_type": "code",
   "execution_count": 2,
   "id": "13411393",
   "metadata": {},
   "outputs": [
    {
     "data": {
      "text/plain": [
       "False"
      ]
     },
     "execution_count": 2,
     "metadata": {},
     "output_type": "execute_result"
    }
   ],
   "source": [
    "#比對手機(p)是否在字串(s) \n",
    "p=\"0976362458\"\n",
    "s = 'my phone number is 0912345678'\n",
    "p in s"
   ]
  },
  {
   "cell_type": "code",
   "execution_count": 15,
   "id": "c3127b4d",
   "metadata": {},
   "outputs": [
    {
     "data": {
      "text/plain": [
       "<re.Match object; span=(0, 1), match='6'>"
      ]
     },
     "execution_count": 15,
     "metadata": {},
     "output_type": "execute_result"
    }
   ],
   "source": [
    "#比對數字:\n",
    "#數字如何表達? [0123456789]或[0-9]或\\d\n",
    "a = '6'\n",
    "re.match('6', a)\n",
    "# []: 可以比對在[]內的任意字元\n",
    "re.match('[0123456789]', a)\n",
    "# - : 連續 [0-9]代表 [0123456789]\n",
    "re.match('[0-9]', a)\n",
    "# \\d 代表 [0-9]\n",
    "re.match('\\d', a)"
   ]
  },
  {
   "cell_type": "code",
   "execution_count": 21,
   "id": "2baf95fb",
   "metadata": {},
   "outputs": [
    {
     "data": {
      "text/plain": [
       "<re.Match object; span=(0, 1), match='k'>"
      ]
     },
     "execution_count": 21,
     "metadata": {},
     "output_type": "execute_result"
    }
   ],
   "source": [
    "#比對字元，我要如何知道，字串裡有\"k\"這個字母?\n",
    "import re\n",
    "s = 'k'\n",
    "#sol(1)\n",
    "re.match('[abcdefghijlkmnopqrstuvwxyz]', s) #\"[26個英文字母]\"比對中括號內的任意字元"
   ]
  },
  {
   "cell_type": "code",
   "execution_count": 20,
   "id": "2e528651",
   "metadata": {},
   "outputs": [
    {
     "data": {
      "text/plain": [
       "<re.Match object; span=(0, 1), match='k'>"
      ]
     },
     "execution_count": 20,
     "metadata": {},
     "output_type": "execute_result"
    }
   ],
   "source": [
    "#sol(2)\n",
    "# [a-z] = [abcdefghijklmnopqrstuvwxyz]\n",
    "re.match('[a-z]', s) #:無法比對到大寫\n"
   ]
  },
  {
   "cell_type": "code",
   "execution_count": 22,
   "id": "dca33813",
   "metadata": {},
   "outputs": [
    {
     "data": {
      "text/plain": [
       "<re.Match object; span=(0, 1), match='L'>"
      ]
     },
     "execution_count": 22,
     "metadata": {},
     "output_type": "execute_result"
    }
   ],
   "source": [
    "#sol(3):能比對大寫\n",
    "s=\"L\"\n",
    "re.match(\"[a-zA-Z]\", s)"
   ]
  },
  {
   "cell_type": "code",
   "execution_count": 23,
   "id": "e10ac3bf",
   "metadata": {},
   "outputs": [
    {
     "data": {
      "text/plain": [
       "<re.Match object; span=(0, 1), match='L'>"
      ]
     },
     "execution_count": 23,
     "metadata": {},
     "output_type": "execute_result"
    }
   ],
   "source": [
    "# 同時要比對數字及英文字母\n",
    "re.match('[a-zA-Z0-9]', s)\n",
    "\n"
   ]
  },
  {
   "cell_type": "code",
   "execution_count": 24,
   "id": "14b00eef",
   "metadata": {},
   "outputs": [
    {
     "data": {
      "text/plain": [
       "<re.Match object; span=(0, 1), match='L'>"
      ]
     },
     "execution_count": 24,
     "metadata": {},
     "output_type": "execute_result"
    }
   ],
   "source": [
    "# 萬用解法:\\w 也代表[a-zA-Z0-9]\n",
    "re.match('\\w', s)"
   ]
  },
  {
   "cell_type": "markdown",
   "id": "d5f02df6",
   "metadata": {},
   "source": [
    "### 比對任意字元"
   ]
  },
  {
   "cell_type": "markdown",
   "id": "c2dc1160",
   "metadata": {},
   "source": []
  },
  {
   "cell_type": "code",
   "execution_count": 30,
   "id": "6d3a7599",
   "metadata": {},
   "outputs": [],
   "source": [
    "s = '$'           #我想比對是否有$這個符號\n",
    "re.match('\\w', s)\n",
    "#比對不出結果\n"
   ]
  },
  {
   "cell_type": "code",
   "execution_count": 31,
   "id": "c87d5f6b",
   "metadata": {},
   "outputs": [
    {
     "data": {
      "text/plain": [
       "<re.Match object; span=(0, 1), match='$'>"
      ]
     },
     "execution_count": 31,
     "metadata": {},
     "output_type": "execute_result"
    }
   ],
   "source": [
    "## 句號:\".\" = 比對任意字元\n",
    "re.match('.', s)"
   ]
  },
  {
   "cell_type": "markdown",
   "id": "7901558c",
   "metadata": {},
   "source": [
    "### 比對多個字元"
   ]
  },
  {
   "cell_type": "code",
   "execution_count": 32,
   "id": "b6aefac6",
   "metadata": {},
   "outputs": [
    {
     "data": {
      "text/plain": [
       "<re.Match object; span=(0, 4), match='8888'>"
      ]
     },
     "execution_count": 32,
     "metadata": {},
     "output_type": "execute_result"
    }
   ],
   "source": [
    "s = '8888'\n",
    "# sol(1)大括號，{}\n",
    "#{4} = 比對到四個字元\n",
    "re.match('\\d{4}', s) #\\d(任意字元)出現了4次 \n",
    "\n"
   ]
  },
  {
   "cell_type": "code",
   "execution_count": 33,
   "id": "ddfa280c",
   "metadata": {},
   "outputs": [
    {
     "data": {
      "text/plain": [
       "<re.Match object; span=(0, 4), match='8888'>"
      ]
     },
     "execution_count": 33,
     "metadata": {},
     "output_type": "execute_result"
    }
   ],
   "source": [
    "# sol(2) 有可能是三碼或5碼\n",
    "#{3,5} = 比對到 3 ~ 5 個字元\n",
    "re.match('\\d{3,5}', s)"
   ]
  },
  {
   "cell_type": "code",
   "execution_count": 34,
   "id": "2a38c6e7",
   "metadata": {},
   "outputs": [
    {
     "data": {
      "text/plain": [
       "<re.Match object; span=(0, 4), match='8888'>"
      ]
     },
     "execution_count": 34,
     "metadata": {},
     "output_type": "execute_result"
    }
   ],
   "source": [
    "# sol(3):{1,}\n",
    "#{1,} = 比對到一個以上字元 我的字串s是不是一個以上的字元組成?\n",
    "re.match('\\d{1,}', s)"
   ]
  },
  {
   "cell_type": "code",
   "execution_count": 35,
   "id": "89f07e1a",
   "metadata": {},
   "outputs": [
    {
     "data": {
      "text/plain": [
       "<re.Match object; span=(0, 4), match='8888'>"
      ]
     },
     "execution_count": 35,
     "metadata": {},
     "output_type": "execute_result"
    }
   ],
   "source": [
    "#sol(4): + 等價於 {1,}，1個以上\n",
    "re.match('\\d+', s)\n",
    "\n"
   ]
  },
  {
   "cell_type": "code",
   "execution_count": 36,
   "id": "abbbf4c3",
   "metadata": {},
   "outputs": [
    {
     "data": {
      "text/plain": [
       "<re.Match object; span=(0, 4), match='8888'>"
      ]
     },
     "execution_count": 36,
     "metadata": {},
     "output_type": "execute_result"
    }
   ],
   "source": [
    "#比對到零個以上字元 {0,}  \n",
    "re.match('\\d{0,}', s)"
   ]
  },
  {
   "cell_type": "code",
   "execution_count": 37,
   "id": "5737b446",
   "metadata": {},
   "outputs": [
    {
     "data": {
      "text/plain": [
       "<re.Match object; span=(0, 4), match='8888'>"
      ]
     },
     "execution_count": 37,
     "metadata": {},
     "output_type": "execute_result"
    }
   ],
   "source": [
    "# sol(1):* 等價於 {0,} 0個以上\n",
    "re.match('\\d*', s)"
   ]
  },
  {
   "cell_type": "code",
   "execution_count": null,
   "id": "f8b4ff62",
   "metadata": {},
   "outputs": [],
   "source": []
  }
 ],
 "metadata": {
  "kernelspec": {
   "display_name": "Python 3",
   "language": "python",
   "name": "python3"
  },
  "language_info": {
   "codemirror_mode": {
    "name": "ipython",
    "version": 3
   },
   "file_extension": ".py",
   "mimetype": "text/x-python",
   "name": "python",
   "nbconvert_exporter": "python",
   "pygments_lexer": "ipython3",
   "version": "3.8.8"
  }
 },
 "nbformat": 4,
 "nbformat_minor": 5
}
