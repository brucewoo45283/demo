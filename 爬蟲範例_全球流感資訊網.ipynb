{
 "cells": [
  {
   "cell_type": "markdown",
   "id": "aecbd609",
   "metadata": {},
   "source": [
    "# 目標網站\n",
    "http://www.flu.org.cn/scn/default.html"
   ]
  },
  {
   "cell_type": "code",
   "execution_count": null,
   "id": "9c432b55",
   "metadata": {},
   "outputs": [],
   "source": []
  }
 ],
 "metadata": {
  "kernelspec": {
   "display_name": "Python 3",
   "language": "python",
   "name": "python3"
  },
  "language_info": {
   "codemirror_mode": {
    "name": "ipython",
    "version": 3
   },
   "file_extension": ".py",
   "mimetype": "text/x-python",
   "name": "python",
   "nbconvert_exporter": "python",
   "pygments_lexer": "ipython3",
   "version": "3.8.8"
  }
 },
 "nbformat": 4,
 "nbformat_minor": 5
}
