{
 "cells": [
  {
   "cell_type": "code",
   "execution_count": null,
   "id": "a432cab4",
   "metadata": {},
   "outputs": [],
   "source": [
    "#numpy&series"
   ]
  },
  {
   "cell_type": "code",
   "execution_count": 50,
   "id": "92944b23",
   "metadata": {},
   "outputs": [],
   "source": [
    "#單維度資料\n",
    "#1. 資料索引：\n",
    "# 1. 資料索引：\n",
    "# 1.1 什麼是資料索引。\n",
    "# 1.2 內建的資料索引。\n",
    "# 1.3 自訂的資料索引。\n",
    "\n",
    "# 2. 觀察資料：\n",
    "# 2.1 資料型態。\n",
    "# 2.2 資料數量。\n",
    "# 2.3 資料索引。\n",
    "\n",
    "# 3. 數字資料的運算：\n",
    "# 3.1 數學運算：最大最小值，加法總和，乘法總和。\n",
    "# 3.2 統計運算：平均數，中位數，標準差。\n",
    "# 3.3 排序運算：最大的 n 個數字、最小的 n 個數字。\n",
    "\n",
    "# 4. 字串資料的運算：\n",
    "# 4.1 轉換成大小寫。\n",
    "# 4.2 串接字串。\n",
    "# 4.3 字串長度。\n",
    "# 4.4 搜尋字串中是否包含其他字串。\n",
    "# 4.5 取代字串中的文字。\n",
    "\n"
   ]
  },
  {
   "cell_type": "code",
   "execution_count": 2,
   "id": "b3a9a4a6",
   "metadata": {},
   "outputs": [],
   "source": [
    "#使用numpy\n",
    "import numpy as np"
   ]
  },
  {
   "cell_type": "code",
   "execution_count": 4,
   "id": "417cc2a6",
   "metadata": {},
   "outputs": [
    {
     "name": "stdout",
     "output_type": "stream",
     "text": [
      "3 2\n",
      "7 12\n",
      "11 30\n",
      "15 56\n",
      "19 90\n"
     ]
    }
   ],
   "source": [
    "#舊方法:for迴圈 依據位置取值 再相加\n",
    "a = [1,3,5,7,9]\n",
    "b = [2,4,6,8,10]\n",
    "for i in range(0, len(a)):\n",
    "    print(a[i]+b[i], a[i]*b[i])"
   ]
  },
  {
   "cell_type": "code",
   "execution_count": 5,
   "id": "1276adb2",
   "metadata": {},
   "outputs": [
    {
     "name": "stdout",
     "output_type": "stream",
     "text": [
      "3 2\n",
      "7 12\n",
      "11 30\n",
      "15 56\n",
      "19 90\n"
     ]
    }
   ],
   "source": [
    "#舊方法:使用zip內建函式 依據位置取值 再相加\n",
    "for i,j in zip(a,b):\n",
    "    print(i+j, i*j)"
   ]
  },
  {
   "cell_type": "code",
   "execution_count": 7,
   "id": "c6959875",
   "metadata": {},
   "outputs": [
    {
     "data": {
      "text/plain": [
       "array([ 2, 12, 30, 56, 90])"
      ]
     },
     "execution_count": 7,
     "metadata": {},
     "output_type": "execute_result"
    }
   ],
   "source": [
    "#best solution:轉成numpy，類似R的向量資料格式\n",
    "na=np.array(a)\n",
    "nb=np.array(b)\n",
    "na+nb\n",
    "na*nb"
   ]
  },
  {
   "cell_type": "code",
   "execution_count": 11,
   "id": "39b39596",
   "metadata": {},
   "outputs": [
    {
     "data": {
      "text/plain": [
       "1"
      ]
     },
     "execution_count": 11,
     "metadata": {},
     "output_type": "execute_result"
    }
   ],
   "source": [
    "#np運算\n",
    "na = np.array([1,2,3,4,5])\n",
    "na[0]\n"
   ]
  },
  {
   "cell_type": "code",
   "execution_count": 12,
   "id": "750e7420",
   "metadata": {},
   "outputs": [
    {
     "data": {
      "text/plain": [
       "array([4, 5])"
      ]
     },
     "execution_count": 12,
     "metadata": {},
     "output_type": "execute_result"
    }
   ],
   "source": [
    "#依條件 篩選值\n",
    "na>3\n",
    "na[na>3]"
   ]
  },
  {
   "cell_type": "code",
   "execution_count": 15,
   "id": "faefabef",
   "metadata": {},
   "outputs": [
    {
     "data": {
      "text/plain": [
       "array([[ 1,  2,  3,  4,  5],\n",
       "       [ 6,  7,  8,  9, 10]])"
      ]
     },
     "execution_count": 15,
     "metadata": {},
     "output_type": "execute_result"
    }
   ],
   "source": [
    "#用np來建構二維陣列，記得最外層的中括號，別忘記\n",
    "na=np.array(\n",
    "    [[1,2,3,4, 5],\n",
    "    [6,7,8,9,10]]\n",
    ")\n",
    "na"
   ]
  },
  {
   "cell_type": "code",
   "execution_count": 21,
   "id": "26b2acf7",
   "metadata": {},
   "outputs": [
    {
     "data": {
      "text/plain": [
       "array([1, 2, 3, 4, 5])"
      ]
     },
     "execution_count": 21,
     "metadata": {},
     "output_type": "execute_result"
    }
   ],
   "source": [
    "#np二維陣列的運算\n",
    "#取第一列所有的資料\n",
    "na[0,:]\n"
   ]
  },
  {
   "cell_type": "code",
   "execution_count": 20,
   "id": "9e608da1",
   "metadata": {},
   "outputs": [
    {
     "data": {
      "text/plain": [
       "array([1, 6])"
      ]
     },
     "execution_count": 20,
     "metadata": {},
     "output_type": "execute_result"
    }
   ],
   "source": [
    "##取第一行所有的資料 [列, 欄]\n",
    "na[:,0]"
   ]
  },
  {
   "cell_type": "code",
   "execution_count": 23,
   "id": "00d3c534",
   "metadata": {},
   "outputs": [
    {
     "data": {
      "text/plain": [
       "array([['frank', 'M', '29'],\n",
       "       ['mary', 'F', '23'],\n",
       "       ['tom', 'M', '35'],\n",
       "       ['ted', 'M', '33'],\n",
       "       ['jean', 'F', '21'],\n",
       "       ['lisa', 'F', '20']], dtype='<U11')"
      ]
     },
     "execution_count": 23,
     "metadata": {},
     "output_type": "execute_result"
    }
   ],
   "source": [
    "#欄位命名(x)\n",
    "na=np.array([['frank','M',29],['mary','F',23],['tom','M',35],['ted','M',33],['jean','F',21],['lisa','F',20]]) #29是整數\n",
    "na #output的\"29\" 卻變成字串，array 會要求陣列裡面的資料型態都相同 取最大公約數 把整數變成字串，np.array不能增添欄位名稱、不能放不同類型資料"
   ]
  },
  {
   "cell_type": "code",
   "execution_count": 25,
   "id": "787b5024",
   "metadata": {},
   "outputs": [
    {
     "data": {
      "text/html": [
       "<div>\n",
       "<style scoped>\n",
       "    .dataframe tbody tr th:only-of-type {\n",
       "        vertical-align: middle;\n",
       "    }\n",
       "\n",
       "    .dataframe tbody tr th {\n",
       "        vertical-align: top;\n",
       "    }\n",
       "\n",
       "    .dataframe thead th {\n",
       "        text-align: right;\n",
       "    }\n",
       "</style>\n",
       "<table border=\"1\" class=\"dataframe\">\n",
       "  <thead>\n",
       "    <tr style=\"text-align: right;\">\n",
       "      <th></th>\n",
       "      <th>0</th>\n",
       "      <th>1</th>\n",
       "      <th>2</th>\n",
       "    </tr>\n",
       "  </thead>\n",
       "  <tbody>\n",
       "    <tr>\n",
       "      <th>0</th>\n",
       "      <td>frank</td>\n",
       "      <td>M</td>\n",
       "      <td>29</td>\n",
       "    </tr>\n",
       "    <tr>\n",
       "      <th>1</th>\n",
       "      <td>mary</td>\n",
       "      <td>F</td>\n",
       "      <td>23</td>\n",
       "    </tr>\n",
       "    <tr>\n",
       "      <th>2</th>\n",
       "      <td>tom</td>\n",
       "      <td>M</td>\n",
       "      <td>35</td>\n",
       "    </tr>\n",
       "    <tr>\n",
       "      <th>3</th>\n",
       "      <td>ted</td>\n",
       "      <td>M</td>\n",
       "      <td>33</td>\n",
       "    </tr>\n",
       "    <tr>\n",
       "      <th>4</th>\n",
       "      <td>jean</td>\n",
       "      <td>F</td>\n",
       "      <td>21</td>\n",
       "    </tr>\n",
       "    <tr>\n",
       "      <th>5</th>\n",
       "      <td>lisa</td>\n",
       "      <td>F</td>\n",
       "      <td>20</td>\n",
       "    </tr>\n",
       "  </tbody>\n",
       "</table>\n",
       "</div>"
      ],
      "text/plain": [
       "       0  1   2\n",
       "0  frank  M  29\n",
       "1   mary  F  23\n",
       "2    tom  M  35\n",
       "3    ted  M  33\n",
       "4   jean  F  21\n",
       "5   lisa  F  20"
      ]
     },
     "execution_count": 25,
     "metadata": {},
     "output_type": "execute_result"
    }
   ],
   "source": [
    "#sol:引出dataFrame結構\n",
    "import pandas as pd\n",
    "df=pd.DataFrame([['frank','M',29],['mary','F',23],['tom','M',35],['ted','M',33],['jean','F',21],['lisa','F',20]])\n",
    "df\n"
   ]
  },
  {
   "cell_type": "code",
   "execution_count": 26,
   "id": "4ea9a19d",
   "metadata": {},
   "outputs": [
    {
     "data": {
      "text/html": [
       "<div>\n",
       "<style scoped>\n",
       "    .dataframe tbody tr th:only-of-type {\n",
       "        vertical-align: middle;\n",
       "    }\n",
       "\n",
       "    .dataframe tbody tr th {\n",
       "        vertical-align: top;\n",
       "    }\n",
       "\n",
       "    .dataframe thead th {\n",
       "        text-align: right;\n",
       "    }\n",
       "</style>\n",
       "<table border=\"1\" class=\"dataframe\">\n",
       "  <thead>\n",
       "    <tr style=\"text-align: right;\">\n",
       "      <th></th>\n",
       "      <th>name</th>\n",
       "      <th>gender</th>\n",
       "      <th>age</th>\n",
       "    </tr>\n",
       "  </thead>\n",
       "  <tbody>\n",
       "    <tr>\n",
       "      <th>0</th>\n",
       "      <td>frank</td>\n",
       "      <td>M</td>\n",
       "      <td>29</td>\n",
       "    </tr>\n",
       "    <tr>\n",
       "      <th>1</th>\n",
       "      <td>mary</td>\n",
       "      <td>F</td>\n",
       "      <td>23</td>\n",
       "    </tr>\n",
       "    <tr>\n",
       "      <th>2</th>\n",
       "      <td>tom</td>\n",
       "      <td>M</td>\n",
       "      <td>35</td>\n",
       "    </tr>\n",
       "    <tr>\n",
       "      <th>3</th>\n",
       "      <td>ted</td>\n",
       "      <td>M</td>\n",
       "      <td>33</td>\n",
       "    </tr>\n",
       "    <tr>\n",
       "      <th>4</th>\n",
       "      <td>jean</td>\n",
       "      <td>F</td>\n",
       "      <td>21</td>\n",
       "    </tr>\n",
       "    <tr>\n",
       "      <th>5</th>\n",
       "      <td>lisa</td>\n",
       "      <td>F</td>\n",
       "      <td>20</td>\n",
       "    </tr>\n",
       "  </tbody>\n",
       "</table>\n",
       "</div>"
      ],
      "text/plain": [
       "    name gender  age\n",
       "0  frank      M   29\n",
       "1   mary      F   23\n",
       "2    tom      M   35\n",
       "3    ted      M   33\n",
       "4   jean      F   21\n",
       "5   lisa      F   20"
      ]
     },
     "execution_count": 26,
     "metadata": {},
     "output_type": "execute_result"
    }
   ],
   "source": [
    "#增添欄位名稱\n",
    "df.columns=[\"name\", \"gender\", \"age\"]\n",
    "df"
   ]
  },
  {
   "cell_type": "code",
   "execution_count": 27,
   "id": "5fa8687c",
   "metadata": {},
   "outputs": [
    {
     "data": {
      "text/html": [
       "<div>\n",
       "<style scoped>\n",
       "    .dataframe tbody tr th:only-of-type {\n",
       "        vertical-align: middle;\n",
       "    }\n",
       "\n",
       "    .dataframe tbody tr th {\n",
       "        vertical-align: top;\n",
       "    }\n",
       "\n",
       "    .dataframe thead th {\n",
       "        text-align: right;\n",
       "    }\n",
       "</style>\n",
       "<table border=\"1\" class=\"dataframe\">\n",
       "  <thead>\n",
       "    <tr style=\"text-align: right;\">\n",
       "      <th></th>\n",
       "      <th>age</th>\n",
       "    </tr>\n",
       "  </thead>\n",
       "  <tbody>\n",
       "    <tr>\n",
       "      <th>count</th>\n",
       "      <td>6.000000</td>\n",
       "    </tr>\n",
       "    <tr>\n",
       "      <th>mean</th>\n",
       "      <td>26.833333</td>\n",
       "    </tr>\n",
       "    <tr>\n",
       "      <th>std</th>\n",
       "      <td>6.400521</td>\n",
       "    </tr>\n",
       "    <tr>\n",
       "      <th>min</th>\n",
       "      <td>20.000000</td>\n",
       "    </tr>\n",
       "    <tr>\n",
       "      <th>25%</th>\n",
       "      <td>21.500000</td>\n",
       "    </tr>\n",
       "    <tr>\n",
       "      <th>50%</th>\n",
       "      <td>26.000000</td>\n",
       "    </tr>\n",
       "    <tr>\n",
       "      <th>75%</th>\n",
       "      <td>32.000000</td>\n",
       "    </tr>\n",
       "    <tr>\n",
       "      <th>max</th>\n",
       "      <td>35.000000</td>\n",
       "    </tr>\n",
       "  </tbody>\n",
       "</table>\n",
       "</div>"
      ],
      "text/plain": [
       "             age\n",
       "count   6.000000\n",
       "mean   26.833333\n",
       "std     6.400521\n",
       "min    20.000000\n",
       "25%    21.500000\n",
       "50%    26.000000\n",
       "75%    32.000000\n",
       "max    35.000000"
      ]
     },
     "execution_count": 27,
     "metadata": {},
     "output_type": "execute_result"
    }
   ],
   "source": [
    "#dataFrame運算\n",
    "df[\"age\"].mean()\n",
    "#摘要統計值\n",
    "df.describe()"
   ]
  },
  {
   "cell_type": "code",
   "execution_count": 31,
   "id": "93bdaf2d",
   "metadata": {},
   "outputs": [
    {
     "data": {
      "text/html": [
       "<div>\n",
       "<style scoped>\n",
       "    .dataframe tbody tr th:only-of-type {\n",
       "        vertical-align: middle;\n",
       "    }\n",
       "\n",
       "    .dataframe tbody tr th {\n",
       "        vertical-align: top;\n",
       "    }\n",
       "\n",
       "    .dataframe thead th {\n",
       "        text-align: right;\n",
       "    }\n",
       "</style>\n",
       "<table border=\"1\" class=\"dataframe\">\n",
       "  <thead>\n",
       "    <tr style=\"text-align: right;\">\n",
       "      <th></th>\n",
       "      <th>name</th>\n",
       "      <th>gender</th>\n",
       "      <th>age</th>\n",
       "    </tr>\n",
       "  </thead>\n",
       "  <tbody>\n",
       "    <tr>\n",
       "      <th>0</th>\n",
       "      <td>frank</td>\n",
       "      <td>M</td>\n",
       "      <td>29</td>\n",
       "    </tr>\n",
       "    <tr>\n",
       "      <th>2</th>\n",
       "      <td>tom</td>\n",
       "      <td>M</td>\n",
       "      <td>35</td>\n",
       "    </tr>\n",
       "    <tr>\n",
       "      <th>3</th>\n",
       "      <td>ted</td>\n",
       "      <td>M</td>\n",
       "      <td>33</td>\n",
       "    </tr>\n",
       "  </tbody>\n",
       "</table>\n",
       "</div>"
      ],
      "text/plain": [
       "    name gender  age\n",
       "0  frank      M   29\n",
       "2    tom      M   35\n",
       "3    ted      M   33"
      ]
     },
     "execution_count": 31,
     "metadata": {},
     "output_type": "execute_result"
    }
   ],
   "source": [
    "#根據值篩選列\n",
    "df[df[\"gender\"]==\"M\"]"
   ]
  },
  {
   "cell_type": "code",
   "execution_count": 33,
   "id": "b4e66e20",
   "metadata": {},
   "outputs": [
    {
     "data": {
      "text/plain": [
       "gender\n",
       "F    21.333333\n",
       "M    32.333333\n",
       "Name: age, dtype: float64"
      ]
     },
     "execution_count": 33,
     "metadata": {},
     "output_type": "execute_result"
    }
   ],
   "source": [
    "#分組計算:根據性別算平均年齡\n",
    "df.groupby(\"gender\")[\"age\"].mean()\n"
   ]
  },
  {
   "cell_type": "code",
   "execution_count": 35,
   "id": "4ce68b29",
   "metadata": {},
   "outputs": [
    {
     "name": "stdout",
     "output_type": "stream",
     "text": [
      "Populating the interactive namespace from numpy and matplotlib\n"
     ]
    },
    {
     "data": {
      "text/plain": [
       "<AxesSubplot:xlabel='gender'>"
      ]
     },
     "execution_count": 35,
     "metadata": {},
     "output_type": "execute_result"
    },
    {
     "data": {
      "image/png": "[encoded data removed]",
      "text/plain": [
       "<Figure size 432x288 with 1 Axes>"
      ]
     },
     "metadata": {
      "needs_background": "light"
     },
     "output_type": "display_data"
    }
   ],
   "source": [
    "#視覺化 \n",
    "%pylab inline\n",
    "df.groupby('gender')['age'].mean().plot(kind= 'bar')"
   ]
  },
  {
   "cell_type": "code",
   "execution_count": 37,
   "id": "50b5dfe1",
   "metadata": {},
   "outputs": [
    {
     "data": {
      "text/plain": [
       "櫻木    42000\n",
       "三井    38000\n",
       "流川    56000\n",
       "dtype: int64"
      ]
     },
     "execution_count": 37,
     "metadata": {},
     "output_type": "execute_result"
    }
   ],
   "source": [
    "#Series:pandas資料結構，pandas裡面的\"array\" \"list\"(一維物件)，但我可以取名 → 類似字典的鍵值對\n",
    "s=pd.Series([42000,38000,56000], index=[\"櫻木\",\"三井\",\"流川\"])\n",
    "s"
   ]
  },
  {
   "cell_type": "code",
   "execution_count": 44,
   "id": "eb19f1b3",
   "metadata": {},
   "outputs": [
    {
     "data": {
      "text/plain": [
       "櫻木    42000\n",
       "流川    56000\n",
       "dtype: int64"
      ]
     },
     "execution_count": 44,
     "metadata": {},
     "output_type": "execute_result"
    }
   ],
   "source": [
    "#Series篩選\n",
    "#依據位置\n",
    "s[2]\n",
    "#篩選多筆\n",
    "s[1:3]\n",
    "#依據值篩選\n",
    "s[s<40000]\n",
    "##依據鍵篩選\n",
    "s[[\"櫻木\", \"流川\"]]"
   ]
  },
  {
   "cell_type": "code",
   "execution_count": 47,
   "id": "fecea4c7",
   "metadata": {},
   "outputs": [
    {
     "data": {
      "text/plain": [
       "櫻木    42000\n",
       "三井    41800\n",
       "流川    56000\n",
       "dtype: int64"
      ]
     },
     "execution_count": 47,
     "metadata": {},
     "output_type": "execute_result"
    }
   ],
   "source": [
    "#series的值運算後，並修改原資料\n",
    "#40000以下的加新10%\n",
    "s[s<40000]=s[s<40000]*1.1\n",
    "s"
   ]
  },
  {
   "cell_type": "code",
   "execution_count": 49,
   "id": "8e52e35a",
   "metadata": {},
   "outputs": [
    {
     "data": {
      "text/plain": [
       "True"
      ]
     },
     "execution_count": 49,
     "metadata": {},
     "output_type": "execute_result"
    }
   ],
   "source": [
    "#example 1 : series用字典的方式建立\n",
    "s= pd.Series({'Iphone':21000,'Edge S7':18900,'HTC M1':18000})\n",
    "#series裡是否有\"Iphone\"字串\n",
    "\"Iphone\" in s"
   ]
  },
  {
   "cell_type": "code",
   "execution_count": null,
   "id": "8aed2492",
   "metadata": {},
   "outputs": [],
   "source": []
  }
 ],
 "metadata": {
  "kernelspec": {
   "display_name": "Python 3",
   "language": "python",
   "name": "python3"
  },
  "language_info": {
   "codemirror_mode": {
    "name": "ipython",
    "version": 3
   },
   "file_extension": ".py",
   "mimetype": "text/x-python",
   "name": "python",
   "nbconvert_exporter": "python",
   "pygments_lexer": "ipython3",
   "version": "3.8.8"
  }
 },
 "nbformat": 4,
 "nbformat_minor": 5
}
